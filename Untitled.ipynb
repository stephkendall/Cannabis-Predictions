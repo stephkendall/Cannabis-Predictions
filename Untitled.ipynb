{
 "cells": [
  {
   "cell_type": "code",
   "execution_count": 1,
   "metadata": {},
   "outputs": [],
   "source": [
    "import pandas as pd"
   ]
  },
  {
   "cell_type": "code",
   "execution_count": 4,
   "metadata": {},
   "outputs": [
    {
     "name": "stderr",
     "output_type": "stream",
     "text": [
      "b'Skipping line 1333: expected 6 fields, saw 10\\nSkipping line 1655: expected 6 fields, saw 10\\nSkipping line 1656: expected 6 fields, saw 10\\nSkipping line 1657: expected 6 fields, saw 10\\nSkipping line 2102: expected 6 fields, saw 10\\n'\n"
     ]
    },
    {
     "data": {
      "text/html": [
       "<div>\n",
       "<style scoped>\n",
       "    .dataframe tbody tr th:only-of-type {\n",
       "        vertical-align: middle;\n",
       "    }\n",
       "\n",
       "    .dataframe tbody tr th {\n",
       "        vertical-align: top;\n",
       "    }\n",
       "\n",
       "    .dataframe thead th {\n",
       "        text-align: right;\n",
       "    }\n",
       "</style>\n",
       "<table border=\"1\" class=\"dataframe\">\n",
       "  <thead>\n",
       "    <tr style=\"text-align: right;\">\n",
       "      <th></th>\n",
       "      <th>strain</th>\n",
       "      <th>type</th>\n",
       "      <th>rating</th>\n",
       "      <th>effects</th>\n",
       "      <th>taste</th>\n",
       "      <th>description</th>\n",
       "    </tr>\n",
       "  </thead>\n",
       "  <tbody>\n",
       "    <tr>\n",
       "      <th>0</th>\n",
       "      <td>100-og</td>\n",
       "      <td>hybrid</td>\n",
       "      <td>4</td>\n",
       "      <td>Creative,Energetic,Tingly,Euphoric,Relaxed</td>\n",
       "      <td>Earthy,Sweet,Citrus</td>\n",
       "      <td>$100 OG is a 50/50 hybrid strain that packs a ...</td>\n",
       "    </tr>\n",
       "    <tr>\n",
       "      <th>1</th>\n",
       "      <td>98-white-widow</td>\n",
       "      <td>hybrid</td>\n",
       "      <td>4.7</td>\n",
       "      <td>Relaxed,Aroused,Creative,Happy,Energetic</td>\n",
       "      <td>Flowery,Violet,Diesel</td>\n",
       "      <td>The ‘98 Aloha White Widow is an especially pot...</td>\n",
       "    </tr>\n",
       "    <tr>\n",
       "      <th>2</th>\n",
       "      <td>1024</td>\n",
       "      <td>sativa</td>\n",
       "      <td>4.4</td>\n",
       "      <td>Uplifted,Happy,Relaxed,Energetic,Creative</td>\n",
       "      <td>Spicy/Herbal,Sage,Woody</td>\n",
       "      <td>1024 is a sativa-dominant hybrid bred in Spain...</td>\n",
       "    </tr>\n",
       "    <tr>\n",
       "      <th>3</th>\n",
       "      <td>13-dawgs</td>\n",
       "      <td>hybrid</td>\n",
       "      <td>4.2</td>\n",
       "      <td>Tingly,Creative,Hungry,Relaxed,Uplifted</td>\n",
       "      <td>Apricot,Citrus,Grapefruit</td>\n",
       "      <td>13 Dawgs is a hybrid of G13 and Chemdawg genet...</td>\n",
       "    </tr>\n",
       "    <tr>\n",
       "      <th>4</th>\n",
       "      <td>24k-gold</td>\n",
       "      <td>hybrid</td>\n",
       "      <td>4.6</td>\n",
       "      <td>Happy,Relaxed,Euphoric,Uplifted,Talkative</td>\n",
       "      <td>Citrus,Earthy,Orange</td>\n",
       "      <td>Also known as Kosher Tangie, 24k Gold is a 60%...</td>\n",
       "    </tr>\n",
       "  </tbody>\n",
       "</table>\n",
       "</div>"
      ],
      "text/plain": [
       "           strain    type rating                                     effects  \\\n",
       "0          100-og  hybrid      4  Creative,Energetic,Tingly,Euphoric,Relaxed   \n",
       "1  98-white-widow  hybrid    4.7    Relaxed,Aroused,Creative,Happy,Energetic   \n",
       "2            1024  sativa    4.4   Uplifted,Happy,Relaxed,Energetic,Creative   \n",
       "3        13-dawgs  hybrid    4.2     Tingly,Creative,Hungry,Relaxed,Uplifted   \n",
       "4        24k-gold  hybrid    4.6   Happy,Relaxed,Euphoric,Uplifted,Talkative   \n",
       "\n",
       "                       taste  \\\n",
       "0        Earthy,Sweet,Citrus   \n",
       "1      Flowery,Violet,Diesel   \n",
       "2    Spicy/Herbal,Sage,Woody   \n",
       "3  Apricot,Citrus,Grapefruit   \n",
       "4       Citrus,Earthy,Orange   \n",
       "\n",
       "                                         description  \n",
       "0  $100 OG is a 50/50 hybrid strain that packs a ...  \n",
       "1  The ‘98 Aloha White Widow is an especially pot...  \n",
       "2  1024 is a sativa-dominant hybrid bred in Spain...  \n",
       "3  13 Dawgs is a hybrid of G13 and Chemdawg genet...  \n",
       "4  Also known as Kosher Tangie, 24k Gold is a 60%...  "
      ]
     },
     "execution_count": 4,
     "metadata": {},
     "output_type": "execute_result"
    }
   ],
   "source": [
    "can = pd.read_csv('cannabis.csv', error_bad_lines=False)\n",
    "can.head()"
   ]
  },
  {
   "cell_type": "code",
   "execution_count": 5,
   "metadata": {},
   "outputs": [
    {
     "name": "stdout",
     "output_type": "stream",
     "text": [
      "<class 'pandas.core.frame.DataFrame'>\n",
      "RangeIndex: 2348 entries, 0 to 2347\n",
      "Data columns (total 6 columns):\n",
      "strain         2347 non-null object\n",
      "type           2347 non-null object\n",
      "rating         2347 non-null object\n",
      "effects        2347 non-null object\n",
      "taste          2301 non-null object\n",
      "description    2314 non-null object\n",
      "dtypes: object(6)\n",
      "memory usage: 110.1+ KB\n"
     ]
    }
   ],
   "source": [
    "can.info()"
   ]
  },
  {
   "cell_type": "code",
   "execution_count": 6,
   "metadata": {},
   "outputs": [
    {
     "data": {
      "text/html": [
       "<div>\n",
       "<style scoped>\n",
       "    .dataframe tbody tr th:only-of-type {\n",
       "        vertical-align: middle;\n",
       "    }\n",
       "\n",
       "    .dataframe tbody tr th {\n",
       "        vertical-align: top;\n",
       "    }\n",
       "\n",
       "    .dataframe thead th {\n",
       "        text-align: right;\n",
       "    }\n",
       "</style>\n",
       "<table border=\"1\" class=\"dataframe\">\n",
       "  <thead>\n",
       "    <tr style=\"text-align: right;\">\n",
       "      <th></th>\n",
       "      <th>strain</th>\n",
       "      <th>type</th>\n",
       "      <th>rating</th>\n",
       "      <th>effects</th>\n",
       "      <th>taste</th>\n",
       "      <th>description</th>\n",
       "    </tr>\n",
       "  </thead>\n",
       "  <tbody>\n",
       "    <tr>\n",
       "      <th>count</th>\n",
       "      <td>2347</td>\n",
       "      <td>2347</td>\n",
       "      <td>2347</td>\n",
       "      <td>2347</td>\n",
       "      <td>2301</td>\n",
       "      <td>2314</td>\n",
       "    </tr>\n",
       "    <tr>\n",
       "      <th>unique</th>\n",
       "      <td>2346</td>\n",
       "      <td>3</td>\n",
       "      <td>26</td>\n",
       "      <td>1649</td>\n",
       "      <td>1293</td>\n",
       "      <td>2311</td>\n",
       "    </tr>\n",
       "    <tr>\n",
       "      <th>top</th>\n",
       "      <td>b-witched</td>\n",
       "      <td>hybrid</td>\n",
       "      <td>4.5</td>\n",
       "      <td>None</td>\n",
       "      <td>None</td>\n",
       "      <td>Blue Trainwreck is a sativa-dominant hybrid cr...</td>\n",
       "    </tr>\n",
       "    <tr>\n",
       "      <th>freq</th>\n",
       "      <td>2</td>\n",
       "      <td>1210</td>\n",
       "      <td>317</td>\n",
       "      <td>83</td>\n",
       "      <td>106</td>\n",
       "      <td>2</td>\n",
       "    </tr>\n",
       "  </tbody>\n",
       "</table>\n",
       "</div>"
      ],
      "text/plain": [
       "           strain    type rating effects taste  \\\n",
       "count        2347    2347   2347    2347  2301   \n",
       "unique       2346       3     26    1649  1293   \n",
       "top     b-witched  hybrid    4.5    None  None   \n",
       "freq            2    1210    317      83   106   \n",
       "\n",
       "                                              description  \n",
       "count                                                2314  \n",
       "unique                                               2311  \n",
       "top     Blue Trainwreck is a sativa-dominant hybrid cr...  \n",
       "freq                                                    2  "
      ]
     },
     "execution_count": 6,
     "metadata": {},
     "output_type": "execute_result"
    }
   ],
   "source": [
    "can.describe()"
   ]
  },
  {
   "cell_type": "code",
   "execution_count": 10,
   "metadata": {},
   "outputs": [
    {
     "data": {
      "text/plain": [
       "Int64Index([ 103,  123,  160,  163,  215,  364,  368,  379,  484,  574,  594,\n",
       "             673,  679,  736,  770,  817,  831,  856,  899,  900,  950,  956,\n",
       "             965,  971, 1013, 1067, 1094, 1102, 1178, 1200, 1253, 1290, 1366,\n",
       "            1367, 1369, 1441, 1477, 1512, 1513, 1514, 1543, 1545, 1546, 1554,\n",
       "            1578, 1634, 1637, 1658, 1684, 1704, 1709, 1724, 1754, 1769, 1770,\n",
       "            1799, 1851, 1858, 1914, 1963, 1970, 1991, 2089, 2098, 2113, 2127,\n",
       "            2136, 2178, 2192, 2222, 2234, 2245, 2254, 2306, 2318],\n",
       "           dtype='int64')"
      ]
     },
     "execution_count": 10,
     "metadata": {},
     "output_type": "execute_result"
    }
   ],
   "source": [
    "can.index[can.isnull().any(axis=1)]"
   ]
  },
  {
   "cell_type": "code",
   "execution_count": 23,
   "metadata": {},
   "outputs": [
    {
     "data": {
      "text/plain": [
       "75"
      ]
     },
     "execution_count": 23,
     "metadata": {},
     "output_type": "execute_result"
    }
   ],
   "source": [
    "len(can.index[can.isnull().any(axis=1)])"
   ]
  },
  {
   "cell_type": "code",
   "execution_count": 25,
   "metadata": {},
   "outputs": [
    {
     "data": {
      "text/html": [
       "<div>\n",
       "<style scoped>\n",
       "    .dataframe tbody tr th:only-of-type {\n",
       "        vertical-align: middle;\n",
       "    }\n",
       "\n",
       "    .dataframe tbody tr th {\n",
       "        vertical-align: top;\n",
       "    }\n",
       "\n",
       "    .dataframe thead th {\n",
       "        text-align: right;\n",
       "    }\n",
       "</style>\n",
       "<table border=\"1\" class=\"dataframe\">\n",
       "  <thead>\n",
       "    <tr style=\"text-align: right;\">\n",
       "      <th></th>\n",
       "      <th>strain</th>\n",
       "      <th>type</th>\n",
       "      <th>rating</th>\n",
       "      <th>effects</th>\n",
       "      <th>taste</th>\n",
       "      <th>description</th>\n",
       "    </tr>\n",
       "  </thead>\n",
       "  <tbody>\n",
       "    <tr>\n",
       "      <th>160</th>\n",
       "      <td>bad-azz-kush</td>\n",
       "      <td>hybrid</td>\n",
       "      <td>5</td>\n",
       "      <td>None</td>\n",
       "      <td>NaN</td>\n",
       "      <td>Bad Azz Kush by Barney’s Farm was created with...</td>\n",
       "    </tr>\n",
       "    <tr>\n",
       "      <th>161</th>\n",
       "      <td>bakerstreet</td>\n",
       "      <td>indica</td>\n",
       "      <td>3.7</td>\n",
       "      <td>Euphoric,Relaxed,Giggly,Happy,Sleepy</td>\n",
       "      <td>Earthy,Diesel,Sweet</td>\n",
       "      <td>Bakerstreet is a variety of Hindu Kush grown b...</td>\n",
       "    </tr>\n",
       "    <tr>\n",
       "      <th>162</th>\n",
       "      <td>balmoral</td>\n",
       "      <td>hybrid</td>\n",
       "      <td>4.2</td>\n",
       "      <td>Relaxed,Happy,Uplifted,Focused,Talkative</td>\n",
       "      <td>Earthy,Cheese,Pine</td>\n",
       "      <td>Balmoral is a variety of UK Cheese grown by Ca...</td>\n",
       "    </tr>\n",
       "    <tr>\n",
       "      <th>163</th>\n",
       "      <td>banana-candy</td>\n",
       "      <td>indica</td>\n",
       "      <td>4.2</td>\n",
       "      <td>Relaxed,Euphoric,Uplifted,Creative,Happy</td>\n",
       "      <td>Tree,Fruit,Earthy,Sweet</td>\n",
       "      <td>NaN</td>\n",
       "    </tr>\n",
       "    <tr>\n",
       "      <th>164</th>\n",
       "      <td>banana-cream-og</td>\n",
       "      <td>hybrid</td>\n",
       "      <td>4.8</td>\n",
       "      <td>Relaxed,Creative,Tingly,Uplifted,Focused</td>\n",
       "      <td>Minty,Mint,Pine</td>\n",
       "      <td>Banana Cream OG is grown by Vagrant Hill Farms...</td>\n",
       "    </tr>\n",
       "  </tbody>\n",
       "</table>\n",
       "</div>"
      ],
      "text/plain": [
       "              strain    type rating                                   effects  \\\n",
       "160     bad-azz-kush  hybrid      5                                      None   \n",
       "161      bakerstreet  indica    3.7      Euphoric,Relaxed,Giggly,Happy,Sleepy   \n",
       "162         balmoral  hybrid    4.2  Relaxed,Happy,Uplifted,Focused,Talkative   \n",
       "163     banana-candy  indica    4.2  Relaxed,Euphoric,Uplifted,Creative,Happy   \n",
       "164  banana-cream-og  hybrid    4.8  Relaxed,Creative,Tingly,Uplifted,Focused   \n",
       "\n",
       "                       taste  \\\n",
       "160                      NaN   \n",
       "161      Earthy,Diesel,Sweet   \n",
       "162       Earthy,Cheese,Pine   \n",
       "163  Tree,Fruit,Earthy,Sweet   \n",
       "164          Minty,Mint,Pine   \n",
       "\n",
       "                                           description  \n",
       "160  Bad Azz Kush by Barney’s Farm was created with...  \n",
       "161  Bakerstreet is a variety of Hindu Kush grown b...  \n",
       "162  Balmoral is a variety of UK Cheese grown by Ca...  \n",
       "163                                                NaN  \n",
       "164  Banana Cream OG is grown by Vagrant Hill Farms...  "
      ]
     },
     "execution_count": 25,
     "metadata": {},
     "output_type": "execute_result"
    }
   ],
   "source": [
    "can.iloc[160:165]"
   ]
  },
  {
   "cell_type": "code",
   "execution_count": null,
   "metadata": {},
   "outputs": [],
   "source": []
  }
 ],
 "metadata": {
  "kernelspec": {
   "display_name": "Python 3",
   "language": "python",
   "name": "python3"
  },
  "language_info": {
   "codemirror_mode": {
    "name": "ipython",
    "version": 3
   },
   "file_extension": ".py",
   "mimetype": "text/x-python",
   "name": "python",
   "nbconvert_exporter": "python",
   "pygments_lexer": "ipython3",
   "version": "3.7.3"
  }
 },
 "nbformat": 4,
 "nbformat_minor": 2
}
