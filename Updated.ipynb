{
 "cells": [
  {
   "cell_type": "markdown",
   "metadata": {},
   "source": [
    "## Imports"
   ]
  },
  {
   "cell_type": "code",
   "execution_count": 2,
   "metadata": {
    "ExecuteTime": {
     "end_time": "2020-08-11T12:49:22.971195Z",
     "start_time": "2020-08-11T12:49:20.274015Z"
    }
   },
   "outputs": [],
   "source": [
    "from bs4 import BeautifulSoup\n",
    "from collections import Counter\n",
    "from imblearn.over_sampling import SMOTE \n",
    "from matplotlib_venn import venn2\n",
    "from scipy import stats\n",
    "from sklearn import tree, svm\n",
    "from sklearn.decomposition import PCA\n",
    "from sklearn.dummy import DummyClassifier\n",
    "from sklearn.ensemble import BaggingClassifier, RandomForestClassifier, AdaBoostClassifier\n",
    "# from sklearn.externals.six import StringIO \n",
    "from sklearn.linear_model import LogisticRegression\n",
    "from sklearn.metrics import precision_score, recall_score, accuracy_score \n",
    "from sklearn.metrics import auc, confusion_matrix, f1_score, roc_curve\n",
    "from sklearn.model_selection import train_test_split, GridSearchCV, cross_val_score\n",
    "from sklearn.neighbors import KNeighborsClassifier\n",
    "from sklearn.preprocessing import StandardScaler, label_binarize\n",
    "from sklearn.naive_bayes import GaussianNB\n",
    "from sklearn.tree import DecisionTreeClassifier\n",
    "from tqdm import tqdm_notebook as tqdm\n",
    "\n",
    "import matplotlib.pyplot as plt\n",
    "import numpy as np\n",
    "import pandas as pd\n",
    "import re\n",
    "import requests\n",
    "import seaborn as sns\n",
    "import warnings\n",
    "\n",
    "pd.set_option('display.max_columns', 500)"
   ]
  },
  {
   "cell_type": "markdown",
   "metadata": {},
   "source": [
    "# Leafly Scraping"
   ]
  },
  {
   "cell_type": "code",
   "execution_count": 39,
   "metadata": {
    "ExecuteTime": {
     "end_time": "2020-08-11T13:07:29.841726Z",
     "start_time": "2020-08-11T13:07:26.472189Z"
    }
   },
   "outputs": [
    {
     "name": "stderr",
     "output_type": "stream",
     "text": [
      "<ipython-input-39-e4dd5e044fd1>:7: TqdmDeprecationWarning: This function will be removed in tqdm==5.0.0\n",
      "Please use `tqdm.notebook.tqdm` instead of `tqdm.tqdm_notebook`\n",
      "  for i in tqdm(range(1,5)):\n"
     ]
    },
    {
     "data": {
      "application/vnd.jupyter.widget-view+json": {
       "model_id": "ce4baa8135504c658401e04cc66f43e2",
       "version_major": 2,
       "version_minor": 0
      },
      "text/plain": [
       "HBox(children=(FloatProgress(value=0.0, max=4.0), HTML(value='')))"
      ]
     },
     "metadata": {},
     "output_type": "display_data"
    },
    {
     "name": "stdout",
     "output_type": "stream",
     "text": [
      "\n"
     ]
    }
   ],
   "source": [
    "# webscrape 115 pages of strains from Leafly using BeautifulSoup\n",
    "\n",
    "# create empty lists for storing the data\n",
    "names,props,links=[],[],[]\n",
    "\n",
    "# scrape data from all 115 pages of Leafly\n",
    "for i in tqdm(range(1,5)):\n",
    "    response=requests.get('https://www.leafly.com/strains?page={}'.format(i))\n",
    "    soup=BeautifulSoup(response.content,'html.parser')\n",
    "    \n",
    "    # use corresponding tags for names and properties\n",
    "    name=soup.findAll('div',{'class':'strain-tile__name'})\n",
    "    prop=soup.findAll('span',{'class':'tag mb-md'})\n",
    "    link = soup.findAll('a',{'class':'strain-tile justify-start relative'})\n",
    "    \n",
    "    for n,p,l in zip(name,prop,link):\n",
    "        names.append(n.text)\n",
    "        props.append(n.text+': ' +p.text)\n",
    "        links.append(l['href'])"
   ]
  },
  {
   "cell_type": "code",
   "execution_count": 4,
   "metadata": {
    "ExecuteTime": {
     "end_time": "2020-08-11T12:49:37.631638Z",
     "start_time": "2020-08-11T12:49:37.625496Z"
    }
   },
   "outputs": [
    {
     "data": {
      "text/plain": [
       "112"
      ]
     },
     "execution_count": 4,
     "metadata": {},
     "output_type": "execute_result"
    }
   ],
   "source": [
    "len(names)"
   ]
  },
  {
   "cell_type": "code",
   "execution_count": 11,
   "metadata": {
    "ExecuteTime": {
     "end_time": "2020-08-11T12:52:16.772883Z",
     "start_time": "2020-08-11T12:52:16.767781Z"
    }
   },
   "outputs": [
    {
     "data": {
      "text/plain": [
       "112"
      ]
     },
     "execution_count": 11,
     "metadata": {},
     "output_type": "execute_result"
    }
   ],
   "source": [
    "len(props)"
   ]
  },
  {
   "cell_type": "code",
   "execution_count": 40,
   "metadata": {
    "ExecuteTime": {
     "end_time": "2020-08-11T13:07:30.231774Z",
     "start_time": "2020-08-11T13:07:30.226791Z"
    }
   },
   "outputs": [
    {
     "data": {
      "text/plain": [
       "112"
      ]
     },
     "execution_count": 40,
     "metadata": {},
     "output_type": "execute_result"
    }
   ],
   "source": [
    "len(links)"
   ]
  },
  {
   "cell_type": "code",
   "execution_count": 41,
   "metadata": {
    "ExecuteTime": {
     "end_time": "2020-08-11T13:07:31.470578Z",
     "start_time": "2020-08-11T13:07:31.464173Z"
    }
   },
   "outputs": [
    {
     "data": {
      "text/plain": [
       "['/strains/original-glue',\n",
       " '/strains/blue-dream',\n",
       " '/strains/wedding-cake',\n",
       " '/strains/gelato',\n",
       " '/strains/gsc',\n",
       " '/strains/sour-diesel',\n",
       " '/strains/purple-punch',\n",
       " '/strains/og-kush',\n",
       " '/strains/jack-herer',\n",
       " '/strains/sunset-sherbert',\n",
       " '/strains/granddaddy-purple',\n",
       " '/strains/runtz',\n",
       " '/strains/white-widow',\n",
       " '/strains/mimosa',\n",
       " '/strains/zkittlez',\n",
       " '/strains/pineapple-express',\n",
       " '/strains/green-crack',\n",
       " '/strains/do-si-dos',\n",
       " '/strains/bubba-kush',\n",
       " '/strains/durban-poison',\n",
       " '/strains/chemdawg',\n",
       " '/strains/stardawg',\n",
       " '/strains/northern-lights',\n",
       " '/strains/trainwreck',\n",
       " '/strains/ice-cream-cake',\n",
       " '/strains/mac',\n",
       " '/strains/strawberry-cough',\n",
       " '/strains/sfv-og',\n",
       " '/strains/sundae-driver',\n",
       " '/strains/cherry-pie',\n",
       " '/strains/forbidden-fruit',\n",
       " '/strains/bruce-banner',\n",
       " '/strains/ak-47',\n",
       " '/strains/super-lemon-haze',\n",
       " '/strains/amnesia-haze',\n",
       " '/strains/gmo-cookies',\n",
       " '/strains/super-silver-haze',\n",
       " '/strains/blue-cookies',\n",
       " '/strains/lemon-haze',\n",
       " '/strains/mendo-breath',\n",
       " '/strains/blueberry',\n",
       " '/strains/blue-cheese',\n",
       " '/strains/wedding-crasher',\n",
       " '/strains/alien-og',\n",
       " '/strains/9-pound-hammer',\n",
       " '/strains/white-fire-og',\n",
       " '/strains/bubble-gum',\n",
       " '/strains/gushers',\n",
       " '/strains/strawberry-banana',\n",
       " '/strains/tahoe-og',\n",
       " '/strains/platinum-og',\n",
       " '/strains/grape-ape',\n",
       " '/strains/lemon-og',\n",
       " '/strains/platinum-gsc',\n",
       " '/strains/fire-og',\n",
       " '/strains/cookies-and-cream',\n",
       " '/strains/headband',\n",
       " '/strains/grease-monkey',\n",
       " '/strains/banana-kush',\n",
       " '/strains/maui-wowie',\n",
       " '/strains/birthday-cake-kush',\n",
       " '/strains/king-louis',\n",
       " '/strains/la-confidential',\n",
       " '/strains/master-kush',\n",
       " '/strains/animal-cookies',\n",
       " '/strains/tangie',\n",
       " '/strains/candyland',\n",
       " '/strains/slurricane',\n",
       " '/strains/black-diamond',\n",
       " '/strains/peanut-butter-breath',\n",
       " '/strains/jet-fuel',\n",
       " '/strains/gelato-33',\n",
       " '/strains/white-buffalo',\n",
       " '/strains/zookies',\n",
       " '/strains/alaskan-thunder-fuck',\n",
       " '/strains/cereal-milk',\n",
       " '/strains/g-13',\n",
       " '/strains/purple-kush',\n",
       " '/strains/mac-1',\n",
       " '/strains/orange-cookies',\n",
       " '/strains/purple-haze',\n",
       " '/strains/gary-payton',\n",
       " '/strains/ghost-train-haze',\n",
       " '/strains/thin-mint',\n",
       " '/strains/platinum-kush',\n",
       " '/strains/white-rhino',\n",
       " '/strains/lemon-kush',\n",
       " '/strains/platinum-bubba-kush',\n",
       " '/strains/gorilla-cookies',\n",
       " '/strains/blackberry-kush',\n",
       " '/strains/tropicana-cookies',\n",
       " '/strains/golden-goat',\n",
       " '/strains/cookies-kush',\n",
       " '/strains/member-berry',\n",
       " '/strains/pink-kush',\n",
       " '/strains/white-runtz',\n",
       " '/strains/critical-kush',\n",
       " '/strains/mango-kush',\n",
       " '/strains/venom-og',\n",
       " '/strains/clementine',\n",
       " '/strains/superglue',\n",
       " '/strains/cheese',\n",
       " '/strains/khalifa-kush',\n",
       " '/strains/kosher-kush',\n",
       " '/strains/xxx-og',\n",
       " '/strains/pink-runtz',\n",
       " '/strains/larry-og',\n",
       " '/strains/black-jack',\n",
       " '/strains/sour-tangie',\n",
       " '/strains/gods-gift',\n",
       " '/strains/cheetah-piss',\n",
       " '/strains/lemon-skunk']"
      ]
     },
     "execution_count": 41,
     "metadata": {},
     "output_type": "execute_result"
    }
   ],
   "source": [
    "links"
   ]
  },
  {
   "cell_type": "code",
   "execution_count": null,
   "metadata": {},
   "outputs": [],
   "source": []
  }
 ],
 "metadata": {
  "kernelspec": {
   "display_name": "Python 3",
   "language": "python",
   "name": "python3"
  },
  "language_info": {
   "codemirror_mode": {
    "name": "ipython",
    "version": 3
   },
   "file_extension": ".py",
   "mimetype": "text/x-python",
   "name": "python",
   "nbconvert_exporter": "python",
   "pygments_lexer": "ipython3",
   "version": "3.8.5"
  },
  "toc": {
   "base_numbering": 1,
   "nav_menu": {},
   "number_sections": true,
   "sideBar": true,
   "skip_h1_title": false,
   "title_cell": "Table of Contents",
   "title_sidebar": "Contents",
   "toc_cell": false,
   "toc_position": {},
   "toc_section_display": true,
   "toc_window_display": false
  }
 },
 "nbformat": 4,
 "nbformat_minor": 2
}
