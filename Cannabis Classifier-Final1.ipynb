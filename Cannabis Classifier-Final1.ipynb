{
 "cells": [
  {
   "cell_type": "markdown",
   "metadata": {},
   "source": [
    "## Read in CSV File of One Hot Encoded Features"
   ]
  },
  {
   "cell_type": "code",
   "execution_count": 1,
   "metadata": {},
   "outputs": [],
   "source": [
    "import pandas as pd\n",
    "pd.set_option('display.max_columns', 999)"
   ]
  },
  {
   "cell_type": "code",
   "execution_count": 2,
   "metadata": {
    "scrolled": true
   },
   "outputs": [],
   "source": [
    "# load in csv\n",
    "df = pd.read_csv('/Users/stephaniekendall/Desktop/Errthang/Flatiron/projects/Cannabis-Predictions/CSV Files/final.csv')"
   ]
  },
  {
   "cell_type": "code",
   "execution_count": 3,
   "metadata": {
    "scrolled": true
   },
   "outputs": [
    {
     "data": {
      "text/html": [
       "<div>\n",
       "<style scoped>\n",
       "    .dataframe tbody tr th:only-of-type {\n",
       "        vertical-align: middle;\n",
       "    }\n",
       "\n",
       "    .dataframe tbody tr th {\n",
       "        vertical-align: top;\n",
       "    }\n",
       "\n",
       "    .dataframe thead th {\n",
       "        text-align: right;\n",
       "    }\n",
       "</style>\n",
       "<table border=\"1\" class=\"dataframe\">\n",
       "  <thead>\n",
       "    <tr style=\"text-align: right;\">\n",
       "      <th></th>\n",
       "      <th>Unnamed: 0</th>\n",
       "      <th>type</th>\n",
       "      <th>name</th>\n",
       "      <th>Relaxed</th>\n",
       "      <th>Hungry</th>\n",
       "      <th>Happy</th>\n",
       "      <th>Sleepy</th>\n",
       "      <th>Dizzy</th>\n",
       "      <th>Depression</th>\n",
       "      <th>Insomnia</th>\n",
       "      <th>Pain</th>\n",
       "      <th>Stress</th>\n",
       "      <th>Lack of Appetite</th>\n",
       "      <th>Euphoric</th>\n",
       "      <th>Creative</th>\n",
       "      <th>Energetic</th>\n",
       "      <th>Talkative</th>\n",
       "      <th>Dry Mouth</th>\n",
       "      <th>Nausea</th>\n",
       "      <th>Headache</th>\n",
       "      <th>Uplifted</th>\n",
       "      <th>Tingly</th>\n",
       "      <th>Paranoid</th>\n",
       "      <th>Cramps</th>\n",
       "      <th>Dry Eyes</th>\n",
       "      <th>Fatigue</th>\n",
       "      <th>Headaches</th>\n",
       "      <th>Muscle Spasms</th>\n",
       "      <th>Focused</th>\n",
       "      <th>Eye Pressure</th>\n",
       "      <th>Anxious</th>\n",
       "      <th>Giggly</th>\n",
       "      <th>Aroused</th>\n",
       "      <th>Inflammation</th>\n",
       "      <th>Spasticity</th>\n",
       "      <th>Seizures</th>\n",
       "      <th>positive</th>\n",
       "      <th>negative</th>\n",
       "      <th>medical</th>\n",
       "      <th>rating</th>\n",
       "      <th>None</th>\n",
       "      <th>Earthy</th>\n",
       "      <th>Sweet</th>\n",
       "      <th>Citrus</th>\n",
       "      <th>Flowery</th>\n",
       "      <th>Violet</th>\n",
       "      <th>Diesel</th>\n",
       "      <th>Spicy/Herbal</th>\n",
       "      <th>Sage</th>\n",
       "      <th>Woody</th>\n",
       "      <th>Apricot</th>\n",
       "      <th>Grapefruit</th>\n",
       "      <th>Orange</th>\n",
       "      <th>Pungent</th>\n",
       "      <th>Grape</th>\n",
       "      <th>Pine</th>\n",
       "      <th>Skunk</th>\n",
       "      <th>Berry</th>\n",
       "      <th>Pepper</th>\n",
       "      <th>Menthol</th>\n",
       "      <th>Blue</th>\n",
       "      <th>Cheese</th>\n",
       "      <th>Chemical</th>\n",
       "      <th>Mango</th>\n",
       "      <th>Lemon</th>\n",
       "      <th>Peach</th>\n",
       "      <th>Vanilla</th>\n",
       "      <th>Nutty</th>\n",
       "      <th>Chestnut</th>\n",
       "      <th>Tea</th>\n",
       "      <th>Tobacco</th>\n",
       "      <th>Tropical</th>\n",
       "      <th>Strawberry</th>\n",
       "      <th>Blueberry</th>\n",
       "      <th>Mint</th>\n",
       "      <th>Apple</th>\n",
       "      <th>Honey</th>\n",
       "      <th>Lavender</th>\n",
       "      <th>Lime</th>\n",
       "      <th>Coffee</th>\n",
       "      <th>Ammonia</th>\n",
       "      <th>Minty</th>\n",
       "      <th>Tree</th>\n",
       "      <th>Fruit</th>\n",
       "      <th>Butter</th>\n",
       "      <th>Pineapple</th>\n",
       "      <th>Tar</th>\n",
       "      <th>Rose</th>\n",
       "      <th>Plum</th>\n",
       "      <th>Pear</th>\n",
       "      <th>thc</th>\n",
       "      <th>cbd</th>\n",
       "    </tr>\n",
       "  </thead>\n",
       "  <tbody>\n",
       "    <tr>\n",
       "      <th>0</th>\n",
       "      <td>52</td>\n",
       "      <td>0</td>\n",
       "      <td>afpak</td>\n",
       "      <td>1</td>\n",
       "      <td>0</td>\n",
       "      <td>1</td>\n",
       "      <td>1</td>\n",
       "      <td>0</td>\n",
       "      <td>0</td>\n",
       "      <td>1</td>\n",
       "      <td>0</td>\n",
       "      <td>0</td>\n",
       "      <td>0</td>\n",
       "      <td>1</td>\n",
       "      <td>0</td>\n",
       "      <td>0</td>\n",
       "      <td>0</td>\n",
       "      <td>1</td>\n",
       "      <td>0</td>\n",
       "      <td>0</td>\n",
       "      <td>0</td>\n",
       "      <td>0</td>\n",
       "      <td>0</td>\n",
       "      <td>0</td>\n",
       "      <td>0</td>\n",
       "      <td>1</td>\n",
       "      <td>1</td>\n",
       "      <td>0</td>\n",
       "      <td>0</td>\n",
       "      <td>1</td>\n",
       "      <td>0</td>\n",
       "      <td>0</td>\n",
       "      <td>1</td>\n",
       "      <td>1</td>\n",
       "      <td>0</td>\n",
       "      <td>0</td>\n",
       "      <td>5</td>\n",
       "      <td>1</td>\n",
       "      <td>5</td>\n",
       "      <td>4.2</td>\n",
       "      <td>0</td>\n",
       "      <td>1</td>\n",
       "      <td>0</td>\n",
       "      <td>0</td>\n",
       "      <td>0</td>\n",
       "      <td>0</td>\n",
       "      <td>0</td>\n",
       "      <td>1</td>\n",
       "      <td>0</td>\n",
       "      <td>0</td>\n",
       "      <td>0</td>\n",
       "      <td>0</td>\n",
       "      <td>0</td>\n",
       "      <td>0</td>\n",
       "      <td>0</td>\n",
       "      <td>1</td>\n",
       "      <td>0</td>\n",
       "      <td>0</td>\n",
       "      <td>0</td>\n",
       "      <td>0</td>\n",
       "      <td>0</td>\n",
       "      <td>0</td>\n",
       "      <td>0</td>\n",
       "      <td>0</td>\n",
       "      <td>0</td>\n",
       "      <td>0</td>\n",
       "      <td>0</td>\n",
       "      <td>0</td>\n",
       "      <td>0</td>\n",
       "      <td>0</td>\n",
       "      <td>0</td>\n",
       "      <td>0</td>\n",
       "      <td>0</td>\n",
       "      <td>0</td>\n",
       "      <td>0</td>\n",
       "      <td>0</td>\n",
       "      <td>0</td>\n",
       "      <td>0</td>\n",
       "      <td>0</td>\n",
       "      <td>0</td>\n",
       "      <td>0</td>\n",
       "      <td>0</td>\n",
       "      <td>0</td>\n",
       "      <td>0</td>\n",
       "      <td>0</td>\n",
       "      <td>0</td>\n",
       "      <td>0</td>\n",
       "      <td>0</td>\n",
       "      <td>0</td>\n",
       "      <td>0</td>\n",
       "      <td>0</td>\n",
       "      <td>0</td>\n",
       "    </tr>\n",
       "    <tr>\n",
       "      <th>1</th>\n",
       "      <td>53</td>\n",
       "      <td>2</td>\n",
       "      <td>african</td>\n",
       "      <td>1</td>\n",
       "      <td>0</td>\n",
       "      <td>1</td>\n",
       "      <td>0</td>\n",
       "      <td>0</td>\n",
       "      <td>1</td>\n",
       "      <td>1</td>\n",
       "      <td>0</td>\n",
       "      <td>1</td>\n",
       "      <td>1</td>\n",
       "      <td>1</td>\n",
       "      <td>1</td>\n",
       "      <td>0</td>\n",
       "      <td>0</td>\n",
       "      <td>1</td>\n",
       "      <td>0</td>\n",
       "      <td>0</td>\n",
       "      <td>0</td>\n",
       "      <td>0</td>\n",
       "      <td>0</td>\n",
       "      <td>0</td>\n",
       "      <td>0</td>\n",
       "      <td>0</td>\n",
       "      <td>0</td>\n",
       "      <td>0</td>\n",
       "      <td>0</td>\n",
       "      <td>1</td>\n",
       "      <td>0</td>\n",
       "      <td>1</td>\n",
       "      <td>0</td>\n",
       "      <td>0</td>\n",
       "      <td>0</td>\n",
       "      <td>0</td>\n",
       "      <td>5</td>\n",
       "      <td>1</td>\n",
       "      <td>5</td>\n",
       "      <td>3.9</td>\n",
       "      <td>0</td>\n",
       "      <td>0</td>\n",
       "      <td>0</td>\n",
       "      <td>0</td>\n",
       "      <td>0</td>\n",
       "      <td>0</td>\n",
       "      <td>0</td>\n",
       "      <td>1</td>\n",
       "      <td>0</td>\n",
       "      <td>0</td>\n",
       "      <td>0</td>\n",
       "      <td>0</td>\n",
       "      <td>0</td>\n",
       "      <td>1</td>\n",
       "      <td>0</td>\n",
       "      <td>0</td>\n",
       "      <td>0</td>\n",
       "      <td>0</td>\n",
       "      <td>1</td>\n",
       "      <td>0</td>\n",
       "      <td>0</td>\n",
       "      <td>0</td>\n",
       "      <td>0</td>\n",
       "      <td>0</td>\n",
       "      <td>0</td>\n",
       "      <td>0</td>\n",
       "      <td>0</td>\n",
       "      <td>0</td>\n",
       "      <td>0</td>\n",
       "      <td>0</td>\n",
       "      <td>0</td>\n",
       "      <td>0</td>\n",
       "      <td>0</td>\n",
       "      <td>0</td>\n",
       "      <td>0</td>\n",
       "      <td>0</td>\n",
       "      <td>0</td>\n",
       "      <td>0</td>\n",
       "      <td>0</td>\n",
       "      <td>0</td>\n",
       "      <td>0</td>\n",
       "      <td>0</td>\n",
       "      <td>0</td>\n",
       "      <td>0</td>\n",
       "      <td>0</td>\n",
       "      <td>0</td>\n",
       "      <td>0</td>\n",
       "      <td>0</td>\n",
       "      <td>0</td>\n",
       "      <td>0</td>\n",
       "      <td>0</td>\n",
       "      <td>0</td>\n",
       "    </tr>\n",
       "    <tr>\n",
       "      <th>2</th>\n",
       "      <td>55</td>\n",
       "      <td>2</td>\n",
       "      <td>afternoon delight</td>\n",
       "      <td>1</td>\n",
       "      <td>0</td>\n",
       "      <td>1</td>\n",
       "      <td>0</td>\n",
       "      <td>1</td>\n",
       "      <td>1</td>\n",
       "      <td>0</td>\n",
       "      <td>1</td>\n",
       "      <td>1</td>\n",
       "      <td>0</td>\n",
       "      <td>1</td>\n",
       "      <td>0</td>\n",
       "      <td>1</td>\n",
       "      <td>0</td>\n",
       "      <td>1</td>\n",
       "      <td>0</td>\n",
       "      <td>1</td>\n",
       "      <td>0</td>\n",
       "      <td>0</td>\n",
       "      <td>1</td>\n",
       "      <td>0</td>\n",
       "      <td>1</td>\n",
       "      <td>1</td>\n",
       "      <td>1</td>\n",
       "      <td>0</td>\n",
       "      <td>0</td>\n",
       "      <td>0</td>\n",
       "      <td>0</td>\n",
       "      <td>1</td>\n",
       "      <td>0</td>\n",
       "      <td>0</td>\n",
       "      <td>0</td>\n",
       "      <td>0</td>\n",
       "      <td>5</td>\n",
       "      <td>4</td>\n",
       "      <td>6</td>\n",
       "      <td>4.8</td>\n",
       "      <td>0</td>\n",
       "      <td>0</td>\n",
       "      <td>0</td>\n",
       "      <td>1</td>\n",
       "      <td>0</td>\n",
       "      <td>0</td>\n",
       "      <td>0</td>\n",
       "      <td>0</td>\n",
       "      <td>0</td>\n",
       "      <td>0</td>\n",
       "      <td>0</td>\n",
       "      <td>0</td>\n",
       "      <td>0</td>\n",
       "      <td>1</td>\n",
       "      <td>0</td>\n",
       "      <td>0</td>\n",
       "      <td>0</td>\n",
       "      <td>0</td>\n",
       "      <td>0</td>\n",
       "      <td>0</td>\n",
       "      <td>0</td>\n",
       "      <td>0</td>\n",
       "      <td>0</td>\n",
       "      <td>0</td>\n",
       "      <td>0</td>\n",
       "      <td>0</td>\n",
       "      <td>0</td>\n",
       "      <td>0</td>\n",
       "      <td>0</td>\n",
       "      <td>0</td>\n",
       "      <td>0</td>\n",
       "      <td>1</td>\n",
       "      <td>0</td>\n",
       "      <td>0</td>\n",
       "      <td>0</td>\n",
       "      <td>0</td>\n",
       "      <td>0</td>\n",
       "      <td>0</td>\n",
       "      <td>0</td>\n",
       "      <td>0</td>\n",
       "      <td>0</td>\n",
       "      <td>0</td>\n",
       "      <td>0</td>\n",
       "      <td>0</td>\n",
       "      <td>0</td>\n",
       "      <td>0</td>\n",
       "      <td>0</td>\n",
       "      <td>0</td>\n",
       "      <td>0</td>\n",
       "      <td>0</td>\n",
       "      <td>0</td>\n",
       "      <td>0</td>\n",
       "    </tr>\n",
       "    <tr>\n",
       "      <th>3</th>\n",
       "      <td>56</td>\n",
       "      <td>2</td>\n",
       "      <td>afwreck</td>\n",
       "      <td>1</td>\n",
       "      <td>1</td>\n",
       "      <td>1</td>\n",
       "      <td>0</td>\n",
       "      <td>0</td>\n",
       "      <td>0</td>\n",
       "      <td>0</td>\n",
       "      <td>1</td>\n",
       "      <td>0</td>\n",
       "      <td>1</td>\n",
       "      <td>1</td>\n",
       "      <td>1</td>\n",
       "      <td>0</td>\n",
       "      <td>0</td>\n",
       "      <td>0</td>\n",
       "      <td>0</td>\n",
       "      <td>0</td>\n",
       "      <td>0</td>\n",
       "      <td>0</td>\n",
       "      <td>0</td>\n",
       "      <td>1</td>\n",
       "      <td>1</td>\n",
       "      <td>0</td>\n",
       "      <td>0</td>\n",
       "      <td>1</td>\n",
       "      <td>0</td>\n",
       "      <td>0</td>\n",
       "      <td>0</td>\n",
       "      <td>0</td>\n",
       "      <td>0</td>\n",
       "      <td>1</td>\n",
       "      <td>0</td>\n",
       "      <td>0</td>\n",
       "      <td>5</td>\n",
       "      <td>1</td>\n",
       "      <td>5</td>\n",
       "      <td>4.2</td>\n",
       "      <td>0</td>\n",
       "      <td>1</td>\n",
       "      <td>0</td>\n",
       "      <td>0</td>\n",
       "      <td>0</td>\n",
       "      <td>0</td>\n",
       "      <td>0</td>\n",
       "      <td>0</td>\n",
       "      <td>0</td>\n",
       "      <td>0</td>\n",
       "      <td>0</td>\n",
       "      <td>0</td>\n",
       "      <td>0</td>\n",
       "      <td>1</td>\n",
       "      <td>0</td>\n",
       "      <td>1</td>\n",
       "      <td>0</td>\n",
       "      <td>0</td>\n",
       "      <td>0</td>\n",
       "      <td>0</td>\n",
       "      <td>0</td>\n",
       "      <td>0</td>\n",
       "      <td>0</td>\n",
       "      <td>0</td>\n",
       "      <td>0</td>\n",
       "      <td>0</td>\n",
       "      <td>0</td>\n",
       "      <td>0</td>\n",
       "      <td>0</td>\n",
       "      <td>0</td>\n",
       "      <td>0</td>\n",
       "      <td>0</td>\n",
       "      <td>0</td>\n",
       "      <td>0</td>\n",
       "      <td>0</td>\n",
       "      <td>0</td>\n",
       "      <td>0</td>\n",
       "      <td>0</td>\n",
       "      <td>0</td>\n",
       "      <td>0</td>\n",
       "      <td>0</td>\n",
       "      <td>0</td>\n",
       "      <td>0</td>\n",
       "      <td>0</td>\n",
       "      <td>0</td>\n",
       "      <td>0</td>\n",
       "      <td>0</td>\n",
       "      <td>0</td>\n",
       "      <td>0</td>\n",
       "      <td>0</td>\n",
       "      <td>0</td>\n",
       "      <td>0</td>\n",
       "    </tr>\n",
       "    <tr>\n",
       "      <th>4</th>\n",
       "      <td>57</td>\n",
       "      <td>1</td>\n",
       "      <td>agent orange</td>\n",
       "      <td>0</td>\n",
       "      <td>0</td>\n",
       "      <td>1</td>\n",
       "      <td>0</td>\n",
       "      <td>0</td>\n",
       "      <td>0</td>\n",
       "      <td>0</td>\n",
       "      <td>0</td>\n",
       "      <td>0</td>\n",
       "      <td>0</td>\n",
       "      <td>1</td>\n",
       "      <td>1</td>\n",
       "      <td>1</td>\n",
       "      <td>0</td>\n",
       "      <td>0</td>\n",
       "      <td>0</td>\n",
       "      <td>0</td>\n",
       "      <td>0</td>\n",
       "      <td>0</td>\n",
       "      <td>0</td>\n",
       "      <td>0</td>\n",
       "      <td>0</td>\n",
       "      <td>0</td>\n",
       "      <td>0</td>\n",
       "      <td>0</td>\n",
       "      <td>1</td>\n",
       "      <td>0</td>\n",
       "      <td>0</td>\n",
       "      <td>0</td>\n",
       "      <td>0</td>\n",
       "      <td>0</td>\n",
       "      <td>0</td>\n",
       "      <td>0</td>\n",
       "      <td>5</td>\n",
       "      <td>0</td>\n",
       "      <td>0</td>\n",
       "      <td>4.2</td>\n",
       "      <td>0</td>\n",
       "      <td>1</td>\n",
       "      <td>0</td>\n",
       "      <td>1</td>\n",
       "      <td>0</td>\n",
       "      <td>0</td>\n",
       "      <td>0</td>\n",
       "      <td>0</td>\n",
       "      <td>0</td>\n",
       "      <td>0</td>\n",
       "      <td>0</td>\n",
       "      <td>0</td>\n",
       "      <td>1</td>\n",
       "      <td>0</td>\n",
       "      <td>0</td>\n",
       "      <td>0</td>\n",
       "      <td>0</td>\n",
       "      <td>0</td>\n",
       "      <td>0</td>\n",
       "      <td>0</td>\n",
       "      <td>0</td>\n",
       "      <td>0</td>\n",
       "      <td>0</td>\n",
       "      <td>0</td>\n",
       "      <td>0</td>\n",
       "      <td>0</td>\n",
       "      <td>0</td>\n",
       "      <td>0</td>\n",
       "      <td>0</td>\n",
       "      <td>0</td>\n",
       "      <td>0</td>\n",
       "      <td>0</td>\n",
       "      <td>0</td>\n",
       "      <td>0</td>\n",
       "      <td>0</td>\n",
       "      <td>0</td>\n",
       "      <td>0</td>\n",
       "      <td>0</td>\n",
       "      <td>0</td>\n",
       "      <td>0</td>\n",
       "      <td>0</td>\n",
       "      <td>0</td>\n",
       "      <td>0</td>\n",
       "      <td>0</td>\n",
       "      <td>0</td>\n",
       "      <td>0</td>\n",
       "      <td>0</td>\n",
       "      <td>0</td>\n",
       "      <td>0</td>\n",
       "      <td>0</td>\n",
       "      <td>0</td>\n",
       "      <td>0</td>\n",
       "    </tr>\n",
       "  </tbody>\n",
       "</table>\n",
       "</div>"
      ],
      "text/plain": [
       "   Unnamed: 0  type               name  Relaxed  Hungry  Happy  Sleepy  Dizzy  \\\n",
       "0          52     0              afpak        1       0      1       1      0   \n",
       "1          53     2            african        1       0      1       0      0   \n",
       "2          55     2  afternoon delight        1       0      1       0      1   \n",
       "3          56     2            afwreck        1       1      1       0      0   \n",
       "4          57     1       agent orange        0       0      1       0      0   \n",
       "\n",
       "   Depression  Insomnia  Pain  Stress  Lack of Appetite  Euphoric  Creative  \\\n",
       "0           0         1     0       0                 0         1         0   \n",
       "1           1         1     0       1                 1         1         1   \n",
       "2           1         0     1       1                 0         1         0   \n",
       "3           0         0     1       0                 1         1         1   \n",
       "4           0         0     0       0                 0         1         1   \n",
       "\n",
       "   Energetic  Talkative  Dry Mouth  Nausea  Headache  Uplifted  Tingly  \\\n",
       "0          0          0          1       0         0         0       0   \n",
       "1          0          0          1       0         0         0       0   \n",
       "2          1          0          1       0         1         0       0   \n",
       "3          0          0          0       0         0         0       0   \n",
       "4          1          0          0       0         0         0       0   \n",
       "\n",
       "   Paranoid  Cramps  Dry Eyes  Fatigue  Headaches  Muscle Spasms  Focused  \\\n",
       "0         0       0         0        1          1              0        0   \n",
       "1         0       0         0        0          0              0        0   \n",
       "2         1       0         1        1          1              0        0   \n",
       "3         0       1         1        0          0              1        0   \n",
       "4         0       0         0        0          0              0        1   \n",
       "\n",
       "   Eye Pressure  Anxious  Giggly  Aroused  Inflammation  Spasticity  Seizures  \\\n",
       "0             1        0       0        1             1           0         0   \n",
       "1             1        0       1        0             0           0         0   \n",
       "2             0        0       1        0             0           0         0   \n",
       "3             0        0       0        0             1           0         0   \n",
       "4             0        0       0        0             0           0         0   \n",
       "\n",
       "   positive  negative  medical rating  None  Earthy  Sweet  Citrus  Flowery  \\\n",
       "0         5         1        5    4.2     0       1      0       0        0   \n",
       "1         5         1        5    3.9     0       0      0       0        0   \n",
       "2         5         4        6    4.8     0       0      0       1        0   \n",
       "3         5         1        5    4.2     0       1      0       0        0   \n",
       "4         5         0        0    4.2     0       1      0       1        0   \n",
       "\n",
       "   Violet  Diesel  Spicy/Herbal  Sage  Woody  Apricot  Grapefruit  Orange  \\\n",
       "0       0       0             1     0      0        0           0       0   \n",
       "1       0       0             1     0      0        0           0       0   \n",
       "2       0       0             0     0      0        0           0       0   \n",
       "3       0       0             0     0      0        0           0       0   \n",
       "4       0       0             0     0      0        0           0       1   \n",
       "\n",
       "   Pungent  Grape  Pine  Skunk  Berry  Pepper  Menthol  Blue  Cheese  \\\n",
       "0        0      0     1      0      0       0        0     0       0   \n",
       "1        1      0     0      0      0       1        0     0       0   \n",
       "2        1      0     0      0      0       0        0     0       0   \n",
       "3        1      0     1      0      0       0        0     0       0   \n",
       "4        0      0     0      0      0       0        0     0       0   \n",
       "\n",
       "   Chemical  Mango  Lemon  Peach  Vanilla  Nutty  Chestnut  Tea  Tobacco  \\\n",
       "0         0      0      0      0        0      0         0    0        0   \n",
       "1         0      0      0      0        0      0         0    0        0   \n",
       "2         0      0      0      0        0      0         0    0        0   \n",
       "3         0      0      0      0        0      0         0    0        0   \n",
       "4         0      0      0      0        0      0         0    0        0   \n",
       "\n",
       "   Tropical  Strawberry  Blueberry  Mint  Apple  Honey  Lavender  Lime  \\\n",
       "0         0           0          0     0      0      0         0     0   \n",
       "1         0           0          0     0      0      0         0     0   \n",
       "2         1           0          0     0      0      0         0     0   \n",
       "3         0           0          0     0      0      0         0     0   \n",
       "4         0           0          0     0      0      0         0     0   \n",
       "\n",
       "   Coffee  Ammonia  Minty  Tree  Fruit  Butter  Pineapple  Tar  Rose  Plum  \\\n",
       "0       0        0      0     0      0       0          0    0     0     0   \n",
       "1       0        0      0     0      0       0          0    0     0     0   \n",
       "2       0        0      0     0      0       0          0    0     0     0   \n",
       "3       0        0      0     0      0       0          0    0     0     0   \n",
       "4       0        0      0     0      0       0          0    0     0     0   \n",
       "\n",
       "   Pear  thc  cbd  \n",
       "0     0    0    0  \n",
       "1     0    0    0  \n",
       "2     0    0    0  \n",
       "3     0    0    0  \n",
       "4     0    0    0  "
      ]
     },
     "execution_count": 3,
     "metadata": {},
     "output_type": "execute_result"
    }
   ],
   "source": [
    "df.head()"
   ]
  },
  {
   "cell_type": "code",
   "execution_count": 7,
   "metadata": {},
   "outputs": [],
   "source": [
    "# drop secondary index column along with ratings\n",
    "df = df.drop(columns=['Unnamed: 0','rating'])"
   ]
  },
  {
   "cell_type": "markdown",
   "metadata": {},
   "source": [
    "### Exploratory Data Analysis"
   ]
  },
  {
   "cell_type": "code",
   "execution_count": 8,
   "metadata": {},
   "outputs": [],
   "source": [
    "# import necessary packages and libraries\n",
    "import matplotlib.pyplot as plt\n",
    "import seaborn as sns\n",
    "from matplotlib_venn import venn2\n",
    "import warnings\n",
    "warnings.filterwarnings('ignore')"
   ]
  },
  {
   "cell_type": "code",
   "execution_count": 9,
   "metadata": {},
   "outputs": [
    {
     "data": {
      "image/png": "[encoded data removed]",
      "text/plain": [
       "<Figure size 720x360 with 1 Axes>"
      ]
     },
     "metadata": {},
     "output_type": "display_data"
    }
   ],
   "source": [
    "# create a venn diagram for classes \n",
    "\n",
    "plt.figure(figsize=(10,5))\n",
    "v= venn2(subsets=(len(df[df['type']==0]),len(df[df['type']==1]),len(df[df['type']==2])),set_labels=('Indica','Sativa'))\n",
    "v.get_patch_by_id('01').set_color('orange')\n",
    "v.get_patch_by_id('10').set_color('purple')\n",
    "v.get_patch_by_id('11').set_alpha(0.4)\n",
    "v.get_patch_by_id('11').set_color('green')\n",
    "v.get_patch_by_id('01').set_edgecolor('none')\n",
    "v.get_patch_by_id('10').set_edgecolor('none')\n",
    "v.get_patch_by_id('11').set_edgecolor('none')"
   ]
  },
  {
   "cell_type": "code",
   "execution_count": 10,
   "metadata": {
    "scrolled": false
   },
   "outputs": [
    {
     "data": {
      "text/plain": [
       "<matplotlib.legend.Legend at 0x1a1f2edfd0>"
      ]
     },
     "execution_count": 10,
     "metadata": {},
     "output_type": "execute_result"
    },
    {
     "data": {
      "text/plain": [
       "<Figure size 720x360 with 0 Axes>"
      ]
     },
     "metadata": {},
     "output_type": "display_data"
    },
    {
     "data": {
      "image/png": "[encoded data removed]",
      "text/plain": [
       "<Figure size 360x360 with 1 Axes>"
      ]
     },
     "metadata": {
      "needs_background": "light"
     },
     "output_type": "display_data"
    }
   ],
   "source": [
    "# create violin plots for thc contents by class\n",
    "\n",
    "plt.figure(figsize=(10,5))\n",
    "b = sns.catplot(x='type',y='thc',kind='violin',data=df, palette='cubehelix')\n",
    "b.fig.get_axes()[0].legend(title= 'type',loc='center right', bbox_to_anchor=(1.25,0.5),labels=[\"0: indica\",\"1: sativa\", '2: hybrid'],edgecolor='green',ncol=1)"
   ]
  },
  {
   "cell_type": "code",
   "execution_count": 11,
   "metadata": {},
   "outputs": [
    {
     "data": {
      "text/plain": [
       "<matplotlib.legend.Legend at 0x1a1f42cfd0>"
      ]
     },
     "execution_count": 11,
     "metadata": {},
     "output_type": "execute_result"
    },
    {
     "data": {
      "text/plain": [
       "<Figure size 720x360 with 0 Axes>"
      ]
     },
     "metadata": {},
     "output_type": "display_data"
    },
    {
     "data": {
      "image/png": "[encoded data removed]",
      "text/plain": [
       "<Figure size 360x360 with 1 Axes>"
      ]
     },
     "metadata": {
      "needs_background": "light"
     },
     "output_type": "display_data"
    }
   ],
   "source": [
    "# create violin plot of cbd contents by class\n",
    "\n",
    "plt.figure(figsize=(10,5))\n",
    "a = sns.catplot(x='type',y='cbd',kind='violin',data=df, palette='cubehelix')\n",
    "a.fig.get_axes()[0].legend(title= 'type',loc='upper left',labels=[\"0: indica\",\"1: sativa\", '2: hybrid'],edgecolor='green',ncol=1)"
   ]
  },
  {
   "cell_type": "code",
   "execution_count": 12,
   "metadata": {
    "scrolled": false
   },
   "outputs": [
    {
     "name": "stdout",
     "output_type": "stream",
     "text": [
      "Probability of Indica: 0.3044851547694251\n",
      "Probability of Sativa: 0.1831964624131396\n",
      "Probability of Hybrid: 0.5123183828174352\n"
     ]
    },
    {
     "data": {
      "image/png": "[encoded data removed]",
      "text/plain": [
       "<Figure size 432x288 with 1 Axes>"
      ]
     },
     "metadata": {
      "needs_background": "light"
     },
     "output_type": "display_data"
    }
   ],
   "source": [
    "# look at class imbalance\n",
    "\n",
    "indicadf=df[df['type']==0]\n",
    "sativadf=df[df['type']==1]\n",
    "hybriddf=df[df['type']==2]\n",
    "\n",
    "sns.distplot(df['type'])\n",
    "prind=len(indicadf)/len(df)\n",
    "prsat=len(sativadf)/len(df)\n",
    "prhyb=len(hybriddf)/len(df)\n",
    "print('Probability of Indica: {}'.format(prind))\n",
    "print('Probability of Sativa: {}'.format(prsat))\n",
    "print('Probability of Hybrid: {}'.format(prhyb))"
   ]
  },
  {
   "cell_type": "code",
   "execution_count": 14,
   "metadata": {},
   "outputs": [],
   "source": [
    "# separate effects and tastes and create dataframe for tastes \n",
    "\n",
    "effects = df[2:35]\n",
    "tastes = df[40:-2]\n",
    "\n",
    "ta = pd.DataFrame(tastes)"
   ]
  },
  {
   "cell_type": "code",
   "execution_count": 16,
   "metadata": {},
   "outputs": [],
   "source": [
    "# import plotting tools \n",
    "\n",
    "import bokeh\n",
    "from bokeh.plotting import output_file\n",
    "from bokeh.io import show\n",
    "from bokeh.sampledata.les_mis import data"
   ]
  },
  {
   "cell_type": "code",
   "execution_count": 17,
   "metadata": {},
   "outputs": [],
   "source": [
    "# uncomment for box plot for each effect\n",
    "\n",
    "# for e in effects:\n",
    "#     plt.figure(figsize=(10,5))\n",
    "#     sns.boxplot(x='type',y=e,data=df)\n"
   ]
  },
  {
   "cell_type": "code",
   "execution_count": 18,
   "metadata": {
    "scrolled": true
   },
   "outputs": [],
   "source": [
    "# uncomment for box plot for each taste\n",
    "\n",
    "# for t in tastes:\n",
    "#     plt.figure(figsize=(10,5))\n",
    "#     sns.boxplot(x='type',y=t,data=df)"
   ]
  },
  {
   "cell_type": "code",
   "execution_count": 53,
   "metadata": {
    "scrolled": true
   },
   "outputs": [
    {
     "data": {
      "text/html": [
       "<div>\n",
       "<style scoped>\n",
       "    .dataframe tbody tr th:only-of-type {\n",
       "        vertical-align: middle;\n",
       "    }\n",
       "\n",
       "    .dataframe tbody tr th {\n",
       "        vertical-align: top;\n",
       "    }\n",
       "\n",
       "    .dataframe thead th {\n",
       "        text-align: right;\n",
       "    }\n",
       "</style>\n",
       "<table border=\"1\" class=\"dataframe\">\n",
       "  <thead>\n",
       "    <tr style=\"text-align: right;\">\n",
       "      <th></th>\n",
       "      <th>Relaxed</th>\n",
       "      <th>Hungry</th>\n",
       "      <th>Happy</th>\n",
       "      <th>Sleepy</th>\n",
       "      <th>Dizzy</th>\n",
       "      <th>Depression</th>\n",
       "      <th>Insomnia</th>\n",
       "      <th>Pain</th>\n",
       "      <th>Stress</th>\n",
       "      <th>Lack of Appetite</th>\n",
       "      <th>Euphoric</th>\n",
       "      <th>Creative</th>\n",
       "      <th>Energetic</th>\n",
       "      <th>Talkative</th>\n",
       "      <th>Dry Mouth</th>\n",
       "      <th>Nausea</th>\n",
       "      <th>Headache</th>\n",
       "      <th>Uplifted</th>\n",
       "      <th>Tingly</th>\n",
       "      <th>Paranoid</th>\n",
       "      <th>Cramps</th>\n",
       "      <th>Dry Eyes</th>\n",
       "      <th>Fatigue</th>\n",
       "      <th>Headaches</th>\n",
       "      <th>Muscle Spasms</th>\n",
       "      <th>Focused</th>\n",
       "      <th>Eye Pressure</th>\n",
       "      <th>Anxious</th>\n",
       "      <th>Giggly</th>\n",
       "      <th>Aroused</th>\n",
       "      <th>Inflammation</th>\n",
       "      <th>Spasticity</th>\n",
       "      <th>Seizures</th>\n",
       "      <th>positive</th>\n",
       "      <th>negative</th>\n",
       "      <th>medical</th>\n",
       "      <th>None</th>\n",
       "      <th>Earthy</th>\n",
       "      <th>Sweet</th>\n",
       "      <th>Citrus</th>\n",
       "      <th>Flowery</th>\n",
       "      <th>Violet</th>\n",
       "      <th>Diesel</th>\n",
       "      <th>Spicy/Herbal</th>\n",
       "      <th>Sage</th>\n",
       "      <th>Woody</th>\n",
       "      <th>Apricot</th>\n",
       "      <th>Grapefruit</th>\n",
       "      <th>Orange</th>\n",
       "      <th>Pungent</th>\n",
       "      <th>Grape</th>\n",
       "      <th>Pine</th>\n",
       "      <th>Skunk</th>\n",
       "      <th>Berry</th>\n",
       "      <th>Pepper</th>\n",
       "      <th>Menthol</th>\n",
       "      <th>Blue</th>\n",
       "      <th>Cheese</th>\n",
       "      <th>Chemical</th>\n",
       "      <th>Mango</th>\n",
       "      <th>Lemon</th>\n",
       "      <th>Peach</th>\n",
       "      <th>Vanilla</th>\n",
       "      <th>Nutty</th>\n",
       "      <th>Chestnut</th>\n",
       "      <th>Tea</th>\n",
       "      <th>Tobacco</th>\n",
       "      <th>Tropical</th>\n",
       "      <th>Strawberry</th>\n",
       "      <th>Blueberry</th>\n",
       "      <th>Mint</th>\n",
       "      <th>Apple</th>\n",
       "      <th>Honey</th>\n",
       "      <th>Lavender</th>\n",
       "      <th>Lime</th>\n",
       "      <th>Coffee</th>\n",
       "      <th>Ammonia</th>\n",
       "      <th>Minty</th>\n",
       "      <th>Tree</th>\n",
       "      <th>Fruit</th>\n",
       "      <th>Butter</th>\n",
       "      <th>Pineapple</th>\n",
       "      <th>Tar</th>\n",
       "      <th>Rose</th>\n",
       "      <th>Plum</th>\n",
       "      <th>Pear</th>\n",
       "      <th>thc</th>\n",
       "      <th>cbd</th>\n",
       "    </tr>\n",
       "  </thead>\n",
       "  <tbody>\n",
       "    <tr>\n",
       "      <th>count</th>\n",
       "      <td>2433.000000</td>\n",
       "      <td>2433.000000</td>\n",
       "      <td>2433.000000</td>\n",
       "      <td>2433.000000</td>\n",
       "      <td>2433.000000</td>\n",
       "      <td>2433.000000</td>\n",
       "      <td>2433.000000</td>\n",
       "      <td>2433.000000</td>\n",
       "      <td>2433.000000</td>\n",
       "      <td>2433.000000</td>\n",
       "      <td>2433.000000</td>\n",
       "      <td>2433.000000</td>\n",
       "      <td>2433.000000</td>\n",
       "      <td>2433.000000</td>\n",
       "      <td>2433.000000</td>\n",
       "      <td>2433.000000</td>\n",
       "      <td>2433.000000</td>\n",
       "      <td>2433.000000</td>\n",
       "      <td>2433.000000</td>\n",
       "      <td>2433.000000</td>\n",
       "      <td>2433.000000</td>\n",
       "      <td>2433.000000</td>\n",
       "      <td>2433.000000</td>\n",
       "      <td>2433.000000</td>\n",
       "      <td>2433.000000</td>\n",
       "      <td>2433.000000</td>\n",
       "      <td>2433.000000</td>\n",
       "      <td>2433.000000</td>\n",
       "      <td>2433.000000</td>\n",
       "      <td>2433.000000</td>\n",
       "      <td>2433.000000</td>\n",
       "      <td>2433.000000</td>\n",
       "      <td>2433.000000</td>\n",
       "      <td>2433.000000</td>\n",
       "      <td>2433.000000</td>\n",
       "      <td>2433.000000</td>\n",
       "      <td>2433.0</td>\n",
       "      <td>2433.000000</td>\n",
       "      <td>2433.000000</td>\n",
       "      <td>2433.000000</td>\n",
       "      <td>2433.000000</td>\n",
       "      <td>2433.000000</td>\n",
       "      <td>2433.000000</td>\n",
       "      <td>2433.000000</td>\n",
       "      <td>2433.000000</td>\n",
       "      <td>2433.000000</td>\n",
       "      <td>2433.000000</td>\n",
       "      <td>2433.000000</td>\n",
       "      <td>2433.000000</td>\n",
       "      <td>2433.000000</td>\n",
       "      <td>2433.000000</td>\n",
       "      <td>2433.000000</td>\n",
       "      <td>2433.000000</td>\n",
       "      <td>2433.000000</td>\n",
       "      <td>2433.000000</td>\n",
       "      <td>2433.000000</td>\n",
       "      <td>2433.000000</td>\n",
       "      <td>2433.000000</td>\n",
       "      <td>2433.000000</td>\n",
       "      <td>2433.000000</td>\n",
       "      <td>2433.000000</td>\n",
       "      <td>2433.000000</td>\n",
       "      <td>2433.000000</td>\n",
       "      <td>2433.000000</td>\n",
       "      <td>2433.000000</td>\n",
       "      <td>2433.000000</td>\n",
       "      <td>2433.000000</td>\n",
       "      <td>2433.000000</td>\n",
       "      <td>2433.000000</td>\n",
       "      <td>2433.000000</td>\n",
       "      <td>2433.000000</td>\n",
       "      <td>2433.000000</td>\n",
       "      <td>2433.000000</td>\n",
       "      <td>2433.000000</td>\n",
       "      <td>2433.000000</td>\n",
       "      <td>2433.000000</td>\n",
       "      <td>2433.000000</td>\n",
       "      <td>2433.000000</td>\n",
       "      <td>2433.000000</td>\n",
       "      <td>2433.000000</td>\n",
       "      <td>2433.000000</td>\n",
       "      <td>2433.000000</td>\n",
       "      <td>2433.000000</td>\n",
       "      <td>2433.000000</td>\n",
       "      <td>2433.000000</td>\n",
       "      <td>2433.000000</td>\n",
       "      <td>2433.000000</td>\n",
       "      <td>2433.000000</td>\n",
       "    </tr>\n",
       "    <tr>\n",
       "      <th>mean</th>\n",
       "      <td>0.693794</td>\n",
       "      <td>0.173859</td>\n",
       "      <td>0.816276</td>\n",
       "      <td>0.253185</td>\n",
       "      <td>0.389642</td>\n",
       "      <td>0.769831</td>\n",
       "      <td>0.399096</td>\n",
       "      <td>0.727908</td>\n",
       "      <td>0.844636</td>\n",
       "      <td>0.300041</td>\n",
       "      <td>0.656391</td>\n",
       "      <td>0.307028</td>\n",
       "      <td>0.302507</td>\n",
       "      <td>0.077682</td>\n",
       "      <td>0.712700</td>\n",
       "      <td>0.170571</td>\n",
       "      <td>0.259762</td>\n",
       "      <td>0.542540</td>\n",
       "      <td>0.062474</td>\n",
       "      <td>0.360049</td>\n",
       "      <td>0.062885</td>\n",
       "      <td>0.591040</td>\n",
       "      <td>0.343609</td>\n",
       "      <td>0.244554</td>\n",
       "      <td>0.134813</td>\n",
       "      <td>0.221537</td>\n",
       "      <td>0.065762</td>\n",
       "      <td>0.250308</td>\n",
       "      <td>0.099466</td>\n",
       "      <td>0.055487</td>\n",
       "      <td>0.147143</td>\n",
       "      <td>0.011097</td>\n",
       "      <td>0.006165</td>\n",
       "      <td>4.702836</td>\n",
       "      <td>2.374435</td>\n",
       "      <td>4.915331</td>\n",
       "      <td>0.0</td>\n",
       "      <td>0.460748</td>\n",
       "      <td>0.430744</td>\n",
       "      <td>0.185779</td>\n",
       "      <td>0.080148</td>\n",
       "      <td>0.001644</td>\n",
       "      <td>0.068640</td>\n",
       "      <td>0.076038</td>\n",
       "      <td>0.011508</td>\n",
       "      <td>0.084258</td>\n",
       "      <td>0.001233</td>\n",
       "      <td>0.011097</td>\n",
       "      <td>0.023428</td>\n",
       "      <td>0.138512</td>\n",
       "      <td>0.059186</td>\n",
       "      <td>0.110152</td>\n",
       "      <td>0.055076</td>\n",
       "      <td>0.139745</td>\n",
       "      <td>0.017674</td>\n",
       "      <td>0.005754</td>\n",
       "      <td>0.063707</td>\n",
       "      <td>0.021373</td>\n",
       "      <td>0.010275</td>\n",
       "      <td>0.010686</td>\n",
       "      <td>0.067406</td>\n",
       "      <td>0.001233</td>\n",
       "      <td>0.010686</td>\n",
       "      <td>0.007398</td>\n",
       "      <td>0.001233</td>\n",
       "      <td>0.004932</td>\n",
       "      <td>0.002466</td>\n",
       "      <td>0.051788</td>\n",
       "      <td>0.016030</td>\n",
       "      <td>0.061652</td>\n",
       "      <td>0.015208</td>\n",
       "      <td>0.004110</td>\n",
       "      <td>0.009864</td>\n",
       "      <td>0.011097</td>\n",
       "      <td>0.016441</td>\n",
       "      <td>0.006987</td>\n",
       "      <td>0.008220</td>\n",
       "      <td>0.011508</td>\n",
       "      <td>0.008220</td>\n",
       "      <td>0.008220</td>\n",
       "      <td>0.007398</td>\n",
       "      <td>0.015619</td>\n",
       "      <td>0.002466</td>\n",
       "      <td>0.003288</td>\n",
       "      <td>0.000822</td>\n",
       "      <td>0.000411</td>\n",
       "      <td>21.230991</td>\n",
       "      <td>0.607069</td>\n",
       "    </tr>\n",
       "    <tr>\n",
       "      <th>std</th>\n",
       "      <td>0.461011</td>\n",
       "      <td>0.379066</td>\n",
       "      <td>0.387338</td>\n",
       "      <td>0.434926</td>\n",
       "      <td>0.487769</td>\n",
       "      <td>0.421027</td>\n",
       "      <td>0.489813</td>\n",
       "      <td>0.445129</td>\n",
       "      <td>0.362326</td>\n",
       "      <td>0.458370</td>\n",
       "      <td>0.475010</td>\n",
       "      <td>0.461356</td>\n",
       "      <td>0.459438</td>\n",
       "      <td>0.267725</td>\n",
       "      <td>0.452596</td>\n",
       "      <td>0.376211</td>\n",
       "      <td>0.438594</td>\n",
       "      <td>0.498289</td>\n",
       "      <td>0.242065</td>\n",
       "      <td>0.480113</td>\n",
       "      <td>0.242806</td>\n",
       "      <td>0.491743</td>\n",
       "      <td>0.475010</td>\n",
       "      <td>0.429911</td>\n",
       "      <td>0.341594</td>\n",
       "      <td>0.415367</td>\n",
       "      <td>0.247917</td>\n",
       "      <td>0.433280</td>\n",
       "      <td>0.299348</td>\n",
       "      <td>0.228976</td>\n",
       "      <td>0.354322</td>\n",
       "      <td>0.104780</td>\n",
       "      <td>0.078293</td>\n",
       "      <td>0.645757</td>\n",
       "      <td>1.703070</td>\n",
       "      <td>1.208957</td>\n",
       "      <td>0.0</td>\n",
       "      <td>0.498559</td>\n",
       "      <td>0.495282</td>\n",
       "      <td>0.389008</td>\n",
       "      <td>0.271578</td>\n",
       "      <td>0.040522</td>\n",
       "      <td>0.252892</td>\n",
       "      <td>0.265113</td>\n",
       "      <td>0.106680</td>\n",
       "      <td>0.277832</td>\n",
       "      <td>0.035100</td>\n",
       "      <td>0.104780</td>\n",
       "      <td>0.151289</td>\n",
       "      <td>0.345508</td>\n",
       "      <td>0.236021</td>\n",
       "      <td>0.313144</td>\n",
       "      <td>0.228176</td>\n",
       "      <td>0.346794</td>\n",
       "      <td>0.131789</td>\n",
       "      <td>0.075654</td>\n",
       "      <td>0.244281</td>\n",
       "      <td>0.144653</td>\n",
       "      <td>0.100866</td>\n",
       "      <td>0.102842</td>\n",
       "      <td>0.250776</td>\n",
       "      <td>0.035100</td>\n",
       "      <td>0.102842</td>\n",
       "      <td>0.085712</td>\n",
       "      <td>0.035100</td>\n",
       "      <td>0.070070</td>\n",
       "      <td>0.049609</td>\n",
       "      <td>0.221644</td>\n",
       "      <td>0.125615</td>\n",
       "      <td>0.240572</td>\n",
       "      <td>0.122403</td>\n",
       "      <td>0.063992</td>\n",
       "      <td>0.098849</td>\n",
       "      <td>0.104780</td>\n",
       "      <td>0.127189</td>\n",
       "      <td>0.083314</td>\n",
       "      <td>0.090311</td>\n",
       "      <td>0.106680</td>\n",
       "      <td>0.090311</td>\n",
       "      <td>0.090311</td>\n",
       "      <td>0.085712</td>\n",
       "      <td>0.124020</td>\n",
       "      <td>0.049609</td>\n",
       "      <td>0.057260</td>\n",
       "      <td>0.028665</td>\n",
       "      <td>0.020274</td>\n",
       "      <td>4.634777</td>\n",
       "      <td>2.801136</td>\n",
       "    </tr>\n",
       "    <tr>\n",
       "      <th>min</th>\n",
       "      <td>0.000000</td>\n",
       "      <td>0.000000</td>\n",
       "      <td>0.000000</td>\n",
       "      <td>0.000000</td>\n",
       "      <td>0.000000</td>\n",
       "      <td>0.000000</td>\n",
       "      <td>0.000000</td>\n",
       "      <td>0.000000</td>\n",
       "      <td>0.000000</td>\n",
       "      <td>0.000000</td>\n",
       "      <td>0.000000</td>\n",
       "      <td>0.000000</td>\n",
       "      <td>0.000000</td>\n",
       "      <td>0.000000</td>\n",
       "      <td>0.000000</td>\n",
       "      <td>0.000000</td>\n",
       "      <td>0.000000</td>\n",
       "      <td>0.000000</td>\n",
       "      <td>0.000000</td>\n",
       "      <td>0.000000</td>\n",
       "      <td>0.000000</td>\n",
       "      <td>0.000000</td>\n",
       "      <td>0.000000</td>\n",
       "      <td>0.000000</td>\n",
       "      <td>0.000000</td>\n",
       "      <td>0.000000</td>\n",
       "      <td>0.000000</td>\n",
       "      <td>0.000000</td>\n",
       "      <td>0.000000</td>\n",
       "      <td>0.000000</td>\n",
       "      <td>0.000000</td>\n",
       "      <td>0.000000</td>\n",
       "      <td>0.000000</td>\n",
       "      <td>0.000000</td>\n",
       "      <td>0.000000</td>\n",
       "      <td>0.000000</td>\n",
       "      <td>0.0</td>\n",
       "      <td>0.000000</td>\n",
       "      <td>0.000000</td>\n",
       "      <td>0.000000</td>\n",
       "      <td>0.000000</td>\n",
       "      <td>0.000000</td>\n",
       "      <td>0.000000</td>\n",
       "      <td>0.000000</td>\n",
       "      <td>0.000000</td>\n",
       "      <td>0.000000</td>\n",
       "      <td>0.000000</td>\n",
       "      <td>0.000000</td>\n",
       "      <td>0.000000</td>\n",
       "      <td>0.000000</td>\n",
       "      <td>0.000000</td>\n",
       "      <td>0.000000</td>\n",
       "      <td>0.000000</td>\n",
       "      <td>0.000000</td>\n",
       "      <td>0.000000</td>\n",
       "      <td>0.000000</td>\n",
       "      <td>0.000000</td>\n",
       "      <td>0.000000</td>\n",
       "      <td>0.000000</td>\n",
       "      <td>0.000000</td>\n",
       "      <td>0.000000</td>\n",
       "      <td>0.000000</td>\n",
       "      <td>0.000000</td>\n",
       "      <td>0.000000</td>\n",
       "      <td>0.000000</td>\n",
       "      <td>0.000000</td>\n",
       "      <td>0.000000</td>\n",
       "      <td>0.000000</td>\n",
       "      <td>0.000000</td>\n",
       "      <td>0.000000</td>\n",
       "      <td>0.000000</td>\n",
       "      <td>0.000000</td>\n",
       "      <td>0.000000</td>\n",
       "      <td>0.000000</td>\n",
       "      <td>0.000000</td>\n",
       "      <td>0.000000</td>\n",
       "      <td>0.000000</td>\n",
       "      <td>0.000000</td>\n",
       "      <td>0.000000</td>\n",
       "      <td>0.000000</td>\n",
       "      <td>0.000000</td>\n",
       "      <td>0.000000</td>\n",
       "      <td>0.000000</td>\n",
       "      <td>0.000000</td>\n",
       "      <td>0.000000</td>\n",
       "      <td>0.000000</td>\n",
       "      <td>0.000000</td>\n",
       "      <td>0.000000</td>\n",
       "    </tr>\n",
       "    <tr>\n",
       "      <th>25%</th>\n",
       "      <td>0.000000</td>\n",
       "      <td>0.000000</td>\n",
       "      <td>1.000000</td>\n",
       "      <td>0.000000</td>\n",
       "      <td>0.000000</td>\n",
       "      <td>1.000000</td>\n",
       "      <td>0.000000</td>\n",
       "      <td>0.000000</td>\n",
       "      <td>1.000000</td>\n",
       "      <td>0.000000</td>\n",
       "      <td>0.000000</td>\n",
       "      <td>0.000000</td>\n",
       "      <td>0.000000</td>\n",
       "      <td>0.000000</td>\n",
       "      <td>0.000000</td>\n",
       "      <td>0.000000</td>\n",
       "      <td>0.000000</td>\n",
       "      <td>0.000000</td>\n",
       "      <td>0.000000</td>\n",
       "      <td>0.000000</td>\n",
       "      <td>0.000000</td>\n",
       "      <td>0.000000</td>\n",
       "      <td>0.000000</td>\n",
       "      <td>0.000000</td>\n",
       "      <td>0.000000</td>\n",
       "      <td>0.000000</td>\n",
       "      <td>0.000000</td>\n",
       "      <td>0.000000</td>\n",
       "      <td>0.000000</td>\n",
       "      <td>0.000000</td>\n",
       "      <td>0.000000</td>\n",
       "      <td>0.000000</td>\n",
       "      <td>0.000000</td>\n",
       "      <td>5.000000</td>\n",
       "      <td>1.000000</td>\n",
       "      <td>5.000000</td>\n",
       "      <td>0.0</td>\n",
       "      <td>0.000000</td>\n",
       "      <td>0.000000</td>\n",
       "      <td>0.000000</td>\n",
       "      <td>0.000000</td>\n",
       "      <td>0.000000</td>\n",
       "      <td>0.000000</td>\n",
       "      <td>0.000000</td>\n",
       "      <td>0.000000</td>\n",
       "      <td>0.000000</td>\n",
       "      <td>0.000000</td>\n",
       "      <td>0.000000</td>\n",
       "      <td>0.000000</td>\n",
       "      <td>0.000000</td>\n",
       "      <td>0.000000</td>\n",
       "      <td>0.000000</td>\n",
       "      <td>0.000000</td>\n",
       "      <td>0.000000</td>\n",
       "      <td>0.000000</td>\n",
       "      <td>0.000000</td>\n",
       "      <td>0.000000</td>\n",
       "      <td>0.000000</td>\n",
       "      <td>0.000000</td>\n",
       "      <td>0.000000</td>\n",
       "      <td>0.000000</td>\n",
       "      <td>0.000000</td>\n",
       "      <td>0.000000</td>\n",
       "      <td>0.000000</td>\n",
       "      <td>0.000000</td>\n",
       "      <td>0.000000</td>\n",
       "      <td>0.000000</td>\n",
       "      <td>0.000000</td>\n",
       "      <td>0.000000</td>\n",
       "      <td>0.000000</td>\n",
       "      <td>0.000000</td>\n",
       "      <td>0.000000</td>\n",
       "      <td>0.000000</td>\n",
       "      <td>0.000000</td>\n",
       "      <td>0.000000</td>\n",
       "      <td>0.000000</td>\n",
       "      <td>0.000000</td>\n",
       "      <td>0.000000</td>\n",
       "      <td>0.000000</td>\n",
       "      <td>0.000000</td>\n",
       "      <td>0.000000</td>\n",
       "      <td>0.000000</td>\n",
       "      <td>0.000000</td>\n",
       "      <td>0.000000</td>\n",
       "      <td>0.000000</td>\n",
       "      <td>0.000000</td>\n",
       "      <td>19.000000</td>\n",
       "      <td>0.000000</td>\n",
       "    </tr>\n",
       "    <tr>\n",
       "      <th>50%</th>\n",
       "      <td>1.000000</td>\n",
       "      <td>0.000000</td>\n",
       "      <td>1.000000</td>\n",
       "      <td>0.000000</td>\n",
       "      <td>0.000000</td>\n",
       "      <td>1.000000</td>\n",
       "      <td>0.000000</td>\n",
       "      <td>1.000000</td>\n",
       "      <td>1.000000</td>\n",
       "      <td>0.000000</td>\n",
       "      <td>1.000000</td>\n",
       "      <td>0.000000</td>\n",
       "      <td>0.000000</td>\n",
       "      <td>0.000000</td>\n",
       "      <td>1.000000</td>\n",
       "      <td>0.000000</td>\n",
       "      <td>0.000000</td>\n",
       "      <td>1.000000</td>\n",
       "      <td>0.000000</td>\n",
       "      <td>0.000000</td>\n",
       "      <td>0.000000</td>\n",
       "      <td>1.000000</td>\n",
       "      <td>0.000000</td>\n",
       "      <td>0.000000</td>\n",
       "      <td>0.000000</td>\n",
       "      <td>0.000000</td>\n",
       "      <td>0.000000</td>\n",
       "      <td>0.000000</td>\n",
       "      <td>0.000000</td>\n",
       "      <td>0.000000</td>\n",
       "      <td>0.000000</td>\n",
       "      <td>0.000000</td>\n",
       "      <td>0.000000</td>\n",
       "      <td>5.000000</td>\n",
       "      <td>2.000000</td>\n",
       "      <td>5.000000</td>\n",
       "      <td>0.0</td>\n",
       "      <td>0.000000</td>\n",
       "      <td>0.000000</td>\n",
       "      <td>0.000000</td>\n",
       "      <td>0.000000</td>\n",
       "      <td>0.000000</td>\n",
       "      <td>0.000000</td>\n",
       "      <td>0.000000</td>\n",
       "      <td>0.000000</td>\n",
       "      <td>0.000000</td>\n",
       "      <td>0.000000</td>\n",
       "      <td>0.000000</td>\n",
       "      <td>0.000000</td>\n",
       "      <td>0.000000</td>\n",
       "      <td>0.000000</td>\n",
       "      <td>0.000000</td>\n",
       "      <td>0.000000</td>\n",
       "      <td>0.000000</td>\n",
       "      <td>0.000000</td>\n",
       "      <td>0.000000</td>\n",
       "      <td>0.000000</td>\n",
       "      <td>0.000000</td>\n",
       "      <td>0.000000</td>\n",
       "      <td>0.000000</td>\n",
       "      <td>0.000000</td>\n",
       "      <td>0.000000</td>\n",
       "      <td>0.000000</td>\n",
       "      <td>0.000000</td>\n",
       "      <td>0.000000</td>\n",
       "      <td>0.000000</td>\n",
       "      <td>0.000000</td>\n",
       "      <td>0.000000</td>\n",
       "      <td>0.000000</td>\n",
       "      <td>0.000000</td>\n",
       "      <td>0.000000</td>\n",
       "      <td>0.000000</td>\n",
       "      <td>0.000000</td>\n",
       "      <td>0.000000</td>\n",
       "      <td>0.000000</td>\n",
       "      <td>0.000000</td>\n",
       "      <td>0.000000</td>\n",
       "      <td>0.000000</td>\n",
       "      <td>0.000000</td>\n",
       "      <td>0.000000</td>\n",
       "      <td>0.000000</td>\n",
       "      <td>0.000000</td>\n",
       "      <td>0.000000</td>\n",
       "      <td>0.000000</td>\n",
       "      <td>0.000000</td>\n",
       "      <td>0.000000</td>\n",
       "      <td>22.000000</td>\n",
       "      <td>0.000000</td>\n",
       "    </tr>\n",
       "    <tr>\n",
       "      <th>75%</th>\n",
       "      <td>1.000000</td>\n",
       "      <td>0.000000</td>\n",
       "      <td>1.000000</td>\n",
       "      <td>1.000000</td>\n",
       "      <td>1.000000</td>\n",
       "      <td>1.000000</td>\n",
       "      <td>1.000000</td>\n",
       "      <td>1.000000</td>\n",
       "      <td>1.000000</td>\n",
       "      <td>1.000000</td>\n",
       "      <td>1.000000</td>\n",
       "      <td>1.000000</td>\n",
       "      <td>1.000000</td>\n",
       "      <td>0.000000</td>\n",
       "      <td>1.000000</td>\n",
       "      <td>0.000000</td>\n",
       "      <td>1.000000</td>\n",
       "      <td>1.000000</td>\n",
       "      <td>0.000000</td>\n",
       "      <td>1.000000</td>\n",
       "      <td>0.000000</td>\n",
       "      <td>1.000000</td>\n",
       "      <td>1.000000</td>\n",
       "      <td>0.000000</td>\n",
       "      <td>0.000000</td>\n",
       "      <td>0.000000</td>\n",
       "      <td>0.000000</td>\n",
       "      <td>1.000000</td>\n",
       "      <td>0.000000</td>\n",
       "      <td>0.000000</td>\n",
       "      <td>0.000000</td>\n",
       "      <td>0.000000</td>\n",
       "      <td>0.000000</td>\n",
       "      <td>5.000000</td>\n",
       "      <td>4.000000</td>\n",
       "      <td>6.000000</td>\n",
       "      <td>0.0</td>\n",
       "      <td>1.000000</td>\n",
       "      <td>1.000000</td>\n",
       "      <td>0.000000</td>\n",
       "      <td>0.000000</td>\n",
       "      <td>0.000000</td>\n",
       "      <td>0.000000</td>\n",
       "      <td>0.000000</td>\n",
       "      <td>0.000000</td>\n",
       "      <td>0.000000</td>\n",
       "      <td>0.000000</td>\n",
       "      <td>0.000000</td>\n",
       "      <td>0.000000</td>\n",
       "      <td>0.000000</td>\n",
       "      <td>0.000000</td>\n",
       "      <td>0.000000</td>\n",
       "      <td>0.000000</td>\n",
       "      <td>0.000000</td>\n",
       "      <td>0.000000</td>\n",
       "      <td>0.000000</td>\n",
       "      <td>0.000000</td>\n",
       "      <td>0.000000</td>\n",
       "      <td>0.000000</td>\n",
       "      <td>0.000000</td>\n",
       "      <td>0.000000</td>\n",
       "      <td>0.000000</td>\n",
       "      <td>0.000000</td>\n",
       "      <td>0.000000</td>\n",
       "      <td>0.000000</td>\n",
       "      <td>0.000000</td>\n",
       "      <td>0.000000</td>\n",
       "      <td>0.000000</td>\n",
       "      <td>0.000000</td>\n",
       "      <td>0.000000</td>\n",
       "      <td>0.000000</td>\n",
       "      <td>0.000000</td>\n",
       "      <td>0.000000</td>\n",
       "      <td>0.000000</td>\n",
       "      <td>0.000000</td>\n",
       "      <td>0.000000</td>\n",
       "      <td>0.000000</td>\n",
       "      <td>0.000000</td>\n",
       "      <td>0.000000</td>\n",
       "      <td>0.000000</td>\n",
       "      <td>0.000000</td>\n",
       "      <td>0.000000</td>\n",
       "      <td>0.000000</td>\n",
       "      <td>0.000000</td>\n",
       "      <td>0.000000</td>\n",
       "      <td>0.000000</td>\n",
       "      <td>24.000000</td>\n",
       "      <td>0.000000</td>\n",
       "    </tr>\n",
       "    <tr>\n",
       "      <th>max</th>\n",
       "      <td>1.000000</td>\n",
       "      <td>1.000000</td>\n",
       "      <td>1.000000</td>\n",
       "      <td>1.000000</td>\n",
       "      <td>1.000000</td>\n",
       "      <td>1.000000</td>\n",
       "      <td>1.000000</td>\n",
       "      <td>1.000000</td>\n",
       "      <td>1.000000</td>\n",
       "      <td>1.000000</td>\n",
       "      <td>1.000000</td>\n",
       "      <td>1.000000</td>\n",
       "      <td>1.000000</td>\n",
       "      <td>1.000000</td>\n",
       "      <td>1.000000</td>\n",
       "      <td>1.000000</td>\n",
       "      <td>1.000000</td>\n",
       "      <td>1.000000</td>\n",
       "      <td>1.000000</td>\n",
       "      <td>1.000000</td>\n",
       "      <td>1.000000</td>\n",
       "      <td>1.000000</td>\n",
       "      <td>1.000000</td>\n",
       "      <td>1.000000</td>\n",
       "      <td>1.000000</td>\n",
       "      <td>1.000000</td>\n",
       "      <td>1.000000</td>\n",
       "      <td>1.000000</td>\n",
       "      <td>1.000000</td>\n",
       "      <td>1.000000</td>\n",
       "      <td>1.000000</td>\n",
       "      <td>1.000000</td>\n",
       "      <td>1.000000</td>\n",
       "      <td>5.000000</td>\n",
       "      <td>5.000000</td>\n",
       "      <td>6.000000</td>\n",
       "      <td>0.0</td>\n",
       "      <td>1.000000</td>\n",
       "      <td>1.000000</td>\n",
       "      <td>1.000000</td>\n",
       "      <td>1.000000</td>\n",
       "      <td>1.000000</td>\n",
       "      <td>1.000000</td>\n",
       "      <td>1.000000</td>\n",
       "      <td>1.000000</td>\n",
       "      <td>1.000000</td>\n",
       "      <td>1.000000</td>\n",
       "      <td>1.000000</td>\n",
       "      <td>1.000000</td>\n",
       "      <td>1.000000</td>\n",
       "      <td>1.000000</td>\n",
       "      <td>1.000000</td>\n",
       "      <td>1.000000</td>\n",
       "      <td>1.000000</td>\n",
       "      <td>1.000000</td>\n",
       "      <td>1.000000</td>\n",
       "      <td>1.000000</td>\n",
       "      <td>1.000000</td>\n",
       "      <td>1.000000</td>\n",
       "      <td>1.000000</td>\n",
       "      <td>1.000000</td>\n",
       "      <td>1.000000</td>\n",
       "      <td>1.000000</td>\n",
       "      <td>1.000000</td>\n",
       "      <td>1.000000</td>\n",
       "      <td>1.000000</td>\n",
       "      <td>1.000000</td>\n",
       "      <td>1.000000</td>\n",
       "      <td>1.000000</td>\n",
       "      <td>1.000000</td>\n",
       "      <td>1.000000</td>\n",
       "      <td>1.000000</td>\n",
       "      <td>1.000000</td>\n",
       "      <td>1.000000</td>\n",
       "      <td>1.000000</td>\n",
       "      <td>1.000000</td>\n",
       "      <td>1.000000</td>\n",
       "      <td>1.000000</td>\n",
       "      <td>1.000000</td>\n",
       "      <td>1.000000</td>\n",
       "      <td>1.000000</td>\n",
       "      <td>1.000000</td>\n",
       "      <td>1.000000</td>\n",
       "      <td>1.000000</td>\n",
       "      <td>1.000000</td>\n",
       "      <td>1.000000</td>\n",
       "      <td>33.000000</td>\n",
       "      <td>36.000000</td>\n",
       "    </tr>\n",
       "  </tbody>\n",
       "</table>\n",
       "</div>"
      ],
      "text/plain": [
       "           Relaxed       Hungry        Happy       Sleepy        Dizzy  \\\n",
       "count  2433.000000  2433.000000  2433.000000  2433.000000  2433.000000   \n",
       "mean      0.693794     0.173859     0.816276     0.253185     0.389642   \n",
       "std       0.461011     0.379066     0.387338     0.434926     0.487769   \n",
       "min       0.000000     0.000000     0.000000     0.000000     0.000000   \n",
       "25%       0.000000     0.000000     1.000000     0.000000     0.000000   \n",
       "50%       1.000000     0.000000     1.000000     0.000000     0.000000   \n",
       "75%       1.000000     0.000000     1.000000     1.000000     1.000000   \n",
       "max       1.000000     1.000000     1.000000     1.000000     1.000000   \n",
       "\n",
       "        Depression     Insomnia         Pain       Stress  Lack of Appetite  \\\n",
       "count  2433.000000  2433.000000  2433.000000  2433.000000       2433.000000   \n",
       "mean      0.769831     0.399096     0.727908     0.844636          0.300041   \n",
       "std       0.421027     0.489813     0.445129     0.362326          0.458370   \n",
       "min       0.000000     0.000000     0.000000     0.000000          0.000000   \n",
       "25%       1.000000     0.000000     0.000000     1.000000          0.000000   \n",
       "50%       1.000000     0.000000     1.000000     1.000000          0.000000   \n",
       "75%       1.000000     1.000000     1.000000     1.000000          1.000000   \n",
       "max       1.000000     1.000000     1.000000     1.000000          1.000000   \n",
       "\n",
       "          Euphoric     Creative    Energetic    Talkative    Dry Mouth  \\\n",
       "count  2433.000000  2433.000000  2433.000000  2433.000000  2433.000000   \n",
       "mean      0.656391     0.307028     0.302507     0.077682     0.712700   \n",
       "std       0.475010     0.461356     0.459438     0.267725     0.452596   \n",
       "min       0.000000     0.000000     0.000000     0.000000     0.000000   \n",
       "25%       0.000000     0.000000     0.000000     0.000000     0.000000   \n",
       "50%       1.000000     0.000000     0.000000     0.000000     1.000000   \n",
       "75%       1.000000     1.000000     1.000000     0.000000     1.000000   \n",
       "max       1.000000     1.000000     1.000000     1.000000     1.000000   \n",
       "\n",
       "            Nausea     Headache     Uplifted       Tingly     Paranoid  \\\n",
       "count  2433.000000  2433.000000  2433.000000  2433.000000  2433.000000   \n",
       "mean      0.170571     0.259762     0.542540     0.062474     0.360049   \n",
       "std       0.376211     0.438594     0.498289     0.242065     0.480113   \n",
       "min       0.000000     0.000000     0.000000     0.000000     0.000000   \n",
       "25%       0.000000     0.000000     0.000000     0.000000     0.000000   \n",
       "50%       0.000000     0.000000     1.000000     0.000000     0.000000   \n",
       "75%       0.000000     1.000000     1.000000     0.000000     1.000000   \n",
       "max       1.000000     1.000000     1.000000     1.000000     1.000000   \n",
       "\n",
       "            Cramps     Dry Eyes      Fatigue    Headaches  Muscle Spasms  \\\n",
       "count  2433.000000  2433.000000  2433.000000  2433.000000    2433.000000   \n",
       "mean      0.062885     0.591040     0.343609     0.244554       0.134813   \n",
       "std       0.242806     0.491743     0.475010     0.429911       0.341594   \n",
       "min       0.000000     0.000000     0.000000     0.000000       0.000000   \n",
       "25%       0.000000     0.000000     0.000000     0.000000       0.000000   \n",
       "50%       0.000000     1.000000     0.000000     0.000000       0.000000   \n",
       "75%       0.000000     1.000000     1.000000     0.000000       0.000000   \n",
       "max       1.000000     1.000000     1.000000     1.000000       1.000000   \n",
       "\n",
       "           Focused  Eye Pressure      Anxious       Giggly      Aroused  \\\n",
       "count  2433.000000   2433.000000  2433.000000  2433.000000  2433.000000   \n",
       "mean      0.221537      0.065762     0.250308     0.099466     0.055487   \n",
       "std       0.415367      0.247917     0.433280     0.299348     0.228976   \n",
       "min       0.000000      0.000000     0.000000     0.000000     0.000000   \n",
       "25%       0.000000      0.000000     0.000000     0.000000     0.000000   \n",
       "50%       0.000000      0.000000     0.000000     0.000000     0.000000   \n",
       "75%       0.000000      0.000000     1.000000     0.000000     0.000000   \n",
       "max       1.000000      1.000000     1.000000     1.000000     1.000000   \n",
       "\n",
       "       Inflammation   Spasticity     Seizures     positive     negative  \\\n",
       "count   2433.000000  2433.000000  2433.000000  2433.000000  2433.000000   \n",
       "mean       0.147143     0.011097     0.006165     4.702836     2.374435   \n",
       "std        0.354322     0.104780     0.078293     0.645757     1.703070   \n",
       "min        0.000000     0.000000     0.000000     0.000000     0.000000   \n",
       "25%        0.000000     0.000000     0.000000     5.000000     1.000000   \n",
       "50%        0.000000     0.000000     0.000000     5.000000     2.000000   \n",
       "75%        0.000000     0.000000     0.000000     5.000000     4.000000   \n",
       "max        1.000000     1.000000     1.000000     5.000000     5.000000   \n",
       "\n",
       "           medical    None       Earthy        Sweet       Citrus  \\\n",
       "count  2433.000000  2433.0  2433.000000  2433.000000  2433.000000   \n",
       "mean      4.915331     0.0     0.460748     0.430744     0.185779   \n",
       "std       1.208957     0.0     0.498559     0.495282     0.389008   \n",
       "min       0.000000     0.0     0.000000     0.000000     0.000000   \n",
       "25%       5.000000     0.0     0.000000     0.000000     0.000000   \n",
       "50%       5.000000     0.0     0.000000     0.000000     0.000000   \n",
       "75%       6.000000     0.0     1.000000     1.000000     0.000000   \n",
       "max       6.000000     0.0     1.000000     1.000000     1.000000   \n",
       "\n",
       "           Flowery       Violet       Diesel  Spicy/Herbal         Sage  \\\n",
       "count  2433.000000  2433.000000  2433.000000   2433.000000  2433.000000   \n",
       "mean      0.080148     0.001644     0.068640      0.076038     0.011508   \n",
       "std       0.271578     0.040522     0.252892      0.265113     0.106680   \n",
       "min       0.000000     0.000000     0.000000      0.000000     0.000000   \n",
       "25%       0.000000     0.000000     0.000000      0.000000     0.000000   \n",
       "50%       0.000000     0.000000     0.000000      0.000000     0.000000   \n",
       "75%       0.000000     0.000000     0.000000      0.000000     0.000000   \n",
       "max       1.000000     1.000000     1.000000      1.000000     1.000000   \n",
       "\n",
       "             Woody      Apricot   Grapefruit       Orange      Pungent  \\\n",
       "count  2433.000000  2433.000000  2433.000000  2433.000000  2433.000000   \n",
       "mean      0.084258     0.001233     0.011097     0.023428     0.138512   \n",
       "std       0.277832     0.035100     0.104780     0.151289     0.345508   \n",
       "min       0.000000     0.000000     0.000000     0.000000     0.000000   \n",
       "25%       0.000000     0.000000     0.000000     0.000000     0.000000   \n",
       "50%       0.000000     0.000000     0.000000     0.000000     0.000000   \n",
       "75%       0.000000     0.000000     0.000000     0.000000     0.000000   \n",
       "max       1.000000     1.000000     1.000000     1.000000     1.000000   \n",
       "\n",
       "             Grape         Pine        Skunk        Berry       Pepper  \\\n",
       "count  2433.000000  2433.000000  2433.000000  2433.000000  2433.000000   \n",
       "mean      0.059186     0.110152     0.055076     0.139745     0.017674   \n",
       "std       0.236021     0.313144     0.228176     0.346794     0.131789   \n",
       "min       0.000000     0.000000     0.000000     0.000000     0.000000   \n",
       "25%       0.000000     0.000000     0.000000     0.000000     0.000000   \n",
       "50%       0.000000     0.000000     0.000000     0.000000     0.000000   \n",
       "75%       0.000000     0.000000     0.000000     0.000000     0.000000   \n",
       "max       1.000000     1.000000     1.000000     1.000000     1.000000   \n",
       "\n",
       "           Menthol         Blue       Cheese     Chemical        Mango  \\\n",
       "count  2433.000000  2433.000000  2433.000000  2433.000000  2433.000000   \n",
       "mean      0.005754     0.063707     0.021373     0.010275     0.010686   \n",
       "std       0.075654     0.244281     0.144653     0.100866     0.102842   \n",
       "min       0.000000     0.000000     0.000000     0.000000     0.000000   \n",
       "25%       0.000000     0.000000     0.000000     0.000000     0.000000   \n",
       "50%       0.000000     0.000000     0.000000     0.000000     0.000000   \n",
       "75%       0.000000     0.000000     0.000000     0.000000     0.000000   \n",
       "max       1.000000     1.000000     1.000000     1.000000     1.000000   \n",
       "\n",
       "             Lemon        Peach      Vanilla        Nutty     Chestnut  \\\n",
       "count  2433.000000  2433.000000  2433.000000  2433.000000  2433.000000   \n",
       "mean      0.067406     0.001233     0.010686     0.007398     0.001233   \n",
       "std       0.250776     0.035100     0.102842     0.085712     0.035100   \n",
       "min       0.000000     0.000000     0.000000     0.000000     0.000000   \n",
       "25%       0.000000     0.000000     0.000000     0.000000     0.000000   \n",
       "50%       0.000000     0.000000     0.000000     0.000000     0.000000   \n",
       "75%       0.000000     0.000000     0.000000     0.000000     0.000000   \n",
       "max       1.000000     1.000000     1.000000     1.000000     1.000000   \n",
       "\n",
       "               Tea      Tobacco     Tropical   Strawberry    Blueberry  \\\n",
       "count  2433.000000  2433.000000  2433.000000  2433.000000  2433.000000   \n",
       "mean      0.004932     0.002466     0.051788     0.016030     0.061652   \n",
       "std       0.070070     0.049609     0.221644     0.125615     0.240572   \n",
       "min       0.000000     0.000000     0.000000     0.000000     0.000000   \n",
       "25%       0.000000     0.000000     0.000000     0.000000     0.000000   \n",
       "50%       0.000000     0.000000     0.000000     0.000000     0.000000   \n",
       "75%       0.000000     0.000000     0.000000     0.000000     0.000000   \n",
       "max       1.000000     1.000000     1.000000     1.000000     1.000000   \n",
       "\n",
       "              Mint        Apple        Honey     Lavender         Lime  \\\n",
       "count  2433.000000  2433.000000  2433.000000  2433.000000  2433.000000   \n",
       "mean      0.015208     0.004110     0.009864     0.011097     0.016441   \n",
       "std       0.122403     0.063992     0.098849     0.104780     0.127189   \n",
       "min       0.000000     0.000000     0.000000     0.000000     0.000000   \n",
       "25%       0.000000     0.000000     0.000000     0.000000     0.000000   \n",
       "50%       0.000000     0.000000     0.000000     0.000000     0.000000   \n",
       "75%       0.000000     0.000000     0.000000     0.000000     0.000000   \n",
       "max       1.000000     1.000000     1.000000     1.000000     1.000000   \n",
       "\n",
       "            Coffee      Ammonia        Minty         Tree        Fruit  \\\n",
       "count  2433.000000  2433.000000  2433.000000  2433.000000  2433.000000   \n",
       "mean      0.006987     0.008220     0.011508     0.008220     0.008220   \n",
       "std       0.083314     0.090311     0.106680     0.090311     0.090311   \n",
       "min       0.000000     0.000000     0.000000     0.000000     0.000000   \n",
       "25%       0.000000     0.000000     0.000000     0.000000     0.000000   \n",
       "50%       0.000000     0.000000     0.000000     0.000000     0.000000   \n",
       "75%       0.000000     0.000000     0.000000     0.000000     0.000000   \n",
       "max       1.000000     1.000000     1.000000     1.000000     1.000000   \n",
       "\n",
       "            Butter    Pineapple          Tar         Rose         Plum  \\\n",
       "count  2433.000000  2433.000000  2433.000000  2433.000000  2433.000000   \n",
       "mean      0.007398     0.015619     0.002466     0.003288     0.000822   \n",
       "std       0.085712     0.124020     0.049609     0.057260     0.028665   \n",
       "min       0.000000     0.000000     0.000000     0.000000     0.000000   \n",
       "25%       0.000000     0.000000     0.000000     0.000000     0.000000   \n",
       "50%       0.000000     0.000000     0.000000     0.000000     0.000000   \n",
       "75%       0.000000     0.000000     0.000000     0.000000     0.000000   \n",
       "max       1.000000     1.000000     1.000000     1.000000     1.000000   \n",
       "\n",
       "              Pear          thc          cbd  \n",
       "count  2433.000000  2433.000000  2433.000000  \n",
       "mean      0.000411    21.230991     0.607069  \n",
       "std       0.020274     4.634777     2.801136  \n",
       "min       0.000000     0.000000     0.000000  \n",
       "25%       0.000000    19.000000     0.000000  \n",
       "50%       0.000000    22.000000     0.000000  \n",
       "75%       0.000000    24.000000     0.000000  \n",
       "max       1.000000    33.000000    36.000000  "
      ]
     },
     "execution_count": 53,
     "metadata": {},
     "output_type": "execute_result"
    }
   ],
   "source": [
    "X_res.describe()"
   ]
  },
  {
   "cell_type": "code",
   "execution_count": 20,
   "metadata": {},
   "outputs": [],
   "source": [
    "# for i in range(0, 40, 10):\n",
    "#     g = sns.PairGrid(df,\n",
    "#                      x_vars = effects[i:i+5],\n",
    "#                      y_vars = ['type'])\n",
    "#     g = g.map(sns.kdeplot)"
   ]
  },
  {
   "cell_type": "markdown",
   "metadata": {},
   "source": [
    "### Modeling Functions"
   ]
  },
  {
   "cell_type": "code",
   "execution_count": 21,
   "metadata": {},
   "outputs": [
    {
     "name": "stderr",
     "output_type": "stream",
     "text": [
      "Using TensorFlow backend.\n"
     ]
    }
   ],
   "source": [
    "from collections import Counter\n",
    "from imblearn.over_sampling import SMOTE "
   ]
  },
  {
   "cell_type": "code",
   "execution_count": 22,
   "metadata": {},
   "outputs": [],
   "source": [
    "import numpy as np\n",
    "from sklearn.neighbors import KNeighborsClassifier\n",
    "from sklearn.metrics import precision_score, recall_score, accuracy_score \n",
    "from sklearn.metrics import auc, confusion_matrix, f1_score, roc_curve"
   ]
  },
  {
   "cell_type": "markdown",
   "metadata": {},
   "source": [
    "### Create Functions for Modeling"
   ]
  },
  {
   "cell_type": "code",
   "execution_count": 24,
   "metadata": {},
   "outputs": [],
   "source": [
    "# find the best K and best score for KNN\n",
    "\n",
    "def find_best_k(X_train, y_train, X_test, y_test, min_k=1, max_k=25):\n",
    "    best_k = 0\n",
    "    best_score = 0.0\n",
    "    for k in range(min_k, max_k+1, 2):\n",
    "        knn = KNeighborsClassifier(n_neighbors=k)\n",
    "        knn.fit(X_train, y_train)\n",
    "        preds = knn.predict(X_test)\n",
    "        accuracy = accuracy_score(y_test, preds)\n",
    "        if accuracy > best_score:\n",
    "            best_k = k\n",
    "            best_score = accuracy\n",
    "    print(\"Best Value for k: {}\".format(best_k))\n",
    "    print(\"Accuracy: {}\".format(best_score))"
   ]
  },
  {
   "cell_type": "code",
   "execution_count": 25,
   "metadata": {},
   "outputs": [],
   "source": [
    "# print the accuracy metrics \n",
    "\n",
    "def print_metrics(test, preds):\n",
    "    print(\"Precision Score: {}\".format(precision_score(test, preds,average=None)))\n",
    "    print(\"Recall Score: {}\".format(recall_score(test, preds,average=None)))\n",
    "    print(\"Accuracy Score: {}\".format(accuracy_score(test, preds)))\n",
    "    print(\"F1 Score: {}\".format(f1_score(test, preds,average=None)))"
   ]
  },
  {
   "cell_type": "code",
   "execution_count": 26,
   "metadata": {},
   "outputs": [],
   "source": [
    "# print receiver operating characteristic\n",
    "\n",
    "def roc(classifier, X_train, X_test, y_train, y_test, n_classes):\n",
    "    fpr = dict()\n",
    "    tpr = dict()\n",
    "    roc_auc = dict()\n",
    "    y_score=classifier.fit(X_train, y_train).predict(X_test)\n",
    "    for i in range(n_classes):\n",
    "        fpr[i], tpr[i], _ = roc_curve(y_test[:, i], y_score[:, i])\n",
    "        roc_auc[i] = auc(fpr[i], tpr[i])\n",
    "    colors = ['blue', 'red', 'green']\n",
    "    for i, color in zip(range(n_classes), colors):\n",
    "        plt.plot(fpr[i], tpr[i], color=color,\n",
    "                 label='ROC curve of class {0} (area = {1:0.2f})'\n",
    "                 ''.format(i, roc_auc[i]))\n",
    "    plt.plot([0, 1], [0, 1], 'k--')\n",
    "    plt.xlim([-0.05, 1.0])\n",
    "    plt.ylim([0.0, 1.05])\n",
    "    plt.xlabel('False Positive Rate')\n",
    "    plt.ylabel('True Positive Rate')\n",
    "    plt.title('Receiver operating characteristic for multi-class data')\n",
    "    plt.legend(loc=\"lower right\")\n",
    "    plt.show()"
   ]
  },
  {
   "cell_type": "code",
   "execution_count": 27,
   "metadata": {},
   "outputs": [],
   "source": [
    "# plot feature importance\n",
    "\n",
    "def plot_feature_importances(model,X_train, X_test, y_train, y_test):\n",
    "    n_features = X_train.shape[1]\n",
    "    plt.figure(figsize=(8,8))\n",
    "    plt.barh(range(n_features), model.feature_importances_, align='center') \n",
    "    plt.yticks(np.arange(n_features), X_train.columns.values) \n",
    "    plt.xlabel(\"Feature importance\")\n",
    "    plt.ylabel(\"Feature\")"
   ]
  },
  {
   "cell_type": "code",
   "execution_count": 28,
   "metadata": {},
   "outputs": [],
   "source": [
    "# create correlation matrix\n",
    "\n",
    "def plot_corr_matrix(y_true,y_pred,classes,normalize=False,title=None,cmap=plt.cm.YlGn):\n",
    "    #labels=['Sativa','Indica','Hybrid']\n",
    "    cmat=pd.crosstab(y_true, y_pred, rownames=['True'], colnames=['Predicted'], margins=True)\n",
    "    print(cmat)\n",
    "    cm=confusion_matrix(y_true,y_pred)\n",
    "    fig, ax =plt.subplots()\n",
    "    im = ax.imshow(cm, interpolation='nearest', cmap=cmap)\n",
    "    ax.figure.colorbar(im, ax=ax)\n",
    "    ax.set(xticks=np.arange(cm.shape[1]),\n",
    "           yticks=np.arange(cm.shape[0]),\n",
    "           # ... and label them with the respective list entries\n",
    "           xticklabels=classes, yticklabels=classes,\n",
    "           title=title,\n",
    "           ylabel='True label',\n",
    "           xlabel='Predicted label')\n",
    "    # Rotate the tick labels and set their alignment.\n",
    "    plt.setp(ax.get_xticklabels(), rotation=45, ha=\"right\",\n",
    "             rotation_mode=\"anchor\")\n",
    "    # Loop over data dimensions and create text annotations.\n",
    "    fmt = '.2f' if normalize else 'd'\n",
    "    thresh = cm.max() / 2.\n",
    "    for i in range(cm.shape[0]):\n",
    "        for j in range(cm.shape[1]):\n",
    "            ax.text(j, i, format(cm[i, j], fmt),\n",
    "                    ha=\"center\", va=\"center\",\n",
    "                    color=\"white\" if cm[i, j] > thresh else \"black\")\n",
    "    fig.tight_layout()\n",
    "    return ax"
   ]
  },
  {
   "cell_type": "markdown",
   "metadata": {},
   "source": [
    "### Implementation"
   ]
  },
  {
   "cell_type": "code",
   "execution_count": 29,
   "metadata": {
    "scrolled": true
   },
   "outputs": [],
   "source": [
    "# stats imports \n",
    "\n",
    "from sklearn.model_selection import train_test_split, GridSearchCV, cross_val_score\n",
    "import seaborn as sns\n",
    "import matplotlib.pyplot as plt\n",
    "from scipy import stats\n",
    "from sklearn.preprocessing import StandardScaler, label_binarize\n",
    "from sklearn.metrics import precision_score, recall_score, accuracy_score, f1_score, roc_curve\n",
    "from sklearn.metrics import auc, classification_report, confusion_matrix\n",
    "from sklearn import tree, svm\n",
    "from sklearn.naive_bayes import GaussianNB\n",
    "from sklearn.tree import DecisionTreeClassifier\n",
    "from sklearn.ensemble import BaggingClassifier, RandomForestClassifier, AdaBoostClassifier\n",
    "from sklearn.externals.six import StringIO \n",
    "# import xgboost as xgb\n",
    "from sklearn.dummy import DummyClassifier\n",
    "from sklearn.decomposition import PCA  \n",
    "from sklearn.linear_model import LogisticRegression"
   ]
  },
  {
   "cell_type": "code",
   "execution_count": 30,
   "metadata": {},
   "outputs": [],
   "source": [
    "#Train Test Split on imbalanced classes\n",
    "features=df.drop(columns=['name','type'])\n",
    "trainn=df.drop(columns=['name'])\n",
    "selectedfeatures=['thc','cbd','Relaxed','Hungry','Sleepy','Depression','Insomnia','Pain','Euphoric','Creative','Energetic','Dry Mouth','Nausea','Uplifted','Fatigue','Focused',\n",
    "                  'Sweet','Citrus','Flowery','Violet','Diesel','Spicy/Herbal','Sage','Woody','Apricot','Grapefruit','Orange','Pungent','Grape',\n",
    "                  'Pine','Skunk','Berry','Pepper','Menthol','Cheese','Chemical','Mango','Lemon','Peach','Vanilla','Nutty']\n",
    "target=df.type"
   ]
  },
  {
   "cell_type": "code",
   "execution_count": 31,
   "metadata": {},
   "outputs": [
    {
     "name": "stdout",
     "output_type": "stream",
     "text": [
      "Resampled dataset shape Counter({0: 811, 2: 811, 1: 811})\n"
     ]
    }
   ],
   "source": [
    "# handle class imbalance with SMOTE\n",
    "\n",
    "sm = SMOTE(random_state=42)\n",
    "X_res, y_res = sm.fit_resample(features, target)\n",
    "print('Resampled dataset shape %s' % Counter(y_res))"
   ]
  },
  {
   "cell_type": "code",
   "execution_count": 32,
   "metadata": {
    "scrolled": true
   },
   "outputs": [],
   "source": [
    "# create new dataframe of resampled target variables\n",
    "\n",
    "newsh = y_res.to_frame()"
   ]
  },
  {
   "cell_type": "code",
   "execution_count": 154,
   "metadata": {},
   "outputs": [
    {
     "data": {
      "image/png": "[encoded data removed]",
      "text/plain": [
       "<Figure size 720x360 with 1 Axes>"
      ]
     },
     "metadata": {},
     "output_type": "display_data"
    }
   ],
   "source": [
    "# venn diagram of balanced classes\n",
    "\n",
    "plt.figure(figsize=(10,5))\n",
    "c = venn2(subsets=(len(newsh[newsh['type']==0]),len(newsh[newsh['type']==1]),len(newsh[newsh['type']==2])),set_labels=('Indica','Sativa'))\n",
    "c.get_patch_by_id('01').set_color('orange')\n",
    "c.get_patch_by_id('10').set_color('purple')\n",
    "c.get_patch_by_id('11').set_alpha(0.4)\n",
    "c.get_patch_by_id('11').set_color('green')\n",
    "c.get_patch_by_id('01').set_edgecolor('none')\n",
    "c.get_patch_by_id('10').set_edgecolor('none')\n",
    "c.get_patch_by_id('11').set_edgecolor('none')"
   ]
  },
  {
   "cell_type": "code",
   "execution_count": 155,
   "metadata": {},
   "outputs": [
    {
     "name": "stdout",
     "output_type": "stream",
     "text": [
      "Probability of Indica: 0.3333333333333333\n",
      "Probability of Sativa: 0.3333333333333333\n",
      "Probability of Hybrid: 0.3333333333333333\n"
     ]
    },
    {
     "data": {
      "image/png": "[encoded data removed]",
      "text/plain": [
       "<Figure size 432x288 with 1 Axes>"
      ]
     },
     "metadata": {
      "needs_background": "light"
     },
     "output_type": "display_data"
    }
   ],
   "source": [
    "# new probabilities with balanced classes\n",
    "\n",
    "indicadf=newsh[newsh['type']==0]\n",
    "sativadf=newsh[newsh['type']==1]\n",
    "hybriddf=newsh[newsh['type']==2]\n",
    "\n",
    "sns.distplot(newsh['type'])\n",
    "prind=len(indicadf)/len(newsh)\n",
    "prsat=len(sativadf)/len(newsh)\n",
    "prhyb=len(hybriddf)/len(newsh)\n",
    "print('Probability of Indica: {}'.format(prind))\n",
    "print('Probability of Sativa: {}'.format(prsat))\n",
    "print('Probability of Hybrid: {}'.format(prhyb))"
   ]
  },
  {
   "cell_type": "code",
   "execution_count": 33,
   "metadata": {},
   "outputs": [],
   "source": [
    "# Train Test Split\n",
    "\n",
    "X_train, X_test, y_train, y_test = train_test_split(X_res, y_res, test_size=0.25,random_state=42)\n",
    "trainx=X_train[selectedfeatures]\n",
    "testx=X_test[selectedfeatures]"
   ]
  },
  {
   "cell_type": "code",
   "execution_count": 2,
   "metadata": {},
   "outputs": [],
   "source": [
    "# trainx.shape, y_train.shape, testx.shape, y_pred.shape, yptest.shape"
   ]
  },
  {
   "cell_type": "code",
   "execution_count": 35,
   "metadata": {
    "scrolled": false
   },
   "outputs": [
    {
     "data": {
      "image/png": "[encoded data removed]",
      "text/plain": [
       "<Figure size 720x360 with 1 Axes>"
      ]
     },
     "metadata": {
      "needs_background": "light"
     },
     "output_type": "display_data"
    }
   ],
   "source": [
    "#PCA\n",
    "pca = PCA()\n",
    "features=df.drop(columns=['name'])\n",
    "transformed = pca.fit_transform(X_res)\n",
    "pca.components_\n",
    "pcadict={'feat1':transformed[:,0],'feat2':transformed[:,1]}\n",
    "pcadf=pd.DataFrame(pcadict)\n",
    "pcadf['target']=df['type']\n",
    "pcadf.head()\n",
    "plt.figure(figsize=(10,5))\n",
    "sns.scatterplot(x='feat1',y='feat2',hue='target',data=pcadf)\n",
    "\n",
    "pca.mean_\n",
    "featurespca=pcadf.drop(columns='target')\n",
    "targetpca=pcadf.target\n",
    "Xptrain, Xptest, yptrain, yptest = train_test_split(featurespca, targetpca, test_size=0.25,random_state=42)"
   ]
  },
  {
   "cell_type": "code",
   "execution_count": 36,
   "metadata": {},
   "outputs": [],
   "source": [
    "#Scale Training Features\n",
    "scaler = StandardScaler()\n",
    "\n",
    "scaled_data_train = scaler.fit_transform(X_train)\n",
    "scaled_data_test = scaler.transform(X_test)"
   ]
  },
  {
   "cell_type": "code",
   "execution_count": 37,
   "metadata": {},
   "outputs": [
    {
     "name": "stdout",
     "output_type": "stream",
     "text": [
      "Baseline Model Metrics:\n",
      "Precision Score: [0.         0.32183908 0.        ]\n",
      "Recall Score: [0. 1. 0.]\n",
      "Accuracy Score: 0.3218390804597701\n",
      "F1 Score: [0.         0.48695652 0.        ]\n",
      "Predicted    1  All\n",
      "True               \n",
      "0          200  200\n",
      "1          196  196\n",
      "2          213  213\n",
      "All        609  609\n",
      "              precision    recall  f1-score   support\n",
      "\n",
      "      indica       0.00      0.00      0.00       200\n",
      "      sativa       0.32      1.00      0.49       196\n",
      "      hybrid       0.00      0.00      0.00       213\n",
      "\n",
      "    accuracy                           0.32       609\n",
      "   macro avg       0.11      0.33      0.16       609\n",
      "weighted avg       0.10      0.32      0.16       609\n",
      "\n"
     ]
    },
    {
     "data": {
      "text/plain": [
       "<Figure size 720x432 with 0 Axes>"
      ]
     },
     "metadata": {},
     "output_type": "display_data"
    },
    {
     "data": {
      "image/png": "[encoded data removed]",
      "text/plain": [
       "<Figure size 432x288 with 2 Axes>"
      ]
     },
     "metadata": {
      "needs_background": "light"
     },
     "output_type": "display_data"
    }
   ],
   "source": [
    "#Dummy Model (accuracy: 0.3218)\n",
    "dummy = DummyClassifier(strategy='most_frequent', random_state=1)\n",
    "\n",
    "dummy.fit(scaled_data_train, y_train)\n",
    "basepreds=dummy.predict(scaled_data_test)\n",
    "sc=dummy.score(scaled_data_test, y_test) \n",
    "print(\"Baseline Model Metrics:\")\n",
    "print_metrics(y_test,basepreds)\n",
    "plt.figure(figsize=(10,6))\n",
    "plot_corr_matrix(y_test,basepreds,['Indica','Sativa','Hybrid'],'Baseline')\n",
    "print(classification_report(y_test,basepreds,target_names=['indica','sativa','hybrid']))\n"
   ]
  },
  {
   "cell_type": "code",
   "execution_count": 38,
   "metadata": {},
   "outputs": [
    {
     "name": "stdout",
     "output_type": "stream",
     "text": [
      "Precision Score: [0.72772277 0.87209302 0.64680851]\n",
      "Recall Score: [0.735      0.76530612 0.71361502]\n",
      "Accuracy Score: 0.7372742200328407\n",
      "F1 Score: [0.73134328 0.81521739 0.67857143]\n",
      "Predicted    0    1    2  All\n",
      "True                         \n",
      "0          147    8   45  200\n",
      "1            8  150   38  196\n",
      "2           47   14  152  213\n",
      "All        202  172  235  609\n",
      "              precision    recall  f1-score   support\n",
      "\n",
      "      indica       0.73      0.73      0.73       200\n",
      "      sativa       0.87      0.77      0.82       196\n",
      "      hybrid       0.65      0.71      0.68       213\n",
      "\n",
      "    accuracy                           0.74       609\n",
      "   macro avg       0.75      0.74      0.74       609\n",
      "weighted avg       0.75      0.74      0.74       609\n",
      "\n"
     ]
    },
    {
     "data": {
      "text/plain": [
       "<Figure size 720x432 with 0 Axes>"
      ]
     },
     "metadata": {},
     "output_type": "display_data"
    },
    {
     "data": {
      "image/png": "[encoded data removed]",
      "text/plain": [
       "<Figure size 432x288 with 2 Axes>"
      ]
     },
     "metadata": {
      "needs_background": "light"
     },
     "output_type": "display_data"
    }
   ],
   "source": [
    "#Logistic Regression Baseline(Accuracy: 0.7373)\n",
    "logreg = LogisticRegression(random_state=0, solver='lbfgs', multi_class='multinomial')\n",
    "model_log = logreg.fit(scaled_data_train, y_train)\n",
    "y_pred=model_log.predict(scaled_data_test)\n",
    "print_metrics(y_test,y_pred)\n",
    "plt.figure(figsize=(10,6))\n",
    "plot_corr_matrix(y_test,y_pred,['Indica','Sativa','Hybrid'])\n",
    "print(classification_report(y_test,y_pred,target_names=['indica','sativa','hybrid']))"
   ]
  },
  {
   "cell_type": "code",
   "execution_count": 39,
   "metadata": {},
   "outputs": [
    {
     "name": "stdout",
     "output_type": "stream",
     "text": [
      "Precision Score: [0.70892019 0.76410256 0.64179104]\n",
      "Recall Score: [0.755      0.76020408 0.6056338 ]\n",
      "Accuracy Score: 0.7044334975369458\n",
      "F1 Score: [0.73123487 0.76214834 0.62318841]\n",
      "Predicted    0    1    2  All\n",
      "True                         \n",
      "0          151   13   36  200\n",
      "1           11  149   36  196\n",
      "2           51   33  129  213\n",
      "All        213  195  201  609\n",
      "              precision    recall  f1-score   support\n",
      "\n",
      "      indica       0.71      0.76      0.73       200\n",
      "      sativa       0.76      0.76      0.76       196\n",
      "      hybrid       0.64      0.61      0.62       213\n",
      "\n",
      "    accuracy                           0.70       609\n",
      "   macro avg       0.70      0.71      0.71       609\n",
      "weighted avg       0.70      0.70      0.70       609\n",
      "\n"
     ]
    },
    {
     "data": {
      "text/plain": [
       "<Figure size 720x432 with 0 Axes>"
      ]
     },
     "metadata": {},
     "output_type": "display_data"
    },
    {
     "data": {
      "image/png": "[encoded data removed]",
      "text/plain": [
       "<Figure size 432x288 with 2 Axes>"
      ]
     },
     "metadata": {
      "needs_background": "light"
     },
     "output_type": "display_data"
    }
   ],
   "source": [
    "#Logistic Regression With Selected Features (accuracy: 0.70)\n",
    "logreg = LogisticRegression(random_state=0, solver='lbfgs', multi_class='multinomial')\n",
    "model_log = logreg.fit(trainx, y_train)\n",
    "y_pred=model_log.predict(testx)\n",
    "print_metrics(y_test,y_pred)\n",
    "plt.figure(figsize=(10,6))\n",
    "plot_corr_matrix(y_test,y_pred,['Indica','Sativa','Hybrid'])\n",
    "print(classification_report(y_test,y_pred,target_names=['indica','sativa','hybrid']))"
   ]
  },
  {
   "cell_type": "code",
   "execution_count": 46,
   "metadata": {},
   "outputs": [],
   "source": [
    "#Logistic Regression with PCA (Accuracy: 0.5253)\n",
    "logreg = LogisticRegression(random_state=0, solver='lbfgs', multi_class='multinomial')\n",
    "model_log = logreg.fit(Xptrain, yptrain)\n",
    "y_pred=model_log.predict(Xptest)\n",
    "print_metrics(yptest,y_pred)\n",
    "plt.figure(figsize=(10,6))\n",
    "plot_corr_matrix(yptest,y_pred,['Indica','Sativa','Hybrid'])\n",
    "print(classification_report(yptest,y_pred,target_names=['indica','sativa','hybrid']))\n"
   ]
  },
  {
   "cell_type": "code",
   "execution_count": 41,
   "metadata": {},
   "outputs": [
    {
     "name": "stdout",
     "output_type": "stream",
     "text": [
      "Precision Score: [0.57751938 0.68774704 0.66326531]\n",
      "Recall Score: [0.745      0.8877551  0.30516432]\n",
      "Accuracy Score: 0.6371100164203612\n",
      "F1 Score: [0.65065502 0.77505568 0.41800643]\n",
      "              precision    recall  f1-score   support\n",
      "\n",
      "      indica       0.58      0.74      0.65       200\n",
      "      sativa       0.69      0.89      0.78       196\n",
      "      hybrid       0.66      0.31      0.42       213\n",
      "\n",
      "    accuracy                           0.64       609\n",
      "   macro avg       0.64      0.65      0.61       609\n",
      "weighted avg       0.64      0.64      0.61       609\n",
      "\n",
      "Predicted    0    1   2  All\n",
      "True                        \n",
      "0          149   27  24  200\n",
      "1           13  174   9  196\n",
      "2           96   52  65  213\n",
      "All        258  253  98  609\n"
     ]
    },
    {
     "data": {
      "text/plain": [
       "<matplotlib.axes._subplots.AxesSubplot at 0x1a1f8c77f0>"
      ]
     },
     "execution_count": 41,
     "metadata": {},
     "output_type": "execute_result"
    },
    {
     "data": {
      "image/png": "[encoded data removed]",
      "text/plain": [
       "<Figure size 432x288 with 2 Axes>"
      ]
     },
     "metadata": {
      "needs_background": "light"
     },
     "output_type": "display_data"
    }
   ],
   "source": [
    "#KNN Baseline (Accuracy: 0.6371)\n",
    "clf1 = KNeighborsClassifier()\n",
    "clf1.fit(scaled_data_train, y_train)\n",
    "test_preds = clf1.predict(scaled_data_test)\n",
    "print_metrics(y_test, test_preds)\n",
    "print(classification_report(y_test,test_preds,target_names=['indica','sativa','hybrid']))\n",
    "plot_corr_matrix(y_test,test_preds,['Indica','Sativa','Hybrid'])"
   ]
  },
  {
   "cell_type": "code",
   "execution_count": 42,
   "metadata": {},
   "outputs": [
    {
     "name": "stdout",
     "output_type": "stream",
     "text": [
      "Precision Score: [0.65637066 0.64157706 0.71830986]\n",
      "Recall Score: [0.85       0.91326531 0.23943662]\n",
      "Accuracy Score: 0.6568144499178982\n",
      "F1 Score: [0.74074074 0.75368421 0.35915493]\n",
      "              precision    recall  f1-score   support\n",
      "\n",
      "      indica       0.66      0.85      0.74       200\n",
      "      sativa       0.64      0.91      0.75       196\n",
      "      hybrid       0.72      0.24      0.36       213\n",
      "\n",
      "    accuracy                           0.66       609\n",
      "   macro avg       0.67      0.67      0.62       609\n",
      "weighted avg       0.67      0.66      0.61       609\n",
      "\n",
      "Predicted    0    1   2  All\n",
      "True                        \n",
      "0          170   19  11  200\n",
      "1            8  179   9  196\n",
      "2           81   81  51  213\n",
      "All        259  279  71  609\n"
     ]
    },
    {
     "data": {
      "text/plain": [
       "<matplotlib.axes._subplots.AxesSubplot at 0x1a3bd61710>"
      ]
     },
     "execution_count": 42,
     "metadata": {},
     "output_type": "execute_result"
    },
    {
     "data": {
      "image/png": "[encoded data removed]",
      "text/plain": [
       "<Figure size 432x288 with 2 Axes>"
      ]
     },
     "metadata": {
      "needs_background": "light"
     },
     "output_type": "display_data"
    }
   ],
   "source": [
    "#KNN With Selected Features (Accuracy: 0.6568)\n",
    "clf1 = KNeighborsClassifier()\n",
    "clf1.fit(trainx, y_train)\n",
    "test_preds = clf1.predict(testx)\n",
    "print_metrics(y_test, test_preds)\n",
    "print(classification_report(y_test,test_preds,target_names=['indica','sativa','hybrid']))\n",
    "confusion_matrix(test_preds,y_test)\n",
    "plot_corr_matrix(y_test,test_preds,['Indica','Sativa','Hybrid'])\n"
   ]
  },
  {
   "cell_type": "code",
   "execution_count": 45,
   "metadata": {},
   "outputs": [],
   "source": [
    "#KNN With PCA (Accuracy: 0.64)\n",
    "clf1 = KNeighborsClassifier()\n",
    "clf1.fit(Xptrain, yptrain)\n",
    "test_preds = clf1.predict(Xptest)\n",
    "print_metrics(yptest, test_preds)\n",
    "print(classification_report(yptest,test_preds,target_names=['indica','sativa','hybrid']))\n",
    "confusion_matrix(test_preds,yptest)\n",
    "plot_corr_matrix(y_test,test_preds,['Indica','Sativa','Hybrid'])"
   ]
  },
  {
   "cell_type": "code",
   "execution_count": 43,
   "metadata": {},
   "outputs": [
    {
     "name": "stdout",
     "output_type": "stream",
     "text": [
      "Best Value for k: 1\n",
      "Accuracy: 0.6600985221674877\n",
      "Precision Score: [0.6        0.59602649 0.63829787]\n",
      "Recall Score: [0.78       0.91836735 0.14084507]\n",
      "Accuracy Score: 0.6009852216748769\n",
      "F1 Score: [0.67826087 0.72289157 0.23076923]\n",
      "              precision    recall  f1-score   support\n",
      "\n",
      "      indica       0.60      0.78      0.68       200\n",
      "      sativa       0.60      0.92      0.72       196\n",
      "      hybrid       0.64      0.14      0.23       213\n",
      "\n",
      "    accuracy                           0.60       609\n",
      "   macro avg       0.61      0.61      0.54       609\n",
      "weighted avg       0.61      0.60      0.54       609\n",
      "\n",
      "Predicted    0    1   2  All\n",
      "True                        \n",
      "0          156   33  11  200\n",
      "1           10  180   6  196\n",
      "2           94   89  30  213\n",
      "All        260  302  47  609\n"
     ]
    },
    {
     "data": {
      "text/plain": [
       "<matplotlib.axes._subplots.AxesSubplot at 0x1a3bd61978>"
      ]
     },
     "execution_count": 43,
     "metadata": {},
     "output_type": "execute_result"
    },
    {
     "data": {
      "text/plain": [
       "<Figure size 720x360 with 0 Axes>"
      ]
     },
     "metadata": {},
     "output_type": "display_data"
    },
    {
     "data": {
      "image/png": "[encoded data removed]",
      "text/plain": [
       "<Figure size 432x288 with 2 Axes>"
      ]
     },
     "metadata": {
      "needs_background": "light"
     },
     "output_type": "display_data"
    }
   ],
   "source": [
    "#Getting best KNN model (k=23, accuracy: 0.6010)\n",
    "find_best_k(scaled_data_train, y_train, scaled_data_test, y_test)\n",
    "clf1 = KNeighborsClassifier(n_neighbors=23)\n",
    "clf1.fit(scaled_data_train, y_train)\n",
    "test_preds = clf1.predict(scaled_data_test)\n",
    "print_metrics(y_test, test_preds)\n",
    "print(classification_report(y_test,test_preds,target_names=['indica','sativa','hybrid']))\n",
    "plt.figure(figsize=(10,5))\n",
    "plot_corr_matrix(y_test,test_preds,['Indica','Sativa','Hybrid'])"
   ]
  },
  {
   "cell_type": "code",
   "execution_count": 44,
   "metadata": {
    "scrolled": true
   },
   "outputs": [
    {
     "name": "stdout",
     "output_type": "stream",
     "text": [
      "Best Value for k: 1\n",
      "Accuracy: 0.6912972085385879\n",
      "Precision Score: [0.68145161 0.69019608 0.71698113]\n",
      "Recall Score: [0.845      0.89795918 0.35680751]\n",
      "Accuracy Score: 0.6912972085385879\n",
      "F1 Score: [0.75446429 0.7804878  0.47648903]\n",
      "Mean Cross Validation Score: 68.15%\n",
      "              precision    recall  f1-score   support\n",
      "\n",
      "      indica       0.68      0.84      0.75       200\n",
      "      sativa       0.69      0.90      0.78       196\n",
      "      hybrid       0.72      0.36      0.48       213\n",
      "\n",
      "    accuracy                           0.69       609\n",
      "   macro avg       0.70      0.70      0.67       609\n",
      "weighted avg       0.70      0.69      0.67       609\n",
      "\n",
      "Predicted    0    1    2  All\n",
      "True                         \n",
      "0          169   15   16  200\n",
      "1            6  176   14  196\n",
      "2           73   64   76  213\n",
      "All        248  255  106  609\n"
     ]
    },
    {
     "data": {
      "text/plain": [
       "<matplotlib.axes._subplots.AxesSubplot at 0x11ac68898>"
      ]
     },
     "execution_count": 44,
     "metadata": {},
     "output_type": "execute_result"
    },
    {
     "data": {
      "image/png": "[encoded data removed]",
      "text/plain": [
       "<Figure size 432x288 with 2 Axes>"
      ]
     },
     "metadata": {
      "needs_background": "light"
     },
     "output_type": "display_data"
    }
   ],
   "source": [
    "#Finding best k with selected features (k=40, accuracy: .6190)\n",
    "find_best_k(trainx, y_train, testx, y_test)\n",
    "clf1 = KNeighborsClassifier(n_neighbors=1)\n",
    "clf1.fit(trainx, y_train)\n",
    "test_preds = clf1.predict(testx)\n",
    "print_metrics(y_test, test_preds)\n",
    "dt_cv_score=cross_val_score(clf1, trainx, y_train)\n",
    "meandtcv=dt_cv_score.mean()\n",
    "print(\"Mean Cross Validation Score: {:.4}%\".format(meandtcv * 100))\n",
    "print(classification_report(y_test,test_preds,target_names=['indica','sativa','hybrid']))\n",
    "plot_corr_matrix(y_test,test_preds,['Indica','Sativa','Hybrid'])"
   ]
  },
  {
   "cell_type": "code",
   "execution_count": 47,
   "metadata": {},
   "outputs": [],
   "source": [
    "#Finding best k with PCA (k=1 accuracy: 0.66)\n",
    "find_best_k(Xptrain, yptrain, Xptest, yptest)\n",
    "clf1 = KNeighborsClassifier(n_neighbors=1)\n",
    "clf1.fit(Xptrain, yptrain)\n",
    "test_preds = clf1.predict(Xptest)\n",
    "print_metrics(yptest, test_preds)\n",
    "dt_cv_score=cross_val_score(clf1, Xptrain, yptrain)\n",
    "meandtcv=dt_cv_score.mean()\n",
    "print(\"Mean Cross Validation Score: {:.4}%\".format(meandtcv * 100))\n",
    "print(classification_report(yptest,test_preds,target_names=['indica','sativa','hybrid']))\n",
    "plot_corr_matrix(yptest,test_preds,['Indica','Sativa','Hybrid'])"
   ]
  },
  {
   "cell_type": "code",
   "execution_count": 48,
   "metadata": {},
   "outputs": [
    {
     "name": "stdout",
     "output_type": "stream",
     "text": [
      "Mean Cross Validation Score: 63.93%\n"
     ]
    },
    {
     "data": {
      "text/plain": [
       "GridSearchCV(cv=10, error_score=nan,\n",
       "             estimator=KNeighborsClassifier(algorithm='auto', leaf_size=30,\n",
       "                                            metric='minkowski',\n",
       "                                            metric_params=None, n_jobs=None,\n",
       "                                            n_neighbors=5, p=2,\n",
       "                                            weights='uniform'),\n",
       "             iid='deprecated', n_jobs=None,\n",
       "             param_grid={'n_neighbors': [1, 2, 3, 4, 5, 6, 7, 8, 9, 10, 11, 12,\n",
       "                                         13, 14, 15, 16, 17, 18, 19, 20, 21, 22,\n",
       "                                         23, 24, 25, 26, 27, 28, 29, 30],\n",
       "                         'weights': ['uniform', 'distance']},\n",
       "             pre_dispatch='2*n_jobs', refit=True, return_train_score=True,\n",
       "             scoring=None, verbose=0)"
      ]
     },
     "execution_count": 48,
     "metadata": {},
     "output_type": "execute_result"
    }
   ],
   "source": [
    "#Grid Search for KNN (k=30, weights=uniform, accuracy: 0.5747)\n",
    "model=KNeighborsClassifier()\n",
    "dt_cv_score=cross_val_score(model, scaled_data_train, y_train)\n",
    "meandtcv=dt_cv_score.mean()\n",
    "print(\"Mean Cross Validation Score: {:.4}%\".format(meandtcv * 100))\n",
    "\n",
    "dt_param_grid = {\n",
    "    'n_neighbors':list(range(1,31)),\n",
    "    'weights':['uniform','distance']\n",
    "}\n",
    "\n",
    "dt_grid_search = GridSearchCV(model, dt_param_grid, cv=10, return_train_score=True)\n",
    "dt_grid_search.fit(scaled_data_train, y_train.values)"
   ]
  },
  {
   "cell_type": "code",
   "execution_count": 50,
   "metadata": {},
   "outputs": [],
   "source": [
    "dt_gs_training_score = np.mean(dt_grid_search.cv_results_['mean_train_score'])\n",
    "dt_gs_testing_score = dt_grid_search.score(testx, y_test)"
   ]
  },
  {
   "cell_type": "code",
   "execution_count": 51,
   "metadata": {},
   "outputs": [
    {
     "name": "stdout",
     "output_type": "stream",
     "text": [
      "Precision Score: [0.57633588 0.57460317 0.5625    ]\n",
      "Recall Score: [0.755      0.92346939 0.08450704]\n",
      "Accuracy Score: 0.5747126436781609\n",
      "F1 Score: [0.65367965 0.70841487 0.14693878]\n",
      "Mean Cross Validation Score: 60.53%\n",
      "              precision    recall  f1-score   support\n",
      "\n",
      "      indica       0.58      0.76      0.65       200\n",
      "      sativa       0.57      0.92      0.71       196\n",
      "      hybrid       0.56      0.08      0.15       213\n",
      "\n",
      "    accuracy                           0.57       609\n",
      "   macro avg       0.57      0.59      0.50       609\n",
      "weighted avg       0.57      0.57      0.49       609\n",
      "\n",
      "Predicted    0    1   2  All\n",
      "True                        \n",
      "0          151   40   9  200\n",
      "1           10  181   5  196\n",
      "2          101   94  18  213\n",
      "All        262  315  32  609\n"
     ]
    },
    {
     "data": {
      "text/plain": [
       "<matplotlib.axes._subplots.AxesSubplot at 0x1a3c0f7e48>"
      ]
     },
     "execution_count": 51,
     "metadata": {},
     "output_type": "execute_result"
    },
    {
     "data": {
      "text/plain": [
       "<Figure size 720x360 with 0 Axes>"
      ]
     },
     "metadata": {},
     "output_type": "display_data"
    },
    {
     "data": {
      "image/png": "[encoded data removed]",
      "text/plain": [
       "<Figure size 432x288 with 2 Axes>"
      ]
     },
     "metadata": {
      "needs_background": "light"
     },
     "output_type": "display_data"
    }
   ],
   "source": [
    "clf1 = KNeighborsClassifier(n_neighbors=30, weights='uniform')\n",
    "clf1.fit(scaled_data_train, y_train)\n",
    "test_preds = clf1.predict(scaled_data_test)\n",
    "print_metrics(y_test, test_preds)\n",
    "dt_cv_score=cross_val_score(clf1, scaled_data_train, y_train)\n",
    "meandtcv=dt_cv_score.mean()\n",
    "print(\"Mean Cross Validation Score: {:.4}%\".format(meandtcv * 100))\n",
    "print(classification_report(y_test,test_preds,target_names=['indica','sativa','hybrid']))\n",
    "plt.figure(figsize=(10,5))\n",
    "plot_corr_matrix(y_test,test_preds,['Indica','Sativa','Hybrid'])"
   ]
  },
  {
   "cell_type": "code",
   "execution_count": 52,
   "metadata": {},
   "outputs": [
    {
     "name": "stdout",
     "output_type": "stream",
     "text": [
      "Mean Cross Validation Score: 64.91%\n"
     ]
    }
   ],
   "source": [
    "#Grid Search for KNN with selected features (k=28, uniform, accuracy: 0.622)\n",
    "dt_cv_score=cross_val_score(model, trainx, y_train)\n",
    "meandtcv=dt_cv_score.mean()\n",
    "print(\"Mean Cross Validation Score: {:.4}%\".format(meandtcv * 100))"
   ]
  },
  {
   "cell_type": "code",
   "execution_count": 53,
   "metadata": {
    "scrolled": true
   },
   "outputs": [],
   "source": [
    "dt_gs_training_score = np.mean(dt_grid_search.cv_results_['mean_train_score'])\n",
    "dt_gs_testing_score = dt_grid_search.score(testx, y_test)\n",
    "\n",
    "print(\"Mean Training Score: {:.4}%\".format(dt_gs_training_score * 100))\n",
    "print(\"Mean Testing Score: {:.4}%\".format(dt_gs_testing_score * 100))"
   ]
  },
  {
   "cell_type": "code",
   "execution_count": 54,
   "metadata": {},
   "outputs": [
    {
     "name": "stdout",
     "output_type": "stream",
     "text": [
      "Best Parameter Combination Found During Grid Search:\n",
      "Precision Score: [0.6043956  0.62758621 0.69565217]\n",
      "Recall Score: [0.825      0.92857143 0.15023474]\n",
      "Accuracy Score: 0.6223316912972086\n",
      "F1 Score: [0.69767442 0.74897119 0.24710425]\n",
      "Mean Cross Validation Score: 62.44%\n",
      "              precision    recall  f1-score   support\n",
      "\n",
      "      indica       0.60      0.82      0.70       200\n",
      "      sativa       0.63      0.93      0.75       196\n",
      "      hybrid       0.70      0.15      0.25       213\n",
      "\n",
      "    accuracy                           0.62       609\n",
      "   macro avg       0.64      0.63      0.56       609\n",
      "weighted avg       0.64      0.62      0.56       609\n",
      "\n",
      "Predicted    0    1   2  All\n",
      "True                        \n",
      "0          165   26   9  200\n",
      "1            9  182   5  196\n",
      "2           99   82  32  213\n",
      "All        273  290  46  609\n"
     ]
    },
    {
     "data": {
      "text/plain": [
       "<matplotlib.axes._subplots.AxesSubplot at 0x1a3c10c438>"
      ]
     },
     "execution_count": 54,
     "metadata": {},
     "output_type": "execute_result"
    },
    {
     "data": {
      "image/png": "[encoded data removed]",
      "text/plain": [
       "<Figure size 432x288 with 2 Axes>"
      ]
     },
     "metadata": {
      "needs_background": "light"
     },
     "output_type": "display_data"
    }
   ],
   "source": [
    "print(\"Best Parameter Combination Found During Grid Search:\")\n",
    "dt_grid_search.best_params_\n",
    "clf1 = KNeighborsClassifier(n_neighbors=28, weights='uniform')\n",
    "clf1.fit(trainx, y_train)\n",
    "test_preds = clf1.predict(testx)\n",
    "print_metrics(y_test, test_preds)\n",
    "dt_cv_score=cross_val_score(clf1, trainx, y_train)\n",
    "meandtcv=dt_cv_score.mean()\n",
    "print(\"Mean Cross Validation Score: {:.4}%\".format(meandtcv * 100))\n",
    "print(classification_report(y_test,test_preds,target_names=['indica','sativa','hybrid']))\n",
    "plot_corr_matrix(y_test,test_preds,['Indica','Sativa','Hybrid'])"
   ]
  },
  {
   "cell_type": "code",
   "execution_count": 55,
   "metadata": {},
   "outputs": [],
   "source": [
    "#Grid search with PCA(k=28,distance, accuracy: 0.5378)\n",
    "dt_cv_score=cross_val_score(model, Xptrain, yptrain)\n",
    "meandtcv=dt_cv_score.mean()\n",
    "print(\"Mean Cross Validation Score: {:.4}%\".format(meandtcv * 100))\n",
    "\n",
    "dt_param_grid = {\n",
    "    'n_neighbors':list(range(1,31)),\n",
    "    'weights':['uniform','distance']\n",
    "}\n",
    "\n",
    "dt_grid_search = GridSearchCV(model, dt_param_grid, cv=10, return_train_score=True)\n",
    "dt_grid_search.fit(Xptrain, yptrain)\n",
    "\n",
    "dt_gs_training_score = np.mean(dt_grid_search.cv_results_['mean_train_score'])\n",
    "dt_gs_testing_score = dt_grid_search.score(Xptest, yptest)\n",
    "\n",
    "print(\"Mean Training Score: {:.4}%\".format(dt_gs_training_score * 100))\n",
    "print(\"Mean Testing Score: {:.4}%\".format(dt_gs_testing_score * 100))\n",
    "print(\"Best Parameter Combination Found During Grid Search:\")\n",
    "dt_grid_search.best_params_\n",
    "clf1 = KNeighborsClassifier(n_neighbors=10,weights='distance')\n",
    "clf1.fit(Xptrain, yptrain)\n",
    "test_preds = clf1.predict(Xptest)\n",
    "print_metrics(yptest, test_preds)\n",
    "dt_cv_score=cross_val_score(clf1, Xptrain, yptrain)\n",
    "meandtcv=dt_cv_score.mean()\n",
    "print(\"Mean Cross Validation Score: {:.4}%\".format(meandtcv * 100))\n",
    "print(classification_report(yptest,test_preds,target_names=['indica','sativa','hybrid']))\n",
    "plot_corr_matrix(yptest,test_preds,['Indica','Sativa','Hybrid'])\n"
   ]
  },
  {
   "cell_type": "code",
   "execution_count": 56,
   "metadata": {},
   "outputs": [
    {
     "name": "stdout",
     "output_type": "stream",
     "text": [
      "Accuracy:  0.6748768472906403\n"
     ]
    }
   ],
   "source": [
    "#Decision Tree Baseline (accuracy: 0.6749)\n",
    "classifier1 = DecisionTreeClassifier()  \n",
    "classifier1.fit(scaled_data_train, y_train) \n",
    "y_pred = classifier1.predict(scaled_data_test)\n",
    "y_score = classifier1.score(scaled_data_test, y_test)\n",
    "print('Accuracy: ', y_score)"
   ]
  },
  {
   "cell_type": "code",
   "execution_count": null,
   "metadata": {},
   "outputs": [],
   "source": [
    "# Compute the average precision score\n",
    "micro_precision = precision_score(y_pred, y_test, average='micro')\n",
    "print('Micro-averaged precision score: {0:0.2f}'.format(\n",
    "      micro_precision))\n",
    "\n",
    "macro_precision = precision_score(y_pred, y_test, average='macro')\n",
    "print('Macro-averaged precision score: {0:0.2f}'.format(\n",
    "      macro_precision))\n",
    "\n",
    "per_class_precision = precision_score(y_pred, y_test, average=None)\n",
    "print('Per-class precision score:', per_class_precision)\n",
    "print_metrics(y_test,y_pred)\n",
    "print(classification_report(y_test,y_pred,target_names=['indica','sativa','hybrid']))\n",
    "plot_corr_matrix(y_test,y_pred,['Indica','Sativa','Hybrid'])"
   ]
  },
  {
   "cell_type": "code",
   "execution_count": null,
   "metadata": {},
   "outputs": [],
   "source": [
    "#Decision Tree with selected features (accuracy:0.6519)\n",
    "classifier2 = DecisionTreeClassifier()  \n",
    "classifier2.fit(trainx, y_train) \n",
    "y_pred = classifier2.predict(testx)\n",
    "y_score = classifier2.score(testx, y_test)\n",
    "print('Accuracy: ', y_score)\n",
    "\n",
    "# Compute the average precision score\n",
    "micro_precision = precision_score(y_pred, y_test, average='micro')\n",
    "print('Micro-averaged precision score: {0:0.2f}'.format(\n",
    "      micro_precision))\n",
    "\n",
    "macro_precision = precision_score(y_pred, y_test, average='macro')\n",
    "print('Macro-averaged precision score: {0:0.2f}'.format(\n",
    "      macro_precision))\n",
    "\n",
    "per_class_precision = precision_score(y_pred, y_test, average=None)\n",
    "print('Per-class precision score:', per_class_precision)\n",
    "print_metrics(y_test,y_pred)\n",
    "print(classification_report(y_test,y_pred,target_names=['indica','sativa','hybrid']))\n",
    "# roc(classifier1,df_train,df_test,y_train,y_test,n_classes)\n",
    "plot_corr_matrix(y_test,y_pred,['Indica','Sativa','Hybrid'])"
   ]
  },
  {
   "cell_type": "code",
   "execution_count": 63,
   "metadata": {},
   "outputs": [],
   "source": [
    "# #Decision Tree with PCA (accuracy: 0.6162)\n",
    "classifier1.fit(Xptrain, yptrain) \n",
    "y_pred = classifier1.predict(Xptest)\n",
    "y_score = classifier1.score(Xptest, yptest)\n",
    "print('Accuracy: ', y_score)\n",
    "\n",
    "\n",
    "# # Compute the average precision score\n",
    "micro_precision = precision_score(y_pred, yptest, average='micro')\n",
    "print('Micro-averaged precision score: {0:0.2f}'.format(\n",
    "      micro_precision))\n",
    "\n",
    "macro_precision = precision_score(y_pred, yptest, average='macro')\n",
    "print('Macro-averaged precision score: {0:0.2f}'.format(\n",
    "      macro_precision))\n",
    "\n",
    "per_class_precision = precision_score(y_pred, yptest, average=None)\n",
    "print('Per-class precision score:', per_class_precision)\n",
    "print_metrics(yptest,y_pred)\n",
    "print(classification_report(yptest,y_pred,target_names=['indica','sativa','hybrid']))\n",
    "# roc(classifier1,df_train,df_test,y_train,y_test,n_classes)\n",
    "plot_corr_matrix(yptest,y_pred,['Indica','Sativa','Hybrid'])"
   ]
  },
  {
   "cell_type": "code",
   "execution_count": null,
   "metadata": {},
   "outputs": [],
   "source": [
    "#Grid search Decision Tree: All features \n",
    "# (criterion='entropy',max_depth=3,min_samples_leaf=1,min_samples_split=2, accuracy: 0.6338)\n",
    "model=DecisionTreeClassifier()\n",
    "dt_cv_score=cross_val_score(model, scaled_data_train, y_train)\n",
    "meandtcv=dt_cv_score.mean()\n",
    "print(\"Mean Cross Validation Score: {:.4}%\".format(meandtcv * 100))\n",
    "\n",
    "dt_param_grid = {\n",
    "    'criterion':['entropy','gini'],\n",
    "    'max_depth':[None, 2, 3, 4, 5, 6],\n",
    "    'min_samples_split': [2, 5, 10],\n",
    "    'min_samples_leaf': [1, 2, 3, 4, 5, 6]   \n",
    "}\n",
    "\n",
    "dt_grid_search = GridSearchCV(model, dt_param_grid, cv=10, return_train_score=True)\n",
    "dt_grid_search.fit(scaled_data_train, y_train)\n",
    "\n",
    "dt_gs_training_score = np.mean(dt_grid_search.cv_results_['mean_train_score'])\n",
    "dt_gs_testing_score = dt_grid_search.score(scaled_data_test, y_test)\n",
    "\n",
    "print(\"Mean Training Score: {:.4}%\".format(dt_gs_training_score * 100))\n",
    "print(\"Mean Testing Score: {:.4}%\".format(dt_gs_testing_score * 100))\n",
    "print(\"Best Parameter Combination Found During Grid Search:\")\n",
    "dt_grid_search.best_params_\n",
    "\n",
    "classifier3 = DecisionTreeClassifier(criterion='entropy',max_depth=3,min_samples_leaf=1,min_samples_split=2)  \n",
    "classifier3.fit(scaled_data_train, y_train) \n",
    "\n",
    "y_pred = classifier3.predict(scaled_data_test)\n",
    "\n",
    "acc = accuracy_score(y_test,y_pred)\n",
    "print(\"Accuracy is: {}\".format(acc))\n",
    "\n",
    "micro_precision = precision_score(y_pred, y_test, average='micro')\n",
    "print('Micro-averaged precision score: {0:0.2f}'.format(\n",
    "      micro_precision))\n",
    "\n",
    "macro_precision = precision_score(y_pred, y_test, average='macro')\n",
    "print('Macro-averaged precision score: {0:0.2f}'.format(\n",
    "      macro_precision))\n",
    "\n",
    "per_class_precision = precision_score(y_pred, y_test, average=None)\n",
    "print('Per-class precision score:', per_class_precision)\n",
    "print_metrics(y_test,y_pred)\n",
    "print(classification_report(y_test,y_pred,target_names=['indica','sativa','hybrid']))\n",
    "# roc(classifier3,scaled_data_train,scaled_data_test,y_train,y_test,n_classes)\n",
    "plt.figure(figsize=(10,5))\n",
    "plot_corr_matrix(y_test,y_pred,['Indica','Sativa','Hybrid'])"
   ]
  },
  {
   "cell_type": "code",
   "execution_count": 70,
   "metadata": {
    "scrolled": true
   },
   "outputs": [
    {
     "name": "stdout",
     "output_type": "stream",
     "text": [
      "Mean Cross Validation Score: 63.93%\n",
      "Mean Training Score: 68.66%\n",
      "Mean Testing Score: 66.5%\n",
      "Best Parameter Combination Found During Grid Search:\n",
      "Accuracy is: 0.6338259441707718\n",
      "Micro-averaged precision score: 0.63\n",
      "Macro-averaged precision score: 0.64\n",
      "Per-class precision score: [0.765      0.68877551 0.4600939 ]\n",
      "Precision Score: [0.64016736 0.74585635 0.51851852]\n",
      "Recall Score: [0.765      0.68877551 0.4600939 ]\n",
      "Accuracy Score: 0.6338259441707718\n",
      "F1 Score: [0.69703872 0.71618037 0.48756219]\n",
      "              precision    recall  f1-score   support\n",
      "\n",
      "      indica       0.64      0.77      0.70       200\n",
      "      sativa       0.75      0.69      0.72       196\n",
      "      hybrid       0.52      0.46      0.49       213\n",
      "\n",
      "    accuracy                           0.63       609\n",
      "   macro avg       0.63      0.64      0.63       609\n",
      "weighted avg       0.63      0.63      0.63       609\n",
      "\n",
      "Predicted    0    1    2  All\n",
      "True                         \n",
      "0          153   10   37  200\n",
      "1            7  135   54  196\n",
      "2           79   36   98  213\n",
      "All        239  181  189  609\n"
     ]
    },
    {
     "data": {
      "text/plain": [
       "<matplotlib.axes._subplots.AxesSubplot at 0x1a3a597278>"
      ]
     },
     "execution_count": 70,
     "metadata": {},
     "output_type": "execute_result"
    },
    {
     "data": {
      "image/png": "[encoded data removed]",
      "text/plain": [
       "<Figure size 432x288 with 2 Axes>"
      ]
     },
     "metadata": {
      "needs_background": "light"
     },
     "output_type": "display_data"
    }
   ],
   "source": [
    "#Grid search decision tree with selected features \n",
    "# (criterion='entropy',max_depth=3,min_samples_leaf=1,min_samples_split=2, accuracy: 0.6483)\n",
    "\n",
    "model=DecisionTreeClassifier()\n",
    "dt_cv_score=cross_val_score(model, trainx, y_train)\n",
    "meandtcv=dt_cv_score.mean()\n",
    "print(\"Mean Cross Validation Score: {:.4}%\".format(meandtcv * 100))\n",
    "\n",
    "dt_param_grid = {\n",
    "    'criterion':['entropy','gini'],\n",
    "    'max_depth':[None, 2, 3, 4, 5, 6],\n",
    "    'min_samples_split': [2, 5, 10],\n",
    "    'min_samples_leaf': [1, 2, 3, 4, 5, 6]   \n",
    "}\n",
    "\n",
    "dt_grid_search = GridSearchCV(model, dt_param_grid, cv=10, return_train_score=True)\n",
    "dt_grid_search.fit(trainx, y_train)\n",
    "\n",
    "dt_gs_training_score = np.mean(dt_grid_search.cv_results_['mean_train_score'])\n",
    "dt_gs_testing_score = dt_grid_search.score(testx, y_test)\n",
    "\n",
    "print(\"Mean Training Score: {:.4}%\".format(dt_gs_training_score * 100))\n",
    "print(\"Mean Testing Score: {:.4}%\".format(dt_gs_testing_score * 100))\n",
    "print(\"Best Parameter Combination Found During Grid Search:\")\n",
    "dt_grid_search.best_params_\n",
    "classifier3 = DecisionTreeClassifier(criterion='entropy',max_depth=3,min_samples_leaf=1,min_samples_split=2)  \n",
    "classifier3.fit(trainx, y_train) \n",
    "y_pred = classifier3.predict(testx)\n",
    "acc = accuracy_score(y_test,y_pred)\n",
    "print(\"Accuracy is: {}\".format(acc))\n",
    "\n",
    "micro_precision = precision_score(y_pred, y_test, average='micro')\n",
    "print('Micro-averaged precision score: {0:0.2f}'.format(\n",
    "      micro_precision))\n",
    "\n",
    "macro_precision = precision_score(y_pred, y_test, average='macro')\n",
    "print('Macro-averaged precision score: {0:0.2f}'.format(\n",
    "      macro_precision))\n",
    "\n",
    "per_class_precision = precision_score(y_pred, y_test, average=None)\n",
    "print('Per-class precision score:', per_class_precision)\n",
    "print_metrics(y_test,y_pred)\n",
    "print(classification_report(y_test,y_pred,target_names=['indica','sativa','hybrid']))\n",
    "# roc(classifier3,df_train,df_test,y_train,y_test,n_classes)\n",
    "plot_corr_matrix(y_test,y_pred,['Indica','Sativa','Hybrid'])"
   ]
  },
  {
   "cell_type": "code",
   "execution_count": 95,
   "metadata": {
    "scrolled": true
   },
   "outputs": [
    {
     "name": "stdout",
     "output_type": "stream",
     "text": [
      "Mean Cross Validation Score: 58.97%\n"
     ]
    },
    {
     "name": "stderr",
     "output_type": "stream",
     "text": [
      "/Users/stephaniekendall/anaconda3/lib/python3.7/site-packages/sklearn/model_selection/_search.py:813: DeprecationWarning: The default of the `iid` parameter will change from True to False in version 0.22 and will be removed in 0.24. This will change numeric results when test-set sizes are unequal.\n",
      "  DeprecationWarning)\n"
     ]
    },
    {
     "name": "stdout",
     "output_type": "stream",
     "text": [
      "Mean Training Score: 59.73%\n",
      "Mean Testing Score: 61.87%\n",
      "Best Parameter Combination Found During Grid Search:\n",
      "Accuracy is: 0.5429292929292929\n",
      "Micro-averaged precision score: 0.54\n",
      "Macro-averaged precision score: 0.37\n",
      "Per-class precision score: [0.13513514 0.         0.96153846]\n",
      "Precision Score: [0.625      0.         0.53763441]\n",
      "Recall Score: [0.13513514 0.         0.96153846]\n",
      "Accuracy Score: 0.5429292929292929\n",
      "F1 Score: [0.22222222 0.         0.68965517]\n",
      "              precision    recall  f1-score   support\n",
      "\n",
      "      indica       0.62      0.14      0.22       111\n",
      "      satica       0.00      0.00      0.00        77\n",
      "      hybrid       0.54      0.96      0.69       208\n",
      "\n",
      "    accuracy                           0.54       396\n",
      "   macro avg       0.39      0.37      0.30       396\n",
      "weighted avg       0.46      0.54      0.42       396\n",
      "\n",
      "Predicted   0    2  All\n",
      "True                   \n",
      "0          15   96  111\n",
      "1           1   76   77\n",
      "2           8  200  208\n",
      "All        24  372  396\n"
     ]
    },
    {
     "data": {
      "text/plain": [
       "<matplotlib.axes._subplots.AxesSubplot at 0x1a17b0ecc0>"
      ]
     },
     "execution_count": 95,
     "metadata": {},
     "output_type": "execute_result"
    },
    {
     "data": {
      "image/png": "[encoded data removed]",
      "text/plain": [
       "<Figure size 432x288 with 2 Axes>"
      ]
     },
     "metadata": {
      "needs_background": "light"
     },
     "output_type": "display_data"
    }
   ],
   "source": [
    "#Grid search decision tree with PCA (criterion='entropy',max_depth=3,min_samples_leaf=1,min_samples_split=2, accuracy: 0.5581)\n",
    "model=DecisionTreeClassifier()\n",
    "dt_cv_score=cross_val_score(model, Xptrain, yptrain)\n",
    "meandtcv=dt_cv_score.mean()\n",
    "print(\"Mean Cross Validation Score: {:.4}%\".format(meandtcv * 100))\n",
    "\n",
    "dt_param_grid = {\n",
    "    'criterion':['entropy','gini'],\n",
    "    'max_depth':[None, 2, 3, 4, 5, 6],\n",
    "    'min_samples_split': [2, 5, 10],\n",
    "    'min_samples_leaf': [1, 2, 3, 4, 5, 6]   \n",
    "}\n",
    "\n",
    "dt_grid_search = GridSearchCV(model, dt_param_grid, cv=10, return_train_score=True)\n",
    "dt_grid_search.fit(Xptrain, yptrain)\n",
    "\n",
    "dt_gs_training_score = np.mean(dt_grid_search.cv_results_['mean_train_score'])\n",
    "dt_gs_testing_score = dt_grid_search.score(Xptest, yptest)\n",
    "\n",
    "print(\"Mean Training Score: {:.4}%\".format(dt_gs_training_score * 100))\n",
    "print(\"Mean Testing Score: {:.4}%\".format(dt_gs_testing_score * 100))\n",
    "print(\"Best Parameter Combination Found During Grid Search:\")\n",
    "dt_grid_search.best_params_\n",
    "classifier3 = DecisionTreeClassifier(criterion='entropy',max_depth=3,min_samples_leaf=1,min_samples_split=2)  \n",
    "classifier3.fit(Xptrain, yptrain) \n",
    "y_pred = classifier3.predict(Xptest)\n",
    "acc = accuracy_score(yptest,y_pred)\n",
    "print(\"Accuracy is: {}\".format(acc))\n",
    "\n",
    "micro_precision = precision_score(y_pred, yptest, average='micro')\n",
    "print('Micro-averaged precision score: {0:0.2f}'.format(\n",
    "      micro_precision))\n",
    "\n",
    "macro_precision = precision_score(y_pred, yptest, average='macro')\n",
    "print('Macro-averaged precision score: {0:0.2f}'.format(\n",
    "      macro_precision))\n",
    "\n",
    "per_class_precision = precision_score(y_pred, yptest, average=None)\n",
    "print('Per-class precision score:', per_class_precision)\n",
    "print_metrics(yptest,y_pred)\n",
    "print(classification_report(yptest,y_pred,target_names=['indica','sativa','hybrid']))\n",
    "# roc(classifier3,df_train,df_test,y_train,y_test,n_classes)\n",
    "plot_corr_matrix(y_test,y_pred,['Indica','Sativa','Hybrid'])\n"
   ]
  },
  {
   "cell_type": "code",
   "execution_count": 71,
   "metadata": {
    "scrolled": false
   },
   "outputs": [
    {
     "name": "stdout",
     "output_type": "stream",
     "text": [
      "Precision Score: [0.675      0.81122449 0.54460094]\n",
      "Recall Score: [0.66176471 0.76442308 0.58883249]\n",
      "Accuracy Score: 0.6732348111658456\n",
      "F1 Score: [0.66831683 0.78712871 0.56585366]\n",
      "              precision    recall  f1-score   support\n",
      "\n",
      "      indica       0.66      0.68      0.67       200\n",
      "      satica       0.76      0.81      0.79       196\n",
      "      hybrid       0.59      0.54      0.57       213\n",
      "\n",
      "    accuracy                           0.67       609\n",
      "   macro avg       0.67      0.68      0.67       609\n",
      "weighted avg       0.67      0.67      0.67       609\n",
      "\n",
      "Predicted    0    1    2  All\n",
      "True                         \n",
      "0          135   13   52  200\n",
      "1            8  159   29  196\n",
      "2           61   36  116  213\n",
      "All        204  208  197  609\n"
     ]
    },
    {
     "data": {
      "text/plain": [
       "<matplotlib.axes._subplots.AxesSubplot at 0x1a3d3d82b0>"
      ]
     },
     "execution_count": 71,
     "metadata": {},
     "output_type": "execute_result"
    },
    {
     "data": {
      "image/png": "[encoded data removed]",
      "text/plain": [
       "<Figure size 576x576 with 1 Axes>"
      ]
     },
     "metadata": {
      "needs_background": "light"
     },
     "output_type": "display_data"
    },
    {
     "data": {
      "image/png": "[encoded data removed]",
      "text/plain": [
       "<Figure size 432x288 with 2 Axes>"
      ]
     },
     "metadata": {
      "needs_background": "light"
     },
     "output_type": "display_data"
    }
   ],
   "source": [
    "#Random Forest Baseline (accuracy: 0.49)\n",
    "tree_clf = DecisionTreeClassifier() \n",
    "tree_clf.fit(scaled_data_train, y_train)\n",
    "y_pred=tree_clf.predict(scaled_data_test)\n",
    "# roc(tree_clf,scaled_data_train,scaled_data_test,y_train,y_test,n_classes)\n",
    "plot_feature_importances(tree_clf, pd.DataFrame(X_train), X_test, y_train, y_test)\n",
    "print_metrics(y_pred,y_test)\n",
    "print(classification_report(y_test,y_pred,target_names=['indica','sativa','hybrid']))\n",
    "plot_corr_matrix(y_test,y_pred,['Indica','Sativa','Hybrid'])\n"
   ]
  },
  {
   "cell_type": "code",
   "execution_count": 72,
   "metadata": {},
   "outputs": [
    {
     "name": "stdout",
     "output_type": "stream",
     "text": [
      "Precision Score: [0.73       0.75510204 0.46948357]\n",
      "Recall Score: [0.61864407 0.7047619  0.61349693]\n",
      "Accuracy Score: 0.6469622331691297\n",
      "F1 Score: [0.66972477 0.72906404 0.53191489]\n",
      "              precision    recall  f1-score   support\n",
      "\n",
      "      indica       0.62      0.73      0.67       200\n",
      "      sativa       0.70      0.76      0.73       196\n",
      "      hybrid       0.61      0.47      0.53       213\n",
      "\n",
      "    accuracy                           0.65       609\n",
      "   macro avg       0.65      0.65      0.64       609\n",
      "weighted avg       0.64      0.65      0.64       609\n",
      "\n",
      "Predicted    0    1    2  All\n",
      "True                         \n",
      "0          146   23   31  200\n",
      "1           16  148   32  196\n",
      "2           74   39  100  213\n",
      "All        236  210  163  609\n"
     ]
    },
    {
     "data": {
      "text/plain": [
       "<matplotlib.axes._subplots.AxesSubplot at 0x1a3ad12438>"
      ]
     },
     "execution_count": 72,
     "metadata": {},
     "output_type": "execute_result"
    },
    {
     "data": {
      "image/png": "[encoded data removed]",
      "text/plain": [
       "<Figure size 576x576 with 1 Axes>"
      ]
     },
     "metadata": {
      "needs_background": "light"
     },
     "output_type": "display_data"
    },
    {
     "data": {
      "image/png": "[encoded data removed]",
      "text/plain": [
       "<Figure size 432x288 with 2 Axes>"
      ]
     },
     "metadata": {
      "needs_background": "light"
     },
     "output_type": "display_data"
    }
   ],
   "source": [
    "#Random Forest w Selected features (accuracy: 0.6469)\n",
    "tree_clf = DecisionTreeClassifier(criterion = \"gini\", max_depth = 5) \n",
    "tree_clf.fit(trainx, y_train)\n",
    "y_preds=tree_clf.predict(testx)\n",
    "# roc(tree_clf,trainx,testx,y_train,y_test,n_classes)\n",
    "plot_feature_importances(tree_clf, trainx,  X_test, y_train, y_test)\n",
    "print_metrics(y_preds,y_test)\n",
    "print(classification_report(y_test,y_preds,target_names=['indica','sativa','hybrid']))\n",
    "plot_corr_matrix(y_test,y_preds,['Indica','Sativa','Hybrid'])\n"
   ]
  },
  {
   "cell_type": "code",
   "execution_count": 101,
   "metadata": {},
   "outputs": [
    {
     "name": "stdout",
     "output_type": "stream",
     "text": [
      "Precision Score: [0.14414414 0.         0.98076923]\n",
      "Recall Score: [0.69565217 0.         0.54986523]\n",
      "Accuracy Score: 0.5555555555555556\n",
      "F1 Score: [0.23880597 0.         0.70466321]\n",
      "              precision    recall  f1-score   support\n",
      "\n",
      "      indica       0.70      0.14      0.24       111\n",
      "      satica       0.00      0.00      0.00        77\n",
      "      hybrid       0.55      0.98      0.70       208\n",
      "\n",
      "    accuracy                           0.56       396\n",
      "   macro avg       0.42      0.37      0.31       396\n",
      "weighted avg       0.48      0.56      0.44       396\n",
      "\n",
      "Predicted   0  1    2  All\n",
      "True                      \n",
      "0          16  0   95  111\n",
      "1           5  0   72   77\n",
      "2           2  2  204  208\n",
      "All        23  2  371  396\n"
     ]
    },
    {
     "data": {
      "text/plain": [
       "<matplotlib.axes._subplots.AxesSubplot at 0x1a17779978>"
      ]
     },
     "execution_count": 101,
     "metadata": {},
     "output_type": "execute_result"
    },
    {
     "data": {
      "image/png": "[encoded data removed]",
      "text/plain": [
       "<Figure size 576x576 with 1 Axes>"
      ]
     },
     "metadata": {
      "needs_background": "light"
     },
     "output_type": "display_data"
    },
    {
     "data": {
      "image/png": "[encoded data removed]",
      "text/plain": [
       "<Figure size 432x288 with 2 Axes>"
      ]
     },
     "metadata": {
      "needs_background": "light"
     },
     "output_type": "display_data"
    }
   ],
   "source": [
    "#Random forest with PCA (accuracy: 0.5555)\n",
    "tree_clf = DecisionTreeClassifier(criterion = \"gini\", max_depth = 5) \n",
    "tree_clf.fit(Xptrain, yptrain)\n",
    "y_preds=tree_clf.predict(Xptest)\n",
    "# roc(tree_clf,df_train,df_test,y_train,y_test,n_classes)\n",
    "plot_feature_importances(tree_clf, Xptrain, Xptest, yptrain, yptest)\n",
    "print_metrics(y_preds,yptest)\n",
    "print(classification_report(yptest,y_preds,target_names=['indica','sativa','hybrid']))\n",
    "plot_corr_matrix(y_test,y_preds,['Indica','Sativa','Hybrid'])"
   ]
  },
  {
   "cell_type": "code",
   "execution_count": 73,
   "metadata": {
    "scrolled": true
   },
   "outputs": [
    {
     "name": "stdout",
     "output_type": "stream",
     "text": [
      "Training Score: 0.7494517543859649\n",
      "Testing Score: 0.7126436781609196\n",
      "Precision Score: [0.8        0.86734694 0.48826291]\n",
      "Recall Score: [0.70484581 0.72649573 0.7027027 ]\n",
      "Accuracy Score: 0.7126436781609196\n",
      "F1 Score: [0.74941452 0.79069767 0.57617729]\n",
      "              precision    recall  f1-score   support\n",
      "\n",
      "      indica       0.70      0.80      0.75       200\n",
      "      sativa       0.73      0.87      0.79       196\n",
      "      hybrid       0.70      0.49      0.58       213\n",
      "\n",
      "    accuracy                           0.71       609\n",
      "   macro avg       0.71      0.72      0.71       609\n",
      "weighted avg       0.71      0.71      0.70       609\n",
      "\n",
      "Predicted    0    1    2  All\n",
      "True                         \n",
      "0          160   11   29  200\n",
      "1           11  170   15  196\n",
      "2           56   53  104  213\n",
      "All        227  234  148  609\n"
     ]
    },
    {
     "data": {
      "text/plain": [
       "<Figure size 720x360 with 0 Axes>"
      ]
     },
     "metadata": {},
     "output_type": "display_data"
    },
    {
     "data": {
      "image/png": "[encoded data removed]",
      "text/plain": [
       "<Figure size 432x288 with 2 Axes>"
      ]
     },
     "metadata": {
      "needs_background": "light"
     },
     "output_type": "display_data"
    },
    {
     "data": {
      "image/png": "[encoded data removed]",
      "text/plain": [
       "<Figure size 576x576 with 1 Axes>"
      ]
     },
     "metadata": {
      "needs_background": "light"
     },
     "output_type": "display_data"
    }
   ],
   "source": [
    "#forest with different parameters (accuracy: 0.7126)\n",
    "forest = RandomForestClassifier(n_estimators=100, max_depth= 5)\n",
    "forest.fit(scaled_data_train, y_train)\n",
    "y_pred=forest.predict(scaled_data_test)\n",
    "train_score=forest.score(scaled_data_train,y_train)\n",
    "test_score=forest.score(scaled_data_test,y_test)\n",
    "print('Training Score: {}'.format(train_score))\n",
    "print('Testing Score: {}'.format(test_score))\n",
    "print_metrics(y_pred,y_test)\n",
    "print(classification_report(y_test,y_pred,target_names=['indica','sativa','hybrid']))\n",
    "plt.figure(figsize=(10,5))\n",
    "plot_corr_matrix(y_test,y_pred,['Indica','Sativa','Hybrid'])\n",
    "plot_feature_importances(forest,pd.DataFrame(X_train),X_test, y_train, y_test)"
   ]
  },
  {
   "cell_type": "code",
   "execution_count": 74,
   "metadata": {},
   "outputs": [
    {
     "name": "stdout",
     "output_type": "stream",
     "text": [
      "Training Score: 0.7341008771929824\n",
      "Testing Score: 0.7126436781609196\n",
      "              precision    recall  f1-score   support\n",
      "\n",
      "      indica       0.71      0.79      0.75       200\n",
      "      satica       0.74      0.83      0.78       196\n",
      "      hybrid       0.68      0.53      0.60       213\n",
      "\n",
      "    accuracy                           0.71       609\n",
      "   macro avg       0.71      0.72      0.71       609\n",
      "weighted avg       0.71      0.71      0.71       609\n",
      "\n",
      "Precision Score: [0.79       0.83163265 0.53051643]\n",
      "Recall Score: [0.70852018 0.74090909 0.68072289]\n",
      "Accuracy Score: 0.7126436781609196\n",
      "F1 Score: [0.74704492 0.78365385 0.59630607]\n",
      "Predicted    0    1    2  All\n",
      "True                         \n",
      "0          158   11   31  200\n",
      "1           11  163   22  196\n",
      "2           54   46  113  213\n",
      "All        223  220  166  609\n"
     ]
    },
    {
     "data": {
      "text/plain": [
       "<matplotlib.axes._subplots.AxesSubplot at 0x1a3e94ebe0>"
      ]
     },
     "execution_count": 74,
     "metadata": {},
     "output_type": "execute_result"
    },
    {
     "data": {
      "image/png": "[encoded data removed]",
      "text/plain": [
       "<Figure size 576x576 with 1 Axes>"
      ]
     },
     "metadata": {
      "needs_background": "light"
     },
     "output_type": "display_data"
    },
    {
     "data": {
      "text/plain": [
       "<Figure size 720x432 with 0 Axes>"
      ]
     },
     "metadata": {},
     "output_type": "display_data"
    },
    {
     "data": {
      "image/png": "[encoded data removed]",
      "text/plain": [
       "<Figure size 432x288 with 2 Axes>"
      ]
     },
     "metadata": {
      "needs_background": "light"
     },
     "output_type": "display_data"
    }
   ],
   "source": [
    "#forest with different parameters and selected features (accuracy: 0.7126)\n",
    "forest = RandomForestClassifier(n_estimators=100, max_depth= 5)\n",
    "forest.fit(trainx, y_train)\n",
    "y_pred=forest.predict(testx)\n",
    "train_score=forest.score(trainx,y_train)\n",
    "test_score=forest.score(testx,y_test)\n",
    "print('Training Score: {}'.format(train_score))\n",
    "print('Testing Score: {}'.format(test_score))\n",
    "print(classification_report(y_test,y_pred,target_names=['indica','sativa','hybrid']))\n",
    "print_metrics(y_pred,y_test)\n",
    "plot_feature_importances(forest,pd.DataFrame(trainx), X_test, y_train, y_test)\n",
    "plt.figure(figsize=(10,6))\n",
    "plot_corr_matrix(y_test,y_pred,['Indica','Sativa','Hybrid'])"
   ]
  },
  {
   "cell_type": "code",
   "execution_count": 119,
   "metadata": {},
   "outputs": [
    {
     "name": "stdout",
     "output_type": "stream",
     "text": [
      "Training Score: 0.5838247683235046\n",
      "Testing Score: 0.5681818181818182\n",
      "              precision    recall  f1-score   support\n",
      "\n",
      "      indica       0.79      0.20      0.32       111\n",
      "      sativa       0.00      0.00      0.00        77\n",
      "      hybrid       0.55      0.98      0.70       208\n",
      "\n",
      "    accuracy                           0.57       396\n",
      "   macro avg       0.45      0.39      0.34       396\n",
      "weighted avg       0.51      0.57      0.46       396\n",
      "\n",
      "Precision Score: [0.1981982  0.         0.97596154]\n",
      "Recall Score: [0.78571429 0.         0.55163043]\n",
      "Accuracy Score: 0.5681818181818182\n",
      "F1 Score: [0.31654676 0.         0.70486111]\n",
      "Predicted   0    2  All\n",
      "True                   \n",
      "0          22   89  111\n",
      "1           1   76   77\n",
      "2           5  203  208\n",
      "All        28  368  396\n"
     ]
    },
    {
     "data": {
      "text/plain": [
       "<matplotlib.axes._subplots.AxesSubplot at 0x1a199c3128>"
      ]
     },
     "execution_count": 119,
     "metadata": {},
     "output_type": "execute_result"
    },
    {
     "data": {
      "image/png": "[encoded data removed]",
      "text/plain": [
       "<Figure size 576x576 with 1 Axes>"
      ]
     },
     "metadata": {
      "needs_background": "light"
     },
     "output_type": "display_data"
    },
    {
     "data": {
      "image/png": "[encoded data removed]",
      "text/plain": [
       "<Figure size 432x288 with 2 Axes>"
      ]
     },
     "metadata": {
      "needs_background": "light"
     },
     "output_type": "display_data"
    }
   ],
   "source": [
    "#forest with different parameters and PCA (accuracy: 0.5682)\n",
    "forest = RandomForestClassifier(n_estimators=100, max_depth= 5)\n",
    "forest.fit(Xptrain, yptrain)\n",
    "y_pred=forest.predict(Xptest)\n",
    "train_score=forest.score(Xptrain,yptrain)\n",
    "test_score=forest.score(Xptest,yptest)\n",
    "print('Training Score: {}'.format(train_score))\n",
    "print('Testing Score: {}'.format(test_score))\n",
    "print(classification_report(yptest,y_pred,target_names=['indica','sativa','hybrid']))\n",
    "print_metrics(y_pred,yptest)\n",
    "plot_feature_importances(forest,pd.DataFrame(Xptrain), Xptest, yptrain, yptest)\n",
    "plot_corr_matrix(yptest,y_pred,['Indica','Sativa','Hybrid'])\n"
   ]
  },
  {
   "cell_type": "code",
   "execution_count": 75,
   "metadata": {},
   "outputs": [
    {
     "name": "stdout",
     "output_type": "stream",
     "text": [
      "Mean Cross Validation Score: 74.89%\n",
      "Mean Training Score: 68.27%\n",
      "Mean Testing Score: 70.77%\n",
      "Best Parameter Combination Found During Grid Search:\n",
      "Precision Score: [0.64782609 0.69294606 0.62318841]\n",
      "Recall Score: [0.745      0.85204082 0.40375587]\n",
      "Accuracy Score: 0.6600985221674877\n",
      "F1 Score: [0.69302326 0.76430206 0.49002849]\n",
      "              precision    recall  f1-score   support\n",
      "\n",
      "      indica       0.65      0.74      0.69       200\n",
      "      satica       0.69      0.85      0.76       196\n",
      "      hybrid       0.62      0.40      0.49       213\n",
      "\n",
      "    accuracy                           0.66       609\n",
      "   macro avg       0.65      0.67      0.65       609\n",
      "weighted avg       0.65      0.66      0.64       609\n",
      "\n",
      "Predicted    0    1    2  All\n",
      "True                         \n",
      "0          149   15   36  200\n",
      "1           13  167   16  196\n",
      "2           68   59   86  213\n",
      "All        230  241  138  609\n",
      "Training Score:  0.7182017543859649\n",
      "Testing Score:  0.6600985221674877\n"
     ]
    },
    {
     "data": {
      "image/png": "[encoded data removed]",
      "text/plain": [
       "<Figure size 576x576 with 1 Axes>"
      ]
     },
     "metadata": {
      "needs_background": "light"
     },
     "output_type": "display_data"
    },
    {
     "data": {
      "image/png": "[encoded data removed]",
      "text/plain": [
       "<Figure size 432x288 with 2 Axes>"
      ]
     },
     "metadata": {
      "needs_background": "light"
     },
     "output_type": "display_data"
    }
   ],
   "source": [
    "#Grid search forest \n",
    "#(criterion='gini', max_depth=6,min_samples_leaf=5,min_samples_split=5,n_estimators=8, accuracy: 0.6512)\n",
    "dt_clf=RandomForestClassifier()\n",
    "dt_cv_score=cross_val_score(dt_clf, scaled_data_train, y_train)\n",
    "meandtcv=dt_cv_score.mean()\n",
    "print(\"Mean Cross Validation Score: {:.4}%\".format(meandtcv * 100))\n",
    "dt_param_grid = {\n",
    "    'criterion': ['gini', 'entropy'],\n",
    "    'n_estimators':[1,2,3,4,5,6,7,8,9],\n",
    "    'max_depth': [None, 2, 3, 4, 5, 6],\n",
    "    'min_samples_split': [2, 5, 10],\n",
    "    'min_samples_leaf': [1, 2, 3, 4, 5]\n",
    "}\n",
    "dt_grid_search = GridSearchCV(dt_clf, dt_param_grid, cv=10, return_train_score=True)\n",
    "dt_grid_search.fit(scaled_data_train, y_train)\n",
    "dt_gs_training_score = np.mean(dt_grid_search.cv_results_['mean_train_score'])\n",
    "dt_gs_testing_score = dt_grid_search.score(scaled_data_test, y_test)\n",
    "\n",
    "print(\"Mean Training Score: {:.4}%\".format(dt_gs_training_score * 100))\n",
    "print(\"Mean Testing Score: {:.4}%\".format(dt_gs_testing_score * 100))\n",
    "print(\"Best Parameter Combination Found During Grid Search:\")\n",
    "dt_grid_search.best_params_\n",
    "\n",
    "forest3 = RandomForestClassifier(criterion='gini', max_depth=6,min_samples_leaf=5,min_samples_split=5,n_estimators=8)\n",
    "forest3.fit(scaled_data_train, y_train)\n",
    "y_pred=forest3.predict(scaled_data_test)\n",
    "y_pred=forest3.predict(scaled_data_test)\n",
    "print_metrics(y_test,y_pred)\n",
    "print(classification_report(y_test,y_pred,target_names=['indica','sativa','hybrid']))\n",
    "plot_feature_importances(forest3,pd.DataFrame(X_train),X_test, y_train, y_test)\n",
    "plot_corr_matrix(y_test,y_pred,['Indica','Sativa','Hybrid'])\n",
    "print(\"Training Score: \",forest3.score(scaled_data_train,y_train))\n",
    "print(\"Testing Score: \",forest3.score(scaled_data_test,y_test))\n",
    "\n"
   ]
  },
  {
   "cell_type": "code",
   "execution_count": 78,
   "metadata": {
    "collapsed": true
   },
   "outputs": [
    {
     "name": "stdout",
     "output_type": "stream",
     "text": [
      "Mean Cross Validation Score: 74.73%\n"
     ]
    },
    {
     "ename": "NameError",
     "evalue": "name 'df_test' is not defined",
     "output_type": "error",
     "traceback": [
      "\u001b[0;31m---------------------------------------------------------------------------\u001b[0m",
      "\u001b[0;31mNameError\u001b[0m                                 Traceback (most recent call last)",
      "\u001b[0;32m<ipython-input-78-a3b9cd2ddf88>\u001b[0m in \u001b[0;36m<module>\u001b[0;34m\u001b[0m\n\u001b[1;32m      9\u001b[0m \u001b[0mdt_grid_search\u001b[0m\u001b[0;34m.\u001b[0m\u001b[0mfit\u001b[0m\u001b[0;34m(\u001b[0m\u001b[0mX_train\u001b[0m\u001b[0;34m,\u001b[0m \u001b[0my_train\u001b[0m\u001b[0;34m)\u001b[0m\u001b[0;34m\u001b[0m\u001b[0;34m\u001b[0m\u001b[0m\n\u001b[1;32m     10\u001b[0m \u001b[0mdt_gs_training_score\u001b[0m \u001b[0;34m=\u001b[0m \u001b[0mnp\u001b[0m\u001b[0;34m.\u001b[0m\u001b[0mmean\u001b[0m\u001b[0;34m(\u001b[0m\u001b[0mdt_grid_search\u001b[0m\u001b[0;34m.\u001b[0m\u001b[0mcv_results_\u001b[0m\u001b[0;34m[\u001b[0m\u001b[0;34m'mean_train_score'\u001b[0m\u001b[0;34m]\u001b[0m\u001b[0;34m)\u001b[0m\u001b[0;34m\u001b[0m\u001b[0;34m\u001b[0m\u001b[0m\n\u001b[0;32m---> 11\u001b[0;31m \u001b[0mdt_gs_testing_score\u001b[0m \u001b[0;34m=\u001b[0m \u001b[0mdt_grid_search\u001b[0m\u001b[0;34m.\u001b[0m\u001b[0mscore\u001b[0m\u001b[0;34m(\u001b[0m\u001b[0mdf_test\u001b[0m\u001b[0;34m,\u001b[0m \u001b[0my_test\u001b[0m\u001b[0;34m)\u001b[0m\u001b[0;34m\u001b[0m\u001b[0;34m\u001b[0m\u001b[0m\n\u001b[0m\u001b[1;32m     12\u001b[0m \u001b[0;34m\u001b[0m\u001b[0m\n\u001b[1;32m     13\u001b[0m \u001b[0mprint\u001b[0m\u001b[0;34m(\u001b[0m\u001b[0;34m\"Mean Training Score: {:.4}%\"\u001b[0m\u001b[0;34m.\u001b[0m\u001b[0mformat\u001b[0m\u001b[0;34m(\u001b[0m\u001b[0mdt_gs_training_score\u001b[0m \u001b[0;34m*\u001b[0m \u001b[0;36m100\u001b[0m\u001b[0;34m)\u001b[0m\u001b[0;34m)\u001b[0m\u001b[0;34m\u001b[0m\u001b[0;34m\u001b[0m\u001b[0m\n",
      "\u001b[0;31mNameError\u001b[0m: name 'df_test' is not defined"
     ]
    }
   ],
   "source": [
    "#Grid Search Forest selected features \n",
    "#(criterion='gini', max_depth=4,min_samples_leaf=5,min_samples_split=10,n_estimators=5)\n",
    "# accuracy: 0.6541\n",
    "dt_clf=RandomForestClassifier()\n",
    "dt_cv_score=cross_val_score(dt_clf, X_train, y_train)\n",
    "meandtcv=dt_cv_score.mean()\n",
    "print(\"Mean Cross Validation Score: {:.4}%\".format(meandtcv * 100))\n",
    "dt_grid_search = GridSearchCV(dt_clf, dt_param_grid, cv=10, return_train_score=True)\n",
    "dt_grid_search.fit(X_train, y_train)\n",
    "dt_gs_training_score = np.mean(dt_grid_search.cv_results_['mean_train_score'])\n",
    "dt_gs_testing_score = dt_grid_search.score(df_test, y_test)\n",
    "\n",
    "print(\"Mean Training Score: {:.4}%\".format(dt_gs_training_score * 100))\n",
    "print(\"Mean Testing Score: {:.4}%\".format(dt_gs_testing_score * 100))\n",
    "print(\"Best Parameter Combination Found During Grid Search:\")\n",
    "dt_grid_search.best_params_\n",
    "forest3 = RandomForestClassifier(criterion='gini', max_depth=4,min_samples_leaf=5,min_samples_split=10,n_estimators=5)\n",
    "forest3.fit(scaled_data_train, y_train)\n",
    "y_pred=forest3.predict(scaled_data_test)\n",
    "y_pred=forest3.predict(scaled_data_test)\n",
    "print_metrics(y_test,y_pred)\n",
    "print(classification_report(y_test,y_pred,target_names=['indica','sativa','hybrid']))\n",
    "plot_feature_importances(forest3,pd.DataFrame(X_train), X_test, y_train, y_test)\n",
    "plt.figure(figsize=(10,5))\n",
    "plot_corr_matrix(y_test,y_pred,['Indica','Sativa','Hybrid'])\n",
    "plt.savefig('Visualizations/SelectedForestGridSearch.png')\n",
    "print(\"Training Score: \",forest3.score(scaled_data_train,y_train))\n",
    "print(\"Testing Score: \",forest3.score(scaled_data_test,y_test))"
   ]
  },
  {
   "cell_type": "code",
   "execution_count": 79,
   "metadata": {},
   "outputs": [
    {
     "name": "stdout",
     "output_type": "stream",
     "text": [
      "              precision    recall  f1-score   support\n",
      "\n",
      "      indica       0.71      0.74      0.73       200\n",
      "      sativa       0.87      0.73      0.80       196\n",
      "      hybrid       0.63      0.70      0.66       213\n",
      "\n",
      "    accuracy                           0.72       609\n",
      "   macro avg       0.74      0.72      0.73       609\n",
      "weighted avg       0.74      0.72      0.73       609\n",
      "\n",
      "Predicted    0    1    2  All\n",
      "True                         \n",
      "0          148    8   44  200\n",
      "1            8  144   44  196\n",
      "2           51   13  149  213\n",
      "All        207  165  237  609\n",
      "Precision Score: [0.71497585 0.87272727 0.62869198]\n",
      "Recall Score: [0.74       0.73469388 0.69953052]\n",
      "Accuracy Score: 0.7241379310344828\n",
      "F1 Score: [0.72727273 0.79778393 0.66222222]\n"
     ]
    },
    {
     "data": {
      "text/plain": [
       "<Figure size 720x432 with 0 Axes>"
      ]
     },
     "metadata": {},
     "output_type": "display_data"
    },
    {
     "data": {
      "image/png": "[encoded data removed]",
      "text/plain": [
       "<Figure size 432x288 with 2 Axes>"
      ]
     },
     "metadata": {
      "needs_background": "light"
     },
     "output_type": "display_data"
    }
   ],
   "source": [
    "#SVM Baseline (accuracy: 0.7241)\n",
    "clf = svm.SVC(kernel='linear')\n",
    "clf.fit(scaled_data_train, y_train)\n",
    "y_pred=clf.predict(scaled_data_test)\n",
    "print(classification_report(y_test,y_pred,target_names=['indica','sativa','hybrid']))\n",
    "plt.figure(figsize=(10,6))\n",
    "plot_corr_matrix(y_test,y_pred,['Indica','Sativa','Hybrid'])\n",
    "# plt.savefig('Visualizations/SVMmtx.png')\n",
    "print_metrics(y_test,y_pred)"
   ]
  },
  {
   "cell_type": "code",
   "execution_count": null,
   "metadata": {},
   "outputs": [],
   "source": [
    "#SVM PCA (accuracy: 0.5436)\n",
    "clf = svm.SVC(kernel='linear')\n",
    "clf.fit(Xptrain, yptrain)\n",
    "y_pred=clf.predict(Xptest)\n",
    "print(classification_report(yptest,y_pred,target_names=['indica','sativa','hybrid']))\n",
    "plt.figure(figsize=(10,6))\n",
    "plot_corr_matrix(yptest,y_pred,['Indica','Sativa','Hybrid'])\n",
    "plt.savefig('Visualizations/SVMPCAmtx.png')\n",
    "print_metrics(yptest,y_pred)"
   ]
  },
  {
   "cell_type": "code",
   "execution_count": 84,
   "metadata": {
    "scrolled": true
   },
   "outputs": [
    {
     "name": "stdout",
     "output_type": "stream",
     "text": [
      "              precision    recall  f1-score   support\n",
      "\n",
      "      indica       0.71      0.75      0.73       200\n",
      "      sativa       0.77      0.82      0.80       196\n",
      "      hybrid       0.66      0.60      0.63       213\n",
      "\n",
      "    accuracy                           0.72       609\n",
      "   macro avg       0.72      0.72      0.72       609\n",
      "weighted avg       0.72      0.72      0.72       609\n",
      "\n"
     ]
    }
   ],
   "source": [
    "#Naive Bayes Baseline (accuracy = .72)\n",
    "from sklearn.naive_bayes import BernoulliNB\n",
    "clf=BernoulliNB()\n",
    "clf.fit(scaled_data_train, y_train)\n",
    "y_pred=clf.predict(scaled_data_test)\n",
    "print(classification_report(y_test,y_pred,target_names=['indica','sativa','hybrid']))\n",
    "# plot_corr_matrix(scaled_data_train,y_train,['Indica','Sativa','Hybrid'])"
   ]
  },
  {
   "cell_type": "code",
   "execution_count": 82,
   "metadata": {},
   "outputs": [
    {
     "name": "stdout",
     "output_type": "stream",
     "text": [
      "              precision    recall  f1-score   support\n",
      "\n",
      "      indica       0.69      0.15      0.25       200\n",
      "      sativa       0.37      0.98      0.53       196\n",
      "      hybrid       0.55      0.11      0.18       213\n",
      "\n",
      "    accuracy                           0.40       609\n",
      "   macro avg       0.53      0.41      0.32       609\n",
      "weighted avg       0.54      0.40      0.32       609\n",
      "\n",
      "Predicted   0    1   2  All\n",
      "True                       \n",
      "0          31  153  16  200\n",
      "1           1  192   3  196\n",
      "2          13  177  23  213\n",
      "All        45  522  42  609\n",
      "Precision Score: [0.68888889 0.36781609 0.54761905]\n",
      "Recall Score: [0.155      0.97959184 0.10798122]\n",
      "Accuracy Score: 0.4039408866995074\n",
      "F1 Score: [0.25306122 0.53481894 0.18039216]\n"
     ]
    },
    {
     "data": {
      "image/png": "[encoded data removed]",
      "text/plain": [
       "<Figure size 432x288 with 2 Axes>"
      ]
     },
     "metadata": {
      "needs_background": "light"
     },
     "output_type": "display_data"
    }
   ],
   "source": [
    "#Gaussian Baseline (accuracy = .4039)\n",
    "\n",
    "clf=GaussianNB()\n",
    "clf.fit(scaled_data_train, y_train)\n",
    "y_pred=clf.predict(scaled_data_test)\n",
    "print(classification_report(y_test,y_pred,target_names=['indica','sativa','hybrid']))\n",
    "plot_corr_matrix(y_test,y_pred,['Indica','Sativa','Hybrid'])\n",
    "scaled_data_train=pd.DataFrame(scaled_data_train)\n",
    "scaled_data_test=pd.DataFrame(scaled_data_test)\n",
    "print_metrics(y_test,y_pred)"
   ]
  },
  {
   "cell_type": "code",
   "execution_count": null,
   "metadata": {},
   "outputs": [],
   "source": []
  }
 ],
 "metadata": {
  "kernelspec": {
   "display_name": "Python 3",
   "language": "python",
   "name": "python3"
  },
  "language_info": {
   "codemirror_mode": {
    "name": "ipython",
    "version": 3
   },
   "file_extension": ".py",
   "mimetype": "text/x-python",
   "name": "python",
   "nbconvert_exporter": "python",
   "pygments_lexer": "ipython3",
   "version": "3.7.3"
  },
  "toc": {
   "base_numbering": 1,
   "nav_menu": {},
   "number_sections": true,
   "sideBar": true,
   "skip_h1_title": false,
   "title_cell": "Table of Contents",
   "title_sidebar": "Contents",
   "toc_cell": false,
   "toc_position": {
    "height": "calc(100% - 180px)",
    "left": "10px",
    "top": "150px",
    "width": "177.913px"
   },
   "toc_section_display": true,
   "toc_window_display": true
  }
 },
 "nbformat": 4,
 "nbformat_minor": 2
}
