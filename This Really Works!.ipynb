{
 "cells": [
  {
   "cell_type": "code",
   "execution_count": 1,
   "metadata": {},
   "outputs": [],
   "source": [
    "import requests\n",
    "from bs4 import BeautifulSoup\n",
    "import pandas as pd"
   ]
  },
  {
   "cell_type": "code",
   "execution_count": null,
   "metadata": {},
   "outputs": [],
   "source": [
    "namelist,typelist,thclist, cbdlist=[],[],[],[]\n",
    "for i in range(1,63):\n",
    "    response=requests.get('https://www.wikileaf.com/strains/?page={}'.format(i))\n",
    "    soup=BeautifulSoup(response.content,'html.parser')\n",
    "    names=soup.findAll('h5',{'class':'name disp-title'})\n",
    "    types=soup.findAll('p',{'class':'tag'})\n",
    "    thcs=soup.findAll('p',{'class':'desc'})\n",
    "    \n",
    "    for n,x,t in zip(names,thcs,types):\n",
    "            namelist.append(n.text)\n",
    "            typelist.append(t.text)\n",
    "            thclist.append(x.text[4:].strip('%'))"
   ]
  },
  {
   "cell_type": "code",
   "execution_count": 42,
   "metadata": {},
   "outputs": [
    {
     "data": {
      "text/plain": [
       "['26',\n",
       " '26',\n",
       " '26',\n",
       " '23',\n",
       " '27% / CBD 0',\n",
       " '29% / CBD 2',\n",
       " '32',\n",
       " '22% / CBD 0',\n",
       " '24% / CBD 1',\n",
       " '25',\n",
       " '25',\n",
       " '16',\n",
       " '1% / CBD 12',\n",
       " '25',\n",
       " '20',\n",
       " '33',\n",
       " '26',\n",
       " '23',\n",
       " '20% / CBD 3',\n",
       " '18',\n",
       " '22',\n",
       " '25',\n",
       " '20',\n",
       " '18',\n",
       " '28',\n",
       " '22',\n",
       " '24',\n",
       " '24',\n",
       " '26',\n",
       " '26',\n",
       " '27',\n",
       " '19',\n",
       " '22% / CBD 2',\n",
       " '23',\n",
       " '20',\n",
       " '24',\n",
       " '28',\n",
       " '24',\n",
       " '18% / CBD 2',\n",
       " '17',\n",
       " '21',\n",
       " '20',\n",
       " '20',\n",
       " '24',\n",
       " '26',\n",
       " '28',\n",
       " '20',\n",
       " '28',\n",
       " '0',\n",
       " '23',\n",
       " '20',\n",
       " '20',\n",
       " '24',\n",
       " '20',\n",
       " '19',\n",
       " '22',\n",
       " '25',\n",
       " '25',\n",
       " '25',\n",
       " '18% / CBD 3',\n",
       " '20',\n",
       " '28',\n",
       " '17',\n",
       " '22']"
      ]
     },
     "execution_count": 42,
     "metadata": {},
     "output_type": "execute_result"
    }
   ],
   "source": [
    "thclist"
   ]
  },
  {
   "cell_type": "code",
   "execution_count": null,
   "metadata": {},
   "outputs": [],
   "source": []
  }
 ],
 "metadata": {
  "kernelspec": {
   "display_name": "Python 3",
   "language": "python",
   "name": "python3"
  },
  "language_info": {
   "codemirror_mode": {
    "name": "ipython",
    "version": 3
   },
   "file_extension": ".py",
   "mimetype": "text/x-python",
   "name": "python",
   "nbconvert_exporter": "python",
   "pygments_lexer": "ipython3",
   "version": "3.7.3"
  }
 },
 "nbformat": 4,
 "nbformat_minor": 2
}
