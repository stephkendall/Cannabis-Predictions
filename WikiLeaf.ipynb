{
 "cells": [
  {
   "cell_type": "code",
   "execution_count": 1,
   "metadata": {},
   "outputs": [],
   "source": [
    "import requests\n",
    "from bs4 import BeautifulSoup\n",
    "import pandas as pd"
   ]
  },
  {
   "cell_type": "code",
   "execution_count": 2,
   "metadata": {},
   "outputs": [],
   "source": [
    "namelist,typelist,thclist=[],[],[]\n",
    "for i in range(1,63):\n",
    "    response=requests.get('https://www.wikileaf.com/strains/?page={}'.format(i))\n",
    "    soup=BeautifulSoup(response.content,'html.parser')\n",
    "    names=soup.findAll('h5',{'class':'name disp-title'})\n",
    "    types=soup.findAll('p',{'class':'tag'})\n",
    "    thcs=soup.findAll('p',{'class':'desc'})\n",
    "    for n,x,t in zip(names,thcs,types):\n",
    "        namelist.append(n.text)\n",
    "        typelist.append(t.text)\n",
    "        thclist.append(int(x.text[3:6].strip('%')))\n",
    "        \n",
    "moreinfo={'name':namelist,'thc':thclist,'type':typelist}\n",
    "og=pd.DataFrame(moreinfo)\n",
    "\n",
    "cleaned = []\n",
    "for name in namelist:\n",
    "    clean = name.replace(' ','-').replace('.','').replace('#','').replace(\"'\",'').replace('·','').replace('$','').lower()\n",
    "    cleaner = clean.replace('do-si-dos','do-si-do').replace('granddaddy-purple','grand-daddy-purple')\n",
    "    cleaned.append(cleaner)"
   ]
  },
  {
   "cell_type": "code",
   "execution_count": 3,
   "metadata": {},
   "outputs": [],
   "source": [
    "urls = []\n",
    "for x in cleaned:\n",
    "    url = 'https://www.wikileaf.com/strain/{}'.format(x)\n",
    "    urls.append(url)"
   ]
  },
  {
   "cell_type": "code",
   "execution_count": null,
   "metadata": {},
   "outputs": [
    {
     "name": "stdout",
     "output_type": "stream",
     "text": [
      "0  Hindu Kush\n",
      "0  NYC Diesel\n",
      "0  Green Crack\n",
      "0  Lamb's Bread\n",
      "0  Jack the Ripper\n",
      "0  Sour Diesel\n",
      "2  Blue Dream\n",
      "0  Casey Jones\n",
      "0  White Widow\n",
      "0  Lemon Skunk\n",
      "0  Trainwreck\n",
      "0  Jack Herer\n",
      "0  Chemdawg\n",
      "0  Berry White\n",
      "0  Pineapple Express\n",
      "6  Lemon Kush\n",
      "0  Tahoe OG\n",
      "0  OG Kush\n",
      "1  Girl Scout Cookies\n",
      "0  Blue Cheese\n",
      "0  Skywalker\n",
      "0  Bubba Kush\n",
      "0  Grape Ape\n",
      "2  Violator Kush\n",
      "0  Northern Lights\n",
      "0  Wonder Woman\n",
      "15  Harlequin\n",
      "15  Pennywise\n",
      "0  Fruity Pebbles\n",
      "0  Strawberry Cough\n",
      "17  Cannatonic\n",
      "0  Purple Haze\n",
      "0  Durban Poison\n",
      "0  Death Star\n",
      "0  Sour Kush\n",
      "0  Granddaddy Purple\n",
      "0  Sour OG\n",
      "2  Khalifa Kush\n",
      "0  Gorilla Glue #4\n",
      "0  Tangie\n",
      "1  Larry OG\n",
      "0  Blue Cookies\n"
     ]
    }
   ],
   "source": [
    "cbdlist = []\n",
    "names1 = []\n",
    "for url in urls:\n",
    "    try:\n",
    "        response = requests.get(url)\n",
    "        if response.status_code != 200:\n",
    "            print('error on:' + x)\n",
    "            continue\n",
    "        soup = BeautifulSoup(response.content, 'html.parser')\n",
    "        cbd = soup.body.find('div', attrs={'class': 'cbd'})\n",
    "        names = soup.body.find('h3', attrs={'class': 'about-title'})\n",
    "\n",
    "        for span in soup.span.find_all('span', recursive=False):\n",
    "            span.attrs['title']\n",
    "            for c,n in zip(cbd, names):\n",
    "                cbdlist.append(c.text[3:5].strip('%'))\n",
    "                names1.append(n.text.strip('About'))\n",
    "        print(cbd.text[3:5].strip('%'),(names.text.strip('About')))\n",
    "        cbdlist.append(cbd.text[3:5].strip('%'))\n",
    "        names1.append(names.text.strip('About'))\n",
    "    except:\n",
    "        pass\n",
    "\n",
    "cbdinfo={'name':names1,'cbd':cbdlist}\n",
    "cbd=pd.DataFrame(cbdinfo)\n",
    "\n",
    "# this works"
   ]
  },
  {
   "cell_type": "code",
   "execution_count": 68,
   "metadata": {
    "scrolled": true
   },
   "outputs": [
    {
     "data": {
      "text/plain": [
       "[]"
      ]
     },
     "execution_count": 68,
     "metadata": {},
     "output_type": "execute_result"
    }
   ],
   "source": [
    "cbdlist"
   ]
  },
  {
   "cell_type": "code",
   "execution_count": 13,
   "metadata": {},
   "outputs": [],
   "source": [
    "moreinfo={'name':namelist,'thc':thclist,'type':typelist}\n",
    "df3=pd.DataFrame(moreinfo)\n",
    "\n",
    "df3.sort_values('thc',inplace=True)\n",
    "df3.reset_index(inplace=True)\n",
    "df3.drop(columns='index',inplace=True)\n",
    "\n",
    "cbdinfo={'names':names1, 'cbd':cbdlist}\n",
    "df4=pd.DataFrame(cbdinfo)"
   ]
  },
  {
   "cell_type": "code",
   "execution_count": 138,
   "metadata": {},
   "outputs": [],
   "source": [
    "cbdlist = []\n",
    "names1 = []\n",
    "for url in use:\n",
    "    response = requests.get(url)\n",
    "#         if response.status_code != 200:\n",
    "#             print('error on:' + x)\n",
    "#             continue\n",
    "    soup = BeautifulSoup(response.content, 'html.parser')\n",
    "    cbd = soup.body.find('div', attrs={'class': 'cbd'})\n",
    "    names = soup.body.find('h3', attrs={'class': 'about-title'})\n",
    "    \n",
    "    for span in soup.span.find_all('span', recursive=False):\n",
    "        span.attrs['title']\n",
    "        for c,n in zip(cbd, names):\n",
    "            cbdlist.append(c.text[3:5].strip('%'))\n",
    "            names1.append(n.text.strip('About'))\n",
    "    print(cbd.text[3:5].strip('%'),(names.text.strip('About')))\n",
    "    cbdlist.append(cbd.text[3:5].strip('%'))\n",
    "    names1.append(names.text.strip('About'))\n",
    "\n",
    "cbdinfo={'name':names1,'cbd':cbdlist}\n",
    "cbd=pd.DataFrame(cbdinfo)\n",
    "\n",
    "# this works"
   ]
  }
 ],
 "metadata": {
  "kernelspec": {
   "display_name": "Python 3",
   "language": "python",
   "name": "python3"
  },
  "language_info": {
   "codemirror_mode": {
    "name": "ipython",
    "version": 3
   },
   "file_extension": ".py",
   "mimetype": "text/x-python",
   "name": "python",
   "nbconvert_exporter": "python",
   "pygments_lexer": "ipython3",
   "version": "3.7.3"
  }
 },
 "nbformat": 4,
 "nbformat_minor": 2
}
